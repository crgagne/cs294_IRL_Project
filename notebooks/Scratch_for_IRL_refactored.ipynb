{
 "cells": [
  {
   "cell_type": "code",
   "execution_count": 21,
   "metadata": {},
   "outputs": [],
   "source": [
    "import sys\n",
    "sys.path.append('../crystal_quest/')\n",
    "sys.path.append('../dqn/')\n",
    "from gym import wrappers\n",
    "from atari_wrappers import *\n",
    "from dqn_utils import *\n",
    "import random\n",
    "import gym\n",
    "import sys\n",
    "import imp\n",
    "import crystal_quest_env as cq\n",
    "import reward_functions\n",
    "imp.reload(cq) # reload after making changes\n",
    "imp.reload(gym)\n",
    "imp.reload(wrappers)\n",
    "imp.reload(reward_functions)\n",
    "from reward_functions import *"
   ]
  },
  {
   "cell_type": "code",
   "execution_count": 22,
   "metadata": {},
   "outputs": [
    {
     "data": {
      "text/plain": [
       "<module 'crystal_quest_env' from '../crystal_quest/crystal_quest_env.py'>"
      ]
     },
     "execution_count": 22,
     "metadata": {},
     "output_type": "execute_result"
    }
   ],
   "source": [
    "sys.path.append('../crystal_quest/')\n",
    "import crystal_quest_env as cq\n",
    "import imp \n",
    "imp.reload(cq) # reload after making changes"
   ]
  },
  {
   "cell_type": "code",
   "execution_count": 23,
   "metadata": {
    "collapsed": true
   },
   "outputs": [],
   "source": [
    "# set up a tf session\n",
    "tf.reset_default_graph()\n",
    "tf_config = tf.ConfigProto(\n",
    "    inter_op_parallelism_threads=1,\n",
    "    intra_op_parallelism_threads=1)\n",
    "session = tf.Session(config=tf_config)"
   ]
  },
  {
   "cell_type": "code",
   "execution_count": 24,
   "metadata": {},
   "outputs": [],
   "source": [
    "reward_func = LinearRewardFunction(session)"
   ]
  },
  {
   "cell_type": "code",
   "execution_count": 25,
   "metadata": {
    "collapsed": true
   },
   "outputs": [],
   "source": [
    "env = cq.Wave1Env(num_aliens=1,num_crystals=10,num_asteroids=20,\n",
    "                  obs_type=3,relative_window=(25,25),\n",
    "                 reward_func=reward_func)\n",
    "obs = env.reset()"
   ]
  },
  {
   "cell_type": "code",
   "execution_count": 26,
   "metadata": {
    "collapsed": true
   },
   "outputs": [],
   "source": [
    "tf.global_variables_initializer().run(session=session)\n",
    "reward_func.set_phi(np.array([2.0,-2.0,-1.0]))"
   ]
  },
  {
   "cell_type": "code",
   "execution_count": 27,
   "metadata": {},
   "outputs": [
    {
     "data": {
      "text/plain": [
       "array([ 2., -2., -1.], dtype=float32)"
      ]
     },
     "execution_count": 27,
     "metadata": {},
     "output_type": "execute_result"
    }
   ],
   "source": [
    "reward_func.sess.run(reward_func.phi)"
   ]
  },
  {
   "cell_type": "code",
   "execution_count": 28,
   "metadata": {},
   "outputs": [
    {
     "data": {
      "text/plain": [
       "array([ 0.], dtype=float32)"
      ]
     },
     "execution_count": 28,
     "metadata": {},
     "output_type": "execute_result"
    }
   ],
   "source": [
    "reward_func.sess.run(reward_func.b)"
   ]
  },
  {
   "cell_type": "code",
   "execution_count": 29,
   "metadata": {},
   "outputs": [
    {
     "data": {
      "text/plain": [
       "(199, 3)"
      ]
     },
     "execution_count": 29,
     "metadata": {},
     "output_type": "execute_result"
    }
   ],
   "source": [
    "# load demonstration samples \n",
    "crystals = np.loadtxt('../dqn/cq_gr_truth1/gym/episode_crystals2017-11-25-15:50.txt')[-200:-1]\n",
    "aliens = np.loadtxt('../dqn/cq_gr_truth1/gym/episode_alien_collisions2017-11-25-15:50.txt')[-200:-1]\n",
    "asteroids = np.loadtxt('../dqn/cq_gr_truth1/gym/episode_asteroid_collisions2017-11-25-15:50.txt')[-200:-1]\n",
    "\n",
    "features_demo = np.vstack((crystals,aliens,asteroids)).T\n",
    "features_demo.shape"
   ]
  },
  {
   "cell_type": "code",
   "execution_count": 16,
   "metadata": {},
   "outputs": [
    {
     "name": "stdout",
     "output_type": "stream",
     "text": [
      "episodes 166\n"
     ]
    }
   ],
   "source": [
    "# generate background samples \n",
    "samp_episode_crystals = []\n",
    "samp_episode_alien = []\n",
    "samp_episode_asteroids = []\n",
    "obs = env.reset()\n",
    "episode_count = 0\n",
    "for i in range(100000):\n",
    "    obs,rew,done,info=env.step(env.action_space.sample())\n",
    "    if done:\n",
    "        samp_episode_crystals.append(env.episode_crystals_captured)\n",
    "        samp_episode_asteroids.append(env.episode_asteroid_collisions)\n",
    "        samp_episode_alien.append(env.episode_alien_collisions)\n",
    "        obs = env.reset()\n",
    "        episode_count+=1\n",
    "print('episodes %d' % episode_count)\n"
   ]
  },
  {
   "cell_type": "code",
   "execution_count": 17,
   "metadata": {},
   "outputs": [
    {
     "data": {
      "text/plain": [
       "(166, 3)"
      ]
     },
     "execution_count": 17,
     "metadata": {},
     "output_type": "execute_result"
    }
   ],
   "source": [
    "features_sample = np.vstack((samp_episode_crystals,samp_episode_alien,samp_episode_asteroids)).T\n",
    "features_sample.shape"
   ]
  },
  {
   "cell_type": "code",
   "execution_count": 18,
   "metadata": {},
   "outputs": [
    {
     "data": {
      "text/plain": [
       "array([ 84.24120603,   0.83919598,   1.68844221])"
      ]
     },
     "execution_count": 18,
     "metadata": {},
     "output_type": "execute_result"
    }
   ],
   "source": [
    "features_demo[:,:].mean(axis=0)"
   ]
  },
  {
   "cell_type": "code",
   "execution_count": 19,
   "metadata": {},
   "outputs": [
    {
     "data": {
      "text/plain": [
       "array([ 2.81927711,  0.53012048,  7.98795181])"
      ]
     },
     "execution_count": 19,
     "metadata": {},
     "output_type": "execute_result"
    }
   ],
   "source": [
    "features_sample.mean(axis=0)"
   ]
  },
  {
   "cell_type": "code",
   "execution_count": 30,
   "metadata": {},
   "outputs": [
    {
     "name": "stdout",
     "output_type": "stream",
     "text": [
      "learning rate 0.000100\n",
      "loss 80.767136\n",
      "phi:\n",
      "[ 2.00388598 -1.99997699 -1.00033545]\n",
      "bias\n",
      "[ 0.]\n",
      "learning rate 0.000100\n",
      "loss 250.890686\n",
      "phi:\n",
      "[ 6.0735631  -1.98458731 -1.31577384]\n",
      "bias\n",
      "[ 0.]\n",
      "learning rate 0.000100\n",
      "loss 418.516602\n",
      "phi:\n",
      "[ 10.14740372  -1.96894419  -1.63089478]\n",
      "bias\n",
      "[ 0.]\n",
      "learning rate 0.000100\n",
      "loss 600.964355\n",
      "phi:\n",
      "[ 14.22152615  -1.9533844   -1.94422662]\n",
      "bias\n",
      "[ 0.]\n",
      "learning rate 0.000100\n",
      "loss 758.769104\n",
      "phi:\n",
      "[ 18.28500748  -1.93798089  -2.25825858]\n",
      "bias\n",
      "[ 0.]\n",
      "learning rate 0.000100\n",
      "loss 939.779175\n",
      "phi:\n",
      "[ 22.35730362  -1.92273855  -2.5737834 ]\n",
      "bias\n",
      "[ 0.]\n",
      "learning rate 0.000100\n",
      "loss 1092.935669\n",
      "phi:\n",
      "[ 26.42816353  -1.90715599  -2.88816857]\n",
      "bias\n",
      "[ 0.]\n",
      "learning rate 0.000100\n",
      "loss 1256.373901\n",
      "phi:\n",
      "[ 30.48988342  -1.89205229  -3.20219898]\n",
      "bias\n",
      "[ 0.]\n",
      "learning rate 0.000100\n",
      "loss 1415.099731\n",
      "phi:\n",
      "[ 34.55975723  -1.87659717  -3.51722264]\n",
      "bias\n",
      "[ 0.]\n",
      "learning rate 0.000100\n",
      "loss 1628.081787\n",
      "phi:\n",
      "[ 38.62940979  -1.86104763  -3.83320212]\n",
      "bias\n",
      "[ 0.]\n"
     ]
    }
   ],
   "source": [
    "# update reward function \n",
    "batch_size=100\n",
    "K=10000\n",
    "for k in range(K):\n",
    "    batch_idx = np.random.choice(range(len(features_demo)),size=batch_size)\n",
    "    batch_idx_samp = np.random.choice(range(len(samp_episode_crystals)),size=batch_size)\n",
    "\n",
    "    loss = env.reward_func.update(features_demo[batch_idx,:],\n",
    "                        np.vstack((features_sample[batch_idx_samp,:],features_demo[batch_idx,:])))\n",
    "    \n",
    "    #loss = env.reward_func.update(features_demo[batch_idx,:],\n",
    "    #                              features_demo[batch_idx_samp,:])\n",
    "    \n",
    "    if k%1000==0:\n",
    "        print('learning rate %f' % env.reward_func.learning_rate)\n",
    "        print('loss %f' %loss)\n",
    "        phi = session.run(env.reward_func.phi)\n",
    "        print('phi:')\n",
    "        print(phi)\n",
    "        #print('weight change %f' % np.linalg.norm(phi-phi_last))\n",
    "        #phi=phi_last\n",
    "        print('bias')\n",
    "        bias = session.run(env.reward_func.b)\n",
    "        print(bias)"
   ]
  },
  {
   "cell_type": "code",
   "execution_count": 31,
   "metadata": {
    "collapsed": true
   },
   "outputs": [],
   "source": [
    "w = np.ones((np.shape(features_sample)[0],1))"
   ]
  },
  {
   "cell_type": "code",
   "execution_count": 32,
   "metadata": {},
   "outputs": [
    {
     "data": {
      "text/plain": [
       "array([ 42.69644165,  -1.84569561,  -4.14654589], dtype=float32)"
      ]
     },
     "execution_count": 32,
     "metadata": {},
     "output_type": "execute_result"
    }
   ],
   "source": [
    "phi = session.run(env.reward_func.phi)\n",
    "phi"
   ]
  },
  {
   "cell_type": "code",
   "execution_count": 33,
   "metadata": {},
   "outputs": [
    {
     "data": {
      "text/plain": [
       "array([[ 0,  0,  6],\n",
       "       [ 4,  0,  7],\n",
       "       [ 4,  3, 15],\n",
       "       [ 0,  1, 10],\n",
       "       [ 1,  0, 10]])"
      ]
     },
     "execution_count": 33,
     "metadata": {},
     "output_type": "execute_result"
    }
   ],
   "source": [
    "features_sample[0:5,:]"
   ]
  },
  {
   "cell_type": "markdown",
   "metadata": {},
   "source": [
    "### New features"
   ]
  },
  {
   "cell_type": "code",
   "execution_count": 60,
   "metadata": {
    "collapsed": true
   },
   "outputs": [],
   "source": [
    "import sys\n",
    "sys.path.append('../crystal_quest/')\n",
    "sys.path.append('../dqn/')\n",
    "from gym import wrappers\n",
    "from atari_wrappers import *\n",
    "from dqn_utils import *\n",
    "import random\n",
    "import gym\n",
    "import sys\n",
    "import imp\n",
    "import crystal_quest_env as cq\n",
    "import reward_functions\n",
    "imp.reload(cq) # reload after making changes\n",
    "imp.reload(gym)\n",
    "imp.reload(wrappers)\n",
    "imp.reload(reward_functions)\n",
    "from reward_functions import *"
   ]
  },
  {
   "cell_type": "code",
   "execution_count": 61,
   "metadata": {},
   "outputs": [
    {
     "data": {
      "text/plain": [
       "<module 'crystal_quest_env' from '../crystal_quest/crystal_quest_env.py'>"
      ]
     },
     "execution_count": 61,
     "metadata": {},
     "output_type": "execute_result"
    }
   ],
   "source": [
    "sys.path.append('../crystal_quest/')\n",
    "import crystal_quest_env as cq\n",
    "import imp \n",
    "imp.reload(cq) # reload after making changes"
   ]
  },
  {
   "cell_type": "code",
   "execution_count": 29,
   "metadata": {
    "collapsed": true
   },
   "outputs": [],
   "source": [
    "env = cq.Wave1Env(num_aliens=1,num_crystals=10,num_asteroids=20,\n",
    "                  obs_type=3,relative_window=(25,25))\n",
    "obs = env.reset()"
   ]
  },
  {
   "cell_type": "code",
   "execution_count": 30,
   "metadata": {},
   "outputs": [],
   "source": [
    "obs = env.reset()\n",
    "for t in range(100):\n",
    "    obs,rew,done,info=env.step(env.action_space.sample())\n",
    "    \n",
    "    if done:\n",
    "        env.reset()\n",
    "    "
   ]
  },
  {
   "cell_type": "code",
   "execution_count": 73,
   "metadata": {},
   "outputs": [
    {
     "name": "stdout",
     "output_type": "stream",
     "text": [
      "24.9401041667\n",
      "7.30989583333\n"
     ]
    }
   ],
   "source": [
    "print(env.episode_dist_closest_alien)\n",
    "print(env.episode_dist_closest_asteroid)\n",
    "# per time-step ... #"
   ]
  },
  {
   "cell_type": "code",
   "execution_count": 77,
   "metadata": {},
   "outputs": [
    {
     "data": {
      "text/plain": [
       "360.0"
      ]
     },
     "execution_count": 77,
     "metadata": {},
     "output_type": "execute_result"
    }
   ],
   "source": [
    "24*300*0.05"
   ]
  },
  {
   "cell_type": "code",
   "execution_count": 79,
   "metadata": {},
   "outputs": [],
   "source": [
    "#"
   ]
  },
  {
   "cell_type": "markdown",
   "metadata": {},
   "source": [
    "-these are typical random values. "
   ]
  },
  {
   "cell_type": "markdown",
   "metadata": {},
   "source": [
    "### Setting values"
   ]
  },
  {
   "cell_type": "code",
   "execution_count": 51,
   "metadata": {},
   "outputs": [],
   "source": [
    "# set up a tf session\n",
    "tf.reset_default_graph()\n",
    "tf_config = tf.ConfigProto(\n",
    "    inter_op_parallelism_threads=1,\n",
    "    intra_op_parallelism_threads=1)\n",
    "session = tf.Session(config=tf_config)\n",
    "\n",
    "# set up reward function\n",
    "reward_func = LinearRewardFunction(session,num_features=5)\n",
    "\n",
    "# set values. \n",
    "tf.global_variables_initializer().run(session=session)\n",
    "reward_func.set_phi(np.array([10.0,-20.0,-20.0,0.05,0.05]))"
   ]
  },
  {
   "cell_type": "code",
   "execution_count": 52,
   "metadata": {
    "collapsed": true
   },
   "outputs": [],
   "source": [
    "env = cq.Wave1Env(num_aliens=1,num_crystals=10,num_asteroids=20,\n",
    "                  obs_type=3,relative_window=(25,25),\n",
    "                 reward_func=reward_func,features=['crystal_captured',\n",
    "                    'asteroid_collision',\n",
    "                    'alien_collision',\n",
    "                  'dist_closest_asteroid',\n",
    "                 'dist_closest_alien'])"
   ]
  },
  {
   "cell_type": "code",
   "execution_count": 57,
   "metadata": {},
   "outputs": [],
   "source": [
    "obs = env.reset()\n",
    "for t in range(100):\n",
    "    obs,rew,done,info=env.step(env.action_space.sample())\n",
    "    print(rew)\n",
    "    #print(env.dist_closest_alien)\n",
    "    if done:\n",
    "        env.reset()"
   ]
  },
  {
   "cell_type": "code",
   "execution_count": 56,
   "metadata": {},
   "outputs": [
    {
     "name": "stdout",
     "output_type": "stream",
     "text": [
      "[[ 26.95000076]]\n"
     ]
    }
   ],
   "source": [
    "print(env.episode_rewards)"
   ]
  },
  {
   "cell_type": "markdown",
   "metadata": {},
   "source": [
    "### Stochastic Choice"
   ]
  },
  {
   "cell_type": "code",
   "execution_count": 62,
   "metadata": {
    "collapsed": true
   },
   "outputs": [],
   "source": [
    "env = cq.Wave1Env(num_aliens=1,num_crystals=10,num_asteroids=20,\n",
    "                  obs_type=3,relative_window=(25,25),\n",
    "                 reward_func=reward_func,features=['crystal_captured',\n",
    "                    'asteroid_collision',\n",
    "                    'alien_collision',\n",
    "                  'dist_closest_asteroid',\n",
    "                 'dist_closest_alien'],stochastic_actions=True)"
   ]
  },
  {
   "cell_type": "code",
   "execution_count": 72,
   "metadata": {},
   "outputs": [
    {
     "data": {
      "text/plain": [
       "array([[ 399.19995117]], dtype=float32)"
      ]
     },
     "execution_count": 72,
     "metadata": {},
     "output_type": "execute_result"
    }
   ],
   "source": [
    "obs = env.reset()\n",
    "for t in range(10000):\n",
    "    obs,rew,done,info=env.step(env.action_space.sample())\n",
    "    if done:\n",
    "        env.reset()\n",
    "env.episode_rewards"
   ]
  },
  {
   "cell_type": "markdown",
   "metadata": {},
   "source": [
    "# Read Back in Models "
   ]
  },
  {
   "cell_type": "code",
   "execution_count": 21,
   "metadata": {
    "collapsed": true
   },
   "outputs": [],
   "source": [
    "import matplotlib.pyplot as plt\n",
    "%matplotlib inline"
   ]
  },
  {
   "cell_type": "code",
   "execution_count": 1,
   "metadata": {
    "collapsed": true
   },
   "outputs": [],
   "source": [
    "import tensorflow as tf\n"
   ]
  },
  {
   "cell_type": "code",
   "execution_count": 2,
   "metadata": {
    "collapsed": true
   },
   "outputs": [],
   "source": [
    "sess = tf.Session()"
   ]
  },
  {
   "cell_type": "code",
   "execution_count": 3,
   "metadata": {
    "collapsed": true
   },
   "outputs": [],
   "source": [
    "saver = tf.train.import_meta_graph('../dqn/cq_gr_truth_new_setup/gym/model_weights2017-11-26-17:17.ckpt.meta')"
   ]
  },
  {
   "cell_type": "code",
   "execution_count": 4,
   "metadata": {},
   "outputs": [
    {
     "name": "stdout",
     "output_type": "stream",
     "text": [
      "INFO:tensorflow:Restoring parameters from /Users/chris/Desktop/irl_project/dqn/cq_gr_truth_new_setup/gym/model_weights2017-11-26-17:17.ckpt\n"
     ]
    }
   ],
   "source": [
    "saver.restore(sess,tf.train.latest_checkpoint('../dqn/cq_gr_truth_new_setup/gym/'))"
   ]
  },
  {
   "cell_type": "code",
   "execution_count": 5,
   "metadata": {
    "collapsed": true
   },
   "outputs": [],
   "source": [
    "graph = tf.get_default_graph()"
   ]
  },
  {
   "cell_type": "code",
   "execution_count": 6,
   "metadata": {},
   "outputs": [
    {
     "data": {
      "text/plain": [
       "['trainable_variables', 'train_op', 'model_variables', 'variables']"
      ]
     },
     "execution_count": 6,
     "metadata": {},
     "output_type": "execute_result"
    }
   ],
   "source": [
    "graph.get_all_collection_keys()\n"
   ]
  },
  {
   "cell_type": "code",
   "execution_count": 7,
   "metadata": {},
   "outputs": [
    {
     "data": {
      "text/plain": [
       "[<tf.Variable 'q_func/convnet/Conv/weights:0' shape=(8, 8, 12, 8) dtype=float32_ref>,\n",
       " <tf.Variable 'q_func/convnet/Conv/biases:0' shape=(8,) dtype=float32_ref>,\n",
       " <tf.Variable 'q_func/convnet/Conv_1/weights:0' shape=(4, 4, 8, 16) dtype=float32_ref>,\n",
       " <tf.Variable 'q_func/convnet/Conv_1/biases:0' shape=(16,) dtype=float32_ref>,\n",
       " <tf.Variable 'q_func/action_value/fully_connected/weights:0' shape=(256, 64) dtype=float32_ref>,\n",
       " <tf.Variable 'q_func/action_value/fully_connected/biases:0' shape=(64,) dtype=float32_ref>,\n",
       " <tf.Variable 'q_func/action_value/fully_connected_1/weights:0' shape=(64, 5) dtype=float32_ref>,\n",
       " <tf.Variable 'q_func/action_value/fully_connected_1/biases:0' shape=(5,) dtype=float32_ref>,\n",
       " <tf.Variable 'target_q_func/convnet/Conv/weights:0' shape=(8, 8, 12, 8) dtype=float32_ref>,\n",
       " <tf.Variable 'target_q_func/convnet/Conv/biases:0' shape=(8,) dtype=float32_ref>,\n",
       " <tf.Variable 'target_q_func/convnet/Conv_1/weights:0' shape=(4, 4, 8, 16) dtype=float32_ref>,\n",
       " <tf.Variable 'target_q_func/convnet/Conv_1/biases:0' shape=(16,) dtype=float32_ref>,\n",
       " <tf.Variable 'target_q_func/action_value/fully_connected/weights:0' shape=(256, 64) dtype=float32_ref>,\n",
       " <tf.Variable 'target_q_func/action_value/fully_connected/biases:0' shape=(64,) dtype=float32_ref>,\n",
       " <tf.Variable 'target_q_func/action_value/fully_connected_1/weights:0' shape=(64, 5) dtype=float32_ref>,\n",
       " <tf.Variable 'target_q_func/action_value/fully_connected_1/biases:0' shape=(5,) dtype=float32_ref>]"
      ]
     },
     "execution_count": 7,
     "metadata": {},
     "output_type": "execute_result"
    }
   ],
   "source": [
    "graph.get_collection('model_variables')"
   ]
  },
  {
   "cell_type": "code",
   "execution_count": 16,
   "metadata": {},
   "outputs": [
    {
     "data": {
      "text/plain": [
       "(256, 64)"
      ]
     },
     "execution_count": 16,
     "metadata": {},
     "output_type": "execute_result"
    }
   ],
   "source": [
    "fc = sess.run(graph.get_tensor_by_name('q_func/action_value/fully_connected/weights:0'))\n",
    "fc.shape"
   ]
  },
  {
   "cell_type": "code",
   "execution_count": 20,
   "metadata": {},
   "outputs": [
    {
     "data": {
      "text/plain": [
       "(8, 8, 12, 8)"
      ]
     },
     "execution_count": 20,
     "metadata": {},
     "output_type": "execute_result"
    }
   ],
   "source": [
    "conv1 = sess.run(graph.get_tensor_by_name('q_func/convnet/Conv/weights:0'))\n",
    "conv1.shape"
   ]
  },
  {
   "cell_type": "code",
   "execution_count": 39,
   "metadata": {},
   "outputs": [
    {
     "data": {
      "text/plain": [
       "<matplotlib.image.AxesImage at 0x1179787b8>"
      ]
     },
     "execution_count": 39,
     "metadata": {},
     "output_type": "execute_result"
    },
    {
     "data": {
      "image/png": "[encoded data removed]",
      "text/plain": [
       "<matplotlib.figure.Figure at 0x117826668>"
      ]
     },
     "metadata": {},
     "output_type": "display_data"
    }
   ],
   "source": [
    "plt.imshow(conv1[:,:,2,3])"
   ]
  }
 ],
 "metadata": {
  "kernelspec": {
   "display_name": "Python 3",
   "language": "python",
   "name": "python3"
  },
  "language_info": {
   "codemirror_mode": {
    "name": "ipython",
    "version": 3
   },
   "file_extension": ".py",
   "mimetype": "text/x-python",
   "name": "python",
   "nbconvert_exporter": "python",
   "pygments_lexer": "ipython3",
   "version": "3.5.4"
  }
 },
 "nbformat": 4,
 "nbformat_minor": 2
}
