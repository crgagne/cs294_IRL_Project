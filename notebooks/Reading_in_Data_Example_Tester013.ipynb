{
 "cells": [
  {
   "cell_type": "markdown",
   "metadata": {},
   "source": [
    "built in python 2 and requires MySQL. (uses my env_web conda env)"
   ]
  },
  {
   "cell_type": "markdown",
   "metadata": {},
   "source": [
    "Reading in from tester011 - me with no images"
   ]
  },
  {
   "cell_type": "code",
   "execution_count": 1,
   "metadata": {
    "collapsed": true
   },
   "outputs": [],
   "source": [
    "import sys\n",
    "sys.path.append('/Users/chris/anaconda/envs/env_web/lib/python2.7/site-packages',) "
   ]
  },
  {
   "cell_type": "code",
   "execution_count": 2,
   "metadata": {
    "collapsed": true
   },
   "outputs": [],
   "source": [
    "import os\n",
    "import json\n",
    "import base64\n",
    "import MySQLdb\n",
    "import _mysql\n",
    "import numpy as np\n",
    "import pandas as pd\n",
    "import matplotlib.pyplot as plt \n",
    "%matplotlib inline"
   ]
  },
  {
   "cell_type": "markdown",
   "metadata": {},
   "source": [
    "### Downloading JSON of a Single Episode"
   ]
  },
  {
   "cell_type": "code",
   "execution_count": 3,
   "metadata": {
    "collapsed": true
   },
   "outputs": [],
   "source": [
    "## Connect to DB\n",
    "db=_mysql.connect(host=\"christest.c5s5wgavsyu2.us-west-2.rds.amazonaws.com\",user=\"christest\",\n",
    "                  passwd=\"gags1313\",db=\"chrisdb\")\n"
   ]
  },
  {
   "cell_type": "code",
   "execution_count": 4,
   "metadata": {},
   "outputs": [
    {
     "name": "stdout",
     "output_type": "stream",
     "text": [
      "['id', 'save_time', 'wave', 'MID', 'AID', 'HID', 'session_id']\n"
     ]
    }
   ],
   "source": [
    "# get the header\n",
    "db.query(\"\"\"SELECT column_name FROM information_schema.columns WHERE table_name = 'web_experiments_crystalquest_wave'\"\"\")\n",
    "r=db.store_result() # sends the whole results\n",
    "header = r.fetch_row(0)\n",
    "header = [hh[0] for hh in header]\n",
    "print(header)"
   ]
  },
  {
   "cell_type": "code",
   "execution_count": 5,
   "metadata": {
    "collapsed": true
   },
   "outputs": [],
   "source": [
    "db.query(\"\"\"SELECT * FROM web_experiments_crystalquest_wave WHERE (MID LIKE \"tester013%\")\"\"\")\n",
    "r=db.store_result() # sends the whole results\n",
    "rows = r.fetch_row(100)\n"
   ]
  },
  {
   "cell_type": "code",
   "execution_count": 6,
   "metadata": {
    "collapsed": true
   },
   "outputs": [],
   "source": [
    "r =-1"
   ]
  },
  {
   "cell_type": "code",
   "execution_count": 7,
   "metadata": {},
   "outputs": [
    {
     "name": "stdout",
     "output_type": "stream",
     "text": [
      "tester013\n",
      "2017-11-20 02:16:43\n"
     ]
    }
   ],
   "source": [
    "MID = rows[r][header.index('MID')]\n",
    "print(MID)\n",
    "print(rows[r][header.index('save_time')])"
   ]
  },
  {
   "cell_type": "code",
   "execution_count": 8,
   "metadata": {},
   "outputs": [
    {
     "name": "stdout",
     "output_type": "stream",
     "text": [
      "2017-11-20_02:16:43\n"
     ]
    }
   ],
   "source": [
    "print(rows[r][header.index('save_time')].replace(' ','_'))"
   ]
  },
  {
   "cell_type": "code",
   "execution_count": 12,
   "metadata": {
    "collapsed": true
   },
   "outputs": [],
   "source": [
    "# make dir for subject\n",
    "diir='../data/'+str(rows[r][header.index('MID')])\n",
    "if not os.path.isdir(diir):\n",
    "    os.mkdir(diir)"
   ]
  },
  {
   "cell_type": "code",
   "execution_count": 13,
   "metadata": {
    "collapsed": true
   },
   "outputs": [],
   "source": [
    "# save out json\n",
    "date_for_save = rows[r][header.index('save_time')].replace(' ','_')\n",
    "filename=diir+'/'+date_for_save+'_data.json'\n",
    "obj = json.loads(rows[r][header.index('wave')])\n",
    "with open(filename, 'w') as outfile:\n",
    "        json.dump(obj, outfile)"
   ]
  },
  {
   "cell_type": "code",
   "execution_count": 14,
   "metadata": {},
   "outputs": [
    {
     "data": {
      "text/plain": [
       "['2017-11-20_02:16:43_data.json']"
      ]
     },
     "execution_count": 14,
     "metadata": {},
     "output_type": "execute_result"
    }
   ],
   "source": [
    "os.listdir('../data/tester013/')"
   ]
  },
  {
   "cell_type": "code",
   "execution_count": 15,
   "metadata": {
    "collapsed": true
   },
   "outputs": [],
   "source": [
    "# load back in \n",
    "with open(filename) as data_file:    \n",
    "    data = json.load(data_file)"
   ]
  },
  {
   "cell_type": "markdown",
   "metadata": {},
   "source": [
    "### Extract Game Info"
   ]
  },
  {
   "cell_type": "code",
   "execution_count": 17,
   "metadata": {},
   "outputs": [],
   "source": [
    "#data['1']"
   ]
  },
  {
   "cell_type": "code",
   "execution_count": 18,
   "metadata": {
    "collapsed": true
   },
   "outputs": [],
   "source": [
    "time_steps = data.keys()[:]\n",
    "time_steps.remove('guid')\n",
    "time_steps = [int(t)-1 for t in time_steps]\n"
   ]
  },
  {
   "cell_type": "code",
   "execution_count": 19,
   "metadata": {},
   "outputs": [
    {
     "data": {
      "text/plain": [
       "(39, 25, 592)"
      ]
     },
     "execution_count": 19,
     "metadata": {},
     "output_type": "execute_result"
    }
   ],
   "source": [
    "screen_dim = [780,500]\n",
    "discretize_size = 20 \n",
    "grid_size = tuple(np.array(screen_dim)/20)\n",
    "grid = np.zeros(grid_size+(len(time_steps),))\n",
    "grid.shape"
   ]
  },
  {
   "cell_type": "code",
   "execution_count": 20,
   "metadata": {
    "collapsed": true
   },
   "outputs": [],
   "source": [
    "grid_centers_x = [10,30,50,70,90,110,130,150,170,190,210,230,250,270,\n",
    "      290,310,330,350,370,390,410,430,450,470,490,510,530,550,570,590,610,630,650,670,\n",
    "      690,710,730,750,770]\n",
    "grid_centers_y = [10,30,50,70,90,110,130,150,170,190,210,230,250,270,\n",
    "    290,310,330,350,370,390,410,430,450,470,490]\n"
   ]
  },
  {
   "cell_type": "code",
   "execution_count": 21,
   "metadata": {
    "collapsed": true
   },
   "outputs": [],
   "source": [
    "# add ship\n",
    "for time_step in time_steps:\n",
    "    s=data[str(time_step+1)]['ship_position']\n",
    "    grid[grid_centers_x.index(s[0]),grid_centers_y.index(s[1]),time_step]=1"
   ]
  },
  {
   "cell_type": "code",
   "execution_count": 22,
   "metadata": {
    "collapsed": true
   },
   "outputs": [],
   "source": [
    "# add asteroids # \n",
    "asteroid_positions = data['1']['asteroid_positions']\n",
    "for ap in asteroid_positions:\n",
    "    grid[grid_centers_x.index(ap[0]+10),grid_centers_y.index(ap[1]+10),:]=2"
   ]
  },
  {
   "cell_type": "code",
   "execution_count": 23,
   "metadata": {
    "collapsed": true
   },
   "outputs": [],
   "source": [
    "# add crystals\n",
    "for time_step in time_steps:\n",
    "    cp = data[str(time_step+1)]['crystal_positions']\n",
    "    for c in cp: \n",
    "        grid[grid_centers_x.index(c[0]),grid_centers_y.index(c[1]),time_step]=3"
   ]
  },
  {
   "cell_type": "code",
   "execution_count": 26,
   "metadata": {
    "collapsed": true
   },
   "outputs": [],
   "source": [
    "def find_nearest(array,value):\n",
    "    idx = (np.abs(array-value)).argmin()\n",
    "    return array[idx]"
   ]
  },
  {
   "cell_type": "code",
   "execution_count": 27,
   "metadata": {
    "collapsed": true
   },
   "outputs": [],
   "source": [
    "# add alien \n",
    "for time_step in time_steps:\n",
    "    a=data[str(time_step+1)]['alien_positions'][0]\n",
    "    a0=find_nearest(np.array(grid_centers_x),a[0])\n",
    "    a1=find_nearest(np.array(grid_centers_y),a[1])\n",
    "    grid[grid_centers_x.index(a0),grid_centers_y.index(a1),time_step]=4"
   ]
  },
  {
   "cell_type": "code",
   "execution_count": 28,
   "metadata": {
    "collapsed": true
   },
   "outputs": [],
   "source": [
    "np.save(diir+'/'+'testgrid.npy',grid)"
   ]
  },
  {
   "cell_type": "code",
   "execution_count": 268,
   "metadata": {
    "collapsed": true
   },
   "outputs": [],
   "source": [
    "# see function \n",
    "# grid_movie_tester011.py\n",
    "# to plot a movie of this grid. "
   ]
  }
 ],
 "metadata": {
  "kernelspec": {
   "display_name": "Python 2",
   "language": "python",
   "name": "python2"
  },
  "language_info": {
   "codemirror_mode": {
    "name": "ipython",
    "version": 2
   },
   "file_extension": ".py",
   "mimetype": "text/x-python",
   "name": "python",
   "nbconvert_exporter": "python",
   "pygments_lexer": "ipython2",
   "version": "2.7.14"
  }
 },
 "nbformat": 4,
 "nbformat_minor": 2
}
