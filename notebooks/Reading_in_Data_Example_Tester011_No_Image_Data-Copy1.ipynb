{
 "cells": [
  {
   "cell_type": "markdown",
   "metadata": {},
   "source": [
    "built in python 2 and requires MySQL. (uses my env_web conda env)"
   ]
  },
  {
   "cell_type": "markdown",
   "metadata": {},
   "source": [
    "Reading in from tester011 - me with no images"
   ]
  },
  {
   "cell_type": "code",
   "execution_count": 95,
   "metadata": {
    "collapsed": true
   },
   "outputs": [],
   "source": [
    "import sys\n",
    "sys.path.append('/Users/chris/anaconda/envs/env_web/lib/python2.7/site-packages',) "
   ]
  },
  {
   "cell_type": "code",
   "execution_count": 96,
   "metadata": {
    "collapsed": true
   },
   "outputs": [],
   "source": [
    "import os\n",
    "import json\n",
    "import base64\n",
    "import MySQLdb\n",
    "import _mysql\n",
    "import numpy as np\n",
    "import pandas as pd\n",
    "import matplotlib.pyplot as plt \n",
    "%matplotlib inline"
   ]
  },
  {
   "cell_type": "markdown",
   "metadata": {},
   "source": [
    "### Downloading JSON of a Single Episode"
   ]
  },
  {
   "cell_type": "code",
   "execution_count": 97,
   "metadata": {
    "collapsed": true
   },
   "outputs": [],
   "source": [
    "## Connect to DB\n",
    "db=_mysql.connect(host=\"christest.c5s5wgavsyu2.us-west-2.rds.amazonaws.com\",user=\"christest\",\n",
    "                  passwd=\"gags1313\",db=\"chrisdb\")\n"
   ]
  },
  {
   "cell_type": "code",
   "execution_count": 98,
   "metadata": {},
   "outputs": [
    {
     "name": "stdout",
     "output_type": "stream",
     "text": [
      "['id', 'save_time', 'wave', 'MID', 'AID', 'HID', 'session_id']\n"
     ]
    }
   ],
   "source": [
    "# get the header\n",
    "db.query(\"\"\"SELECT column_name FROM information_schema.columns WHERE table_name = 'web_experiments_crystalquest_wave'\"\"\")\n",
    "r=db.store_result() # sends the whole results\n",
    "header = r.fetch_row(0)\n",
    "header = [hh[0] for hh in header]\n",
    "print(header)"
   ]
  },
  {
   "cell_type": "code",
   "execution_count": 99,
   "metadata": {
    "collapsed": true
   },
   "outputs": [],
   "source": [
    "db.query(\"\"\"SELECT * FROM web_experiments_crystalquest_wave WHERE (MID LIKE \"tester011%\")\"\"\")\n",
    "r=db.store_result() # sends the whole results\n",
    "rows = r.fetch_row(100)\n"
   ]
  },
  {
   "cell_type": "code",
   "execution_count": 100,
   "metadata": {
    "collapsed": true
   },
   "outputs": [],
   "source": [
    "r =-1"
   ]
  },
  {
   "cell_type": "code",
   "execution_count": 101,
   "metadata": {},
   "outputs": [
    {
     "name": "stdout",
     "output_type": "stream",
     "text": [
      "tester011\n",
      "2017-11-20 01:59:22\n"
     ]
    }
   ],
   "source": [
    "MID = rows[r][header.index('MID')]\n",
    "print(MID)\n",
    "print(rows[r][header.index('save_time')])"
   ]
  },
  {
   "cell_type": "code",
   "execution_count": 102,
   "metadata": {},
   "outputs": [
    {
     "name": "stdout",
     "output_type": "stream",
     "text": [
      "2017-11-20_01:59:22\n"
     ]
    }
   ],
   "source": [
    "print(rows[r][header.index('save_time')].replace(' ','_'))"
   ]
  },
  {
   "cell_type": "code",
   "execution_count": 103,
   "metadata": {
    "collapsed": true
   },
   "outputs": [],
   "source": [
    "# make dir for subject\n",
    "diir='../data/'+str(rows[r][header.index('MID')])\n",
    "if not os.path.isdir(diir):\n",
    "    os.mkdir(diir)"
   ]
  },
  {
   "cell_type": "code",
   "execution_count": 104,
   "metadata": {
    "collapsed": true
   },
   "outputs": [],
   "source": [
    "# save out json\n",
    "date_for_save = rows[r][header.index('save_time')].replace(' ','_')\n",
    "filename=diir+'/'+date_for_save+'_data.json'\n",
    "obj = json.loads(rows[r][header.index('wave')])\n",
    "with open(filename, 'w') as outfile:\n",
    "        json.dump(obj, outfile)"
   ]
  },
  {
   "cell_type": "code",
   "execution_count": 105,
   "metadata": {},
   "outputs": [
    {
     "data": {
      "text/plain": [
       "['2017-11-20_01:50:01_data.json',\n",
       " '2017-11-20_00:58:25_data.json',\n",
       " 'testgrid.npy',\n",
       " '2017-11-20_01:59:22_data.json',\n",
       " '2017-11-20_00:49:44_data.json',\n",
       " '2017-11-20_01:56:21_data.json',\n",
       " '2017-11-20_01:05:44_data.json',\n",
       " '2017-11-20_01:04:29_data.json',\n",
       " '2017-11-20_01:57:53_data.json',\n",
       " '2017-11-20_00:19:01_data.json',\n",
       " '2017-11-20_01:54:13_data.json']"
      ]
     },
     "execution_count": 105,
     "metadata": {},
     "output_type": "execute_result"
    }
   ],
   "source": [
    "os.listdir('../data/tester011/')"
   ]
  },
  {
   "cell_type": "code",
   "execution_count": 106,
   "metadata": {
    "collapsed": true
   },
   "outputs": [],
   "source": [
    "# load back in \n",
    "with open(filename) as data_file:    \n",
    "    data = json.load(data_file)"
   ]
  },
  {
   "cell_type": "markdown",
   "metadata": {},
   "source": [
    "### Extract Game Info"
   ]
  },
  {
   "cell_type": "code",
   "execution_count": 107,
   "metadata": {},
   "outputs": [
    {
     "data": {
      "text/plain": [
       "{u'alien_positions': [[770, 290]],\n",
       " u'asteroid_positions': [[400, 360],\n",
       "  [180, 140],\n",
       "  [200, 280],\n",
       "  [240, 0],\n",
       "  [460, 120],\n",
       "  [760, 160],\n",
       "  [640, 40],\n",
       "  [400, 140],\n",
       "  [520, 240],\n",
       "  [0, 480],\n",
       "  [380, 20],\n",
       "  [620, 260],\n",
       "  [220, 120],\n",
       "  [300, 180],\n",
       "  [360, 480],\n",
       "  [400, 40]],\n",
       " u'asteroid_width': 20,\n",
       " u'clock_time': u'00:00',\n",
       " u'crystal_positions': [[630, 30],\n",
       "  [30, 350],\n",
       "  [590, 270],\n",
       "  [290, 310],\n",
       "  [350, 350],\n",
       "  [130, 190],\n",
       "  [410, 290],\n",
       "  [510, 270],\n",
       "  [270, 370],\n",
       "  [250, 190]],\n",
       " u'elapsed_time': 102,\n",
       " u'game': 0,\n",
       " u'last_button_press': None,\n",
       " u'lives': 0,\n",
       " u'points': [],\n",
       " u'screen_dim': [780, 500],\n",
       " u'ship_position': [10, 30],\n",
       " u'wave': 1}"
      ]
     },
     "execution_count": 107,
     "metadata": {},
     "output_type": "execute_result"
    }
   ],
   "source": [
    "data['1']"
   ]
  },
  {
   "cell_type": "code",
   "execution_count": 108,
   "metadata": {
    "collapsed": true
   },
   "outputs": [],
   "source": [
    "time_steps = data.keys()[:]\n",
    "time_steps.remove('guid')\n",
    "time_steps = [int(t)-1 for t in time_steps]\n"
   ]
  },
  {
   "cell_type": "code",
   "execution_count": 109,
   "metadata": {},
   "outputs": [
    {
     "data": {
      "text/plain": [
       "(39, 25, 160)"
      ]
     },
     "execution_count": 109,
     "metadata": {},
     "output_type": "execute_result"
    }
   ],
   "source": [
    "screen_dim = [780,500]\n",
    "discretize_size = 20 \n",
    "grid_size = tuple(np.array(screen_dim)/20)\n",
    "grid = np.zeros(grid_size+(len(time_steps),))\n",
    "grid.shape"
   ]
  },
  {
   "cell_type": "code",
   "execution_count": 110,
   "metadata": {
    "collapsed": true
   },
   "outputs": [],
   "source": [
    "grid_centers_x = [10,30,50,70,90,110,130,150,170,190,210,230,250,270,\n",
    "      290,310,330,350,370,390,410,430,450,470,490,510,530,550,570,590,610,630,650,670,\n",
    "      690,710,730,750,770]\n",
    "grid_centers_y = [10,30,50,70,90,110,130,150,170,190,210,230,250,270,\n",
    "    290,310,330,350,370,390,410,430,450,470,490]\n"
   ]
  },
  {
   "cell_type": "code",
   "execution_count": 111,
   "metadata": {
    "collapsed": true
   },
   "outputs": [],
   "source": [
    "# add ship\n",
    "for time_step in time_steps:\n",
    "    s=data[str(time_step+1)]['ship_position']\n",
    "    grid[grid_centers_x.index(s[0]),grid_centers_y.index(s[1]),time_step]=1"
   ]
  },
  {
   "cell_type": "code",
   "execution_count": 112,
   "metadata": {},
   "outputs": [],
   "source": [
    "# add asteroids # \n",
    "asteroid_positions = data['1']['asteroid_positions']\n",
    "for ap in asteroid_positions:\n",
    "    grid[grid_centers_x.index(ap[0]+10),grid_centers_y.index(ap[1]+10),:]=2"
   ]
  },
  {
   "cell_type": "code",
   "execution_count": 113,
   "metadata": {
    "collapsed": true
   },
   "outputs": [],
   "source": [
    "# add crystals\n",
    "for time_step in time_steps:\n",
    "    cp = data[str(time_step+1)]['crystal_positions']\n",
    "    for c in cp: \n",
    "        grid[grid_centers_x.index(c[0]),grid_centers_y.index(c[1]),time_step]=3"
   ]
  },
  {
   "cell_type": "code",
   "execution_count": 114,
   "metadata": {},
   "outputs": [
    {
     "data": {
      "text/plain": [
       "46"
      ]
     },
     "execution_count": 114,
     "metadata": {},
     "output_type": "execute_result"
    }
   ],
   "source": [
    "time_step"
   ]
  },
  {
   "cell_type": "code",
   "execution_count": 120,
   "metadata": {},
   "outputs": [],
   "source": [
    "def find_nearest(array,value):\n",
    "    idx = (np.abs(array-value)).argmin()\n",
    "    return array[idx]"
   ]
  },
  {
   "cell_type": "code",
   "execution_count": 122,
   "metadata": {},
   "outputs": [
    {
     "data": {
      "text/plain": [
       "530"
      ]
     },
     "execution_count": 122,
     "metadata": {},
     "output_type": "execute_result"
    }
   ],
   "source": []
  },
  {
   "cell_type": "code",
   "execution_count": 127,
   "metadata": {},
   "outputs": [],
   "source": [
    "# add alien \n",
    "for time_step in time_steps:\n",
    "    a=data[str(time_step+1)]['alien_positions'][0]\n",
    "    a0=find_nearest(np.array(grid_centers_x),a[0])\n",
    "    a1=find_nearest(np.array(grid_centers_y),a[1])\n",
    "    grid[grid_centers_x.index(a0),grid_centers_y.index(a1),time_step]=4"
   ]
  },
  {
   "cell_type": "code",
   "execution_count": 130,
   "metadata": {
    "collapsed": true
   },
   "outputs": [],
   "source": [
    "np.save(diir+'/'+'testgrid.npy',grid)"
   ]
  },
  {
   "cell_type": "code",
   "execution_count": 268,
   "metadata": {
    "collapsed": true
   },
   "outputs": [],
   "source": [
    "# see function \n",
    "# grid_movie_tester011.py\n",
    "# to plot a movie of this grid. "
   ]
  }
 ],
 "metadata": {
  "kernelspec": {
   "display_name": "Python 2",
   "language": "python",
   "name": "python2"
  },
  "language_info": {
   "codemirror_mode": {
    "name": "ipython",
    "version": 2
   },
   "file_extension": ".py",
   "mimetype": "text/x-python",
   "name": "python",
   "nbconvert_exporter": "python",
   "pygments_lexer": "ipython2",
   "version": "2.7.14"
  }
 },
 "nbformat": 4,
 "nbformat_minor": 2
}
