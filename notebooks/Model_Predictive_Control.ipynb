{
 "cells": [
  {
   "cell_type": "code",
   "execution_count": 43,
   "metadata": {
    "collapsed": true
   },
   "outputs": [],
   "source": [
    "import sys\n",
    "sys.path.append('../dqn/')"
   ]
  },
  {
   "cell_type": "code",
   "execution_count": 44,
   "metadata": {},
   "outputs": [
    {
     "data": {
      "text/plain": [
       "<module 'gym.wrappers' from '/Users/chris/anaconda/envs/env_class_deepRL/lib/python3.5/site-packages/gym/wrappers/__init__.py'>"
      ]
     },
     "execution_count": 44,
     "metadata": {},
     "output_type": "execute_result"
    }
   ],
   "source": [
    "from gym import wrappers\n",
    "from atari_wrappers import *\n",
    "from dqn_utils import *\n",
    "import random\n",
    "import os.path as osp\n",
    "import gym\n",
    "import time\n",
    "import sys\n",
    "import imp\n",
    "import copy\n",
    "imp.reload(gym)\n",
    "imp.reload(wrappers)"
   ]
  },
  {
   "cell_type": "code",
   "execution_count": 45,
   "metadata": {},
   "outputs": [
    {
     "data": {
      "text/plain": [
       "<module 'crystal_quest_env' from '../crystal_quest/crystal_quest_env.py'>"
      ]
     },
     "execution_count": 45,
     "metadata": {},
     "output_type": "execute_result"
    }
   ],
   "source": [
    "sys.path.append('../crystal_quest/')\n",
    "import crystal_quest_env as cq\n",
    "import imp \n",
    "imp.reload(cq) # reload after making changes"
   ]
  },
  {
   "cell_type": "code",
   "execution_count": 46,
   "metadata": {
    "collapsed": true
   },
   "outputs": [],
   "source": [
    "import matplotlib.pyplot as plt\n",
    "%matplotlib inline"
   ]
  },
  {
   "cell_type": "markdown",
   "metadata": {},
   "source": [
    "# Random Actions Don't Cover that much space "
   ]
  },
  {
   "cell_type": "code",
   "execution_count": 47,
   "metadata": {},
   "outputs": [
    {
     "data": {
      "image/png": "[encoded data removed]",
      "text/plain": [
       "<matplotlib.figure.Figure at 0x132ea15f8>"
      ]
     },
     "metadata": {},
     "output_type": "display_data"
    }
   ],
   "source": [
    "\n",
    "plt.figure()\n",
    "ax = plt.gca()\n",
    "ax.set_xlim([-5,39])\n",
    "ax.set_ylim([-5,25])\n",
    "\n",
    "for traj in range(5):\n",
    "    env = cq.Wave1Env(num_aliens=1,num_crystals=20,num_asteroids=10,obs_type=0)\n",
    "    _=env.reset()\n",
    "    locations = np.array([0,0])\n",
    "    for i in range(10):\n",
    "        _,_,_,_=env.step(env.action_space.sample())\n",
    "        locations=np.vstack((locations,env.ship_location))\n",
    "    locations=locations[1:,]\n",
    "    plt.scatter(locations[:,0],locations[:,1]);"
   ]
  },
  {
   "cell_type": "markdown",
   "metadata": {},
   "source": [
    "# Better Random Trajectories"
   ]
  },
  {
   "cell_type": "code",
   "execution_count": 48,
   "metadata": {
    "collapsed": true
   },
   "outputs": [],
   "source": [
    "def sample_straight(): \n",
    "    # choose action 0 most of the time and then \n",
    "    return(np.argmax(np.random.multinomial(n=1,pvals=[0.4,0.15,0.15,0.15,0.15])==1))\n",
    "def sample_direction():\n",
    "    # choose one of the 4 directions to prevent trajectories from all starting the same direction\n",
    "    return(np.argmax(np.random.multinomial(n=1,pvals=[0.0,0.25,0.25,0.25,0.25])==1))"
   ]
  },
  {
   "cell_type": "code",
   "execution_count": 49,
   "metadata": {},
   "outputs": [
    {
     "data": {
      "image/png": "[encoded data removed]",
      "text/plain": [
       "<matplotlib.figure.Figure at 0x13310a5c0>"
      ]
     },
     "metadata": {},
     "output_type": "display_data"
    }
   ],
   "source": [
    "\n",
    "plt.figure()\n",
    "ax = plt.gca()\n",
    "ax.set_xlim([-5,39])\n",
    "ax.set_ylim([-5,25])\n",
    "\n",
    "for traj in range(5):\n",
    "    env = cq.Wave1Env(num_aliens=1,num_crystals=20,num_asteroids=10,obs_type=0)\n",
    "    _=env.reset()\n",
    "    locations = np.array([0,0])\n",
    "    for i in range(10):\n",
    "        if i==0:\n",
    "            _,_,_,_=env.step(sample_direction())\n",
    "        else:\n",
    "            _,_,_,_=env.step(sample_straight())\n",
    "            \n",
    "        locations=np.vstack((locations,env.ship_location))\n",
    "    locations=locations[1:,]\n",
    "    plt.scatter(locations[:,0],locations[:,1]);"
   ]
  },
  {
   "cell_type": "code",
   "execution_count": 107,
   "metadata": {
    "collapsed": true
   },
   "outputs": [],
   "source": [
    "def mpc(env,\n",
    "        horizon=10,\n",
    "    num_simulated_paths=5,\n",
    "    steps_to_plan=3,\n",
    "    sample_type=0,\n",
    "       gamma=.99):\n",
    "    \n",
    "    '''pass in current environment in which state is known and return best action'''\n",
    "\n",
    "    \n",
    "    # make a copy of the env. (this is hackash... should pass it in or something)\n",
    "    env_tmp = cq.Wave1Env(num_aliens=1,num_crystals=20,num_asteroids=10,obs_type=0,crystal_value=1,death_value=-1)\n",
    "    _ = env_tmp.reset()\n",
    "    \n",
    "    # set in same state \n",
    "    for attr in ['ship_location','ship_velocity','alien_locations','alien_velocities',\n",
    "            'crystal_locations','asteroid_locations']:\n",
    "        setattr(env_tmp,attr,copy.deepcopy(getattr(env,attr)))\n",
    "    \n",
    "    rewards = np.zeros(num_simulated_paths)\n",
    "    a1 = np.zeros((num_simulated_paths,horizon),dtype='int8')\n",
    "    for p in range(num_simulated_paths):\n",
    "        for t in range(horizon):\n",
    "            if sample_type==1:\n",
    "                if t==0:\n",
    "                    action = sample_direction()\n",
    "                else:\n",
    "                    action = sample_straight()\n",
    "            elif sample_type==0:\n",
    "                action= env.action_space.sample()\n",
    "                \n",
    "            a1[p,t]=action\n",
    "            _,rew,_,_=env_tmp.step(action)\n",
    "            rewards[p]+=rew*(gamma**t) # discount to help break ties? and go to closest\n",
    "    actions = a1[np.argmax(rewards),0:steps_to_plan]\n",
    "    \n",
    "    return(actions,rewards) # return best action \n",
    "\n"
   ]
  },
  {
   "cell_type": "code",
   "execution_count": 108,
   "metadata": {
    "collapsed": true
   },
   "outputs": [],
   "source": [
    "actions,rewards = mpc(env.env)"
   ]
  },
  {
   "cell_type": "code",
   "execution_count": 109,
   "metadata": {},
   "outputs": [
    {
     "data": {
      "text/plain": [
       "array([ 0.,  0.,  0.,  0.,  0.])"
      ]
     },
     "execution_count": 109,
     "metadata": {},
     "output_type": "execute_result"
    }
   ],
   "source": [
    "rewards"
   ]
  },
  {
   "cell_type": "markdown",
   "metadata": {},
   "source": [
    "## Testing the MPC \n",
    "\n",
    "- combinations do ok.. 10-15 crystals was the best I could get it to do consistently\n",
    "- planning step of 2 and then horizon 10, rollouts 10: yeilded 8 on average \n",
    "- planning step of 2 and then 10,10: yeilded 6 on average\n",
    "- breaking ties helps - gets up to a mean return of 13 with (1,5,10)** this is the best. \n",
    "- longer horizons did not work (1,10,20)\n",
    "- it still gets stuck oscillating between presumably two equally good plans. "
   ]
  },
  {
   "cell_type": "code",
   "execution_count": 117,
   "metadata": {},
   "outputs": [
    {
     "name": "stderr",
     "output_type": "stream",
     "text": [
      "[2017-11-23 23:02:17,843] Finished writing results. You can upload them to the scoreboard via gym.upload('/Users/chris/Desktop/irl_project/notebooks/mpc_test/gym')\n",
      "[2017-11-23 23:02:17,845] Trying to monitor an environment which has no 'spec' set. This usually means you did not create it via 'gym.make', and is recommended only for advanced users.\n",
      "[2017-11-23 23:02:17,847] Clearing 6 monitor files from previous run (because force=True was provided)\n",
      "[2017-11-23 23:02:17,851] Starting new video recorder writing to /Users/chris/Desktop/irl_project/notebooks/mpc_test/gym/openaigym.video.35.25265.video000000.mp4\n",
      "[2017-11-23 23:02:28,761] Starting new video recorder writing to /Users/chris/Desktop/irl_project/notebooks/mpc_test/gym/openaigym.video.35.25265.video000001.mp4\n"
     ]
    },
    {
     "name": "stdout",
     "output_type": "stream",
     "text": [
      "episode return 6\n",
      "episode return 8\n",
      "episode return 1\n",
      "episode return 4\n",
      "mean episode return 4\n"
     ]
    }
   ],
   "source": [
    "#%%timeit[-r1]\n",
    "env = cq.Wave1Env(num_aliens=1,num_crystals=20,num_asteroids=10,obs_type=0,crystal_value=1,death_value=-1)\n",
    "expt_dir = 'mpc_test/'\n",
    "env = wrappers.Monitor(env, osp.join(expt_dir, \"gym\"), force=True)#,video_callable=False)\n",
    "obs = env.reset()\n",
    "steps_to_plan = 5\n",
    "for t in range(2500):\n",
    "\n",
    "    # model predictive controller \n",
    "    if t%steps_to_plan==0:\n",
    "        actions,rewards = mpc(env.env,horizon=10,\n",
    "                      num_simulated_paths=20,\n",
    "                      steps_to_plan=steps_to_plan,sample_type=0)\n",
    "    if (rewards==0).all():\n",
    "        # continue in the direction you were going\n",
    "        action=0\n",
    "    else:\n",
    "        # grab recent actions \n",
    "        action = actions[t%steps_to_plan]\n",
    "    \n",
    "    # actual sample \n",
    "    obs, reward, done,info = env.step(action)\n",
    "    env.render()\n",
    "    if done:\n",
    "        obs = env.reset()\n",
    "        episode_rewards = get_wrapper_by_name(env, \"Monitor\").get_episode_rewards()\n",
    "        print('episode return %d' % np.mean(episode_rewards[-1]))\n",
    "        \n",
    "print('mean episode return %d' % np.mean(episode_rewards))\n",
    "env.render(close=True)"
   ]
  },
  {
   "cell_type": "code",
   "execution_count": null,
   "metadata": {
    "collapsed": true
   },
   "outputs": [],
   "source": []
  }
 ],
 "metadata": {
  "hide_input": false,
  "kernelspec": {
   "display_name": "Python 3",
   "language": "python",
   "name": "python3"
  },
  "language_info": {
   "codemirror_mode": {
    "name": "ipython",
    "version": 3
   },
   "file_extension": ".py",
   "mimetype": "text/x-python",
   "name": "python",
   "nbconvert_exporter": "python",
   "pygments_lexer": "ipython3",
   "version": "3.5.4"
  },
  "toc": {
   "nav_menu": {},
   "number_sections": true,
   "sideBar": true,
   "skip_h1_title": false,
   "toc_cell": false,
   "toc_position": {},
   "toc_section_display": "block",
   "toc_window_display": false
  }
 },
 "nbformat": 4,
 "nbformat_minor": 2
}
