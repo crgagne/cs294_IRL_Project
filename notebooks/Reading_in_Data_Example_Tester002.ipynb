{
 "cells": [
  {
   "cell_type": "markdown",
   "metadata": {},
   "source": [
    "built in python 2 and requires MySQL. (uses my env_web conda env)"
   ]
  },
  {
   "cell_type": "markdown",
   "metadata": {},
   "source": [
    "Reading in from tester002 (me running through 7 episodes)"
   ]
  },
  {
   "cell_type": "code",
   "execution_count": 105,
   "metadata": {
    "collapsed": true
   },
   "outputs": [],
   "source": [
    "import os\n",
    "from PIL import Image\n",
    "from io import BytesIO\n",
    "import json\n",
    "import base64\n",
    "import MySQLdb\n",
    "import _mysql\n",
    "import numpy as np\n",
    "import pandas as pd\n",
    "import matplotlib.pyplot as plt \n",
    "%matplotlib inline"
   ]
  },
  {
   "cell_type": "markdown",
   "metadata": {},
   "source": [
    "### Downloading JSON of a Single Episode"
   ]
  },
  {
   "cell_type": "code",
   "execution_count": 2,
   "metadata": {
    "collapsed": true
   },
   "outputs": [],
   "source": [
    "## Connect to DB\n",
    "db=_mysql.connect(host=\"christest.c5s5wgavsyu2.us-west-2.rds.amazonaws.com\",user=\"christest\",\n",
    "                  passwd=\"gags1313\",db=\"chrisdb\")\n"
   ]
  },
  {
   "cell_type": "code",
   "execution_count": 3,
   "metadata": {},
   "outputs": [
    {
     "name": "stdout",
     "output_type": "stream",
     "text": [
      "['id', 'save_time', 'wave', 'MID', 'AID', 'HID', 'session_id']\n"
     ]
    }
   ],
   "source": [
    "# get the header\n",
    "db.query(\"\"\"SELECT column_name FROM information_schema.columns WHERE table_name = 'web_experiments_crystalquest_wave'\"\"\")\n",
    "r=db.store_result() # sends the whole results\n",
    "header = r.fetch_row(0)\n",
    "header = [hh[0] for hh in header]\n",
    "print(header)"
   ]
  },
  {
   "cell_type": "code",
   "execution_count": 5,
   "metadata": {
    "collapsed": true
   },
   "outputs": [],
   "source": [
    "db.query(\"\"\"SELECT * FROM web_experiments_crystalquest_wave WHERE (MID LIKE \"tester002%\")\"\"\")\n",
    "r=db.store_result() # sends the whole results\n",
    "rows = r.fetch_row(100)\n"
   ]
  },
  {
   "cell_type": "code",
   "execution_count": 6,
   "metadata": {},
   "outputs": [
    {
     "name": "stdout",
     "output_type": "stream",
     "text": [
      "tester002\n",
      "2017-11-04 09:03:52\n"
     ]
    }
   ],
   "source": [
    "MID = rows[0][header.index('MID')]\n",
    "print(MID)\n",
    "print(rows[0][header.index('save_time')])"
   ]
  },
  {
   "cell_type": "code",
   "execution_count": 7,
   "metadata": {},
   "outputs": [
    {
     "name": "stdout",
     "output_type": "stream",
     "text": [
      "2017-11-04_09:03:52\n"
     ]
    }
   ],
   "source": [
    "print(rows[0][header.index('save_time')].replace(' ','_'))"
   ]
  },
  {
   "cell_type": "code",
   "execution_count": 8,
   "metadata": {
    "collapsed": true
   },
   "outputs": [],
   "source": [
    "# make dir for subject\n",
    "diir='../data/'+str(rows[0][header.index('MID')])\n",
    "if not os.path.isdir(diir):\n",
    "    os.mkdir(diir)"
   ]
  },
  {
   "cell_type": "code",
   "execution_count": 9,
   "metadata": {
    "collapsed": true
   },
   "outputs": [],
   "source": [
    "# save out json\n",
    "date_for_save = rows[0][header.index('save_time')].replace(' ','_')\n",
    "filename=diir+'/'+date_for_save+'_data.json'\n",
    "obj = json.loads(rows[0][header.index('wave')])\n",
    "with open(filename, 'w') as outfile:\n",
    "        json.dump(obj, outfile)"
   ]
  },
  {
   "cell_type": "code",
   "execution_count": 11,
   "metadata": {},
   "outputs": [
    {
     "data": {
      "text/plain": [
       "['2017-11-04_09:03:52_data.json']"
      ]
     },
     "execution_count": 11,
     "metadata": {},
     "output_type": "execute_result"
    }
   ],
   "source": [
    "os.listdir('../data/tester002/')"
   ]
  },
  {
   "cell_type": "code",
   "execution_count": 12,
   "metadata": {
    "collapsed": true
   },
   "outputs": [],
   "source": [
    "# load back in \n",
    "with open(filename) as data_file:    \n",
    "    data = json.load(data_file)"
   ]
  },
  {
   "cell_type": "code",
   "execution_count": 13,
   "metadata": {},
   "outputs": [
    {
     "data": {
      "text/plain": [
       "u'00:06'"
      ]
     },
     "execution_count": 13,
     "metadata": {},
     "output_type": "execute_result"
    }
   ],
   "source": [
    "data['30']['clock_time']"
   ]
  },
  {
   "cell_type": "markdown",
   "metadata": {},
   "source": [
    "### Making a movie"
   ]
  },
  {
   "cell_type": "code",
   "execution_count": 14,
   "metadata": {
    "collapsed": true
   },
   "outputs": [],
   "source": [
    "# takes a few seconds # \n",
    "for key in data.keys():\n",
    "    if key!='guid':\n",
    "        im = Image.open(BytesIO(base64.b64decode(data[key]['screen_image'].split(',')[-1])))\n",
    "        im.save(diir+'/'+date_for_save+'{0:04d}'.format(int(key))+'.png', 'png')\n"
   ]
  },
  {
   "cell_type": "code",
   "execution_count": 15,
   "metadata": {},
   "outputs": [
    {
     "name": "stdout",
     "output_type": "stream",
     "text": [
      "../data/tester002\n",
      "2017-11-04_09:03:52\n"
     ]
    }
   ],
   "source": [
    "print(diir)\n",
    "print(date_for_save)\n",
    "#print(MID)\n",
    "\n"
   ]
  },
  {
   "cell_type": "code",
   "execution_count": 21,
   "metadata": {},
   "outputs": [
    {
     "name": "stderr",
     "output_type": "stream",
     "text": [
      "ffmpeg version 3.3.4 Copyright (c) 2000-2017 the FFmpeg developers\n",
      "  built with Apple LLVM version 8.1.0 (clang-802.0.42)\n",
      "  configuration: --prefix=/usr/local/Cellar/ffmpeg/3.3.4 --enable-shared --enable-pthreads --enable-gpl --enable-version3 --enable-hardcoded-tables --enable-avresample --cc=clang --host-cflags= --host-ldflags= --enable-libmp3lame --enable-libx264 --enable-libxvid --enable-opencl --enable-videotoolbox --disable-lzma --enable-vda\n",
      "  libavutil      55. 58.100 / 55. 58.100\n",
      "  libavcodec     57. 89.100 / 57. 89.100\n",
      "  libavformat    57. 71.100 / 57. 71.100\n",
      "  libavdevice    57.  6.100 / 57.  6.100\n",
      "  libavfilter     6. 82.100 /  6. 82.100\n",
      "  libavresample   3.  5.  0 /  3.  5.  0\n",
      "  libswscale      4.  6.100 /  4.  6.100\n",
      "  libswresample   2.  7.100 /  2.  7.100\n",
      "  libpostproc    54.  5.100 / 54.  5.100\n",
      "Input #0, image2, from '../data/tester002/2017-11-04_09:03:52%04d.png':\n",
      "  Duration: 00:00:06.10, start: 0.000000, bitrate: N/A\n",
      "    Stream #0:0: Video: png, rgba(pc), 780x500, 10 fps, 10 tbr, 10 tbn, 10 tbc\n",
      "Stream mapping:\n",
      "  Stream #0:0 -> #0:0 (png (native) -> mpeg4 (native))\n",
      "Press [q] to stop, [?] for help\n",
      "Output #0, mp4, to '../data/tester002/movie.mp4':\n",
      "  Metadata:\n",
      "    encoder         : Lavf57.71.100\n",
      "    Stream #0:0: Video: mpeg4 ( [0][0][0] / 0x0020), yuv420p, 780x500, q=2-31, 200 kb/s, 10 fps, 10240 tbn, 10 tbc\n",
      "    Metadata:\n",
      "      encoder         : Lavc57.89.100 mpeg4\n",
      "    Side data:\n",
      "      cpb: bitrate max/min/avg: 0/0/200000 buffer size: 0 vbv_delay: -1\n",
      "frame=   61 fps=0.0 q=1.6 Lsize=     151kB time=00:00:06.00 bitrate= 206.2kbits/s speed=39.9x    \n",
      "video:150kB audio:0kB subtitle:0kB other streams:0kB global headers:0kB muxing overhead: 0.732632%\n"
     ]
    }
   ],
   "source": [
    "%%bash \n",
    "ffmpeg -f image2 -r 10 -i ../data/tester002/2017-11-04_09:03:52%04d.png -vcodec mpeg4 -y ../data/tester002/movie.mp4"
   ]
  },
  {
   "cell_type": "markdown",
   "metadata": {},
   "source": [
    "### Extract Game Info"
   ]
  },
  {
   "cell_type": "code",
   "execution_count": 28,
   "metadata": {},
   "outputs": [
    {
     "data": {
      "text/plain": [
       "{u'alien_positions': [[585.3155207232467, 425.1616228792085]],\n",
       " u'asteroid_positions': [[100, 106], [412, 318], [522, 448], [543, 96]],\n",
       " u'asteroid_width': 20,\n",
       " u'clock_time': u'00:06',\n",
       " u'crystal_positions': [[571.5, 119.5], [509.5, 279.5], [352.5, 31.5]],\n",
       " u'elapsed_time': 6007,\n",
       " u'game': 0,\n",
       " u'lives': 2,\n",
       " u'points': [],\n",
       " u'screen_dim': [780, 500],\n",
       " u'screen_image': u'data:image/png;base64,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',\n",
       " u'ship_position': [574, 224],\n",
       " u'wave': 1}"
      ]
     },
     "execution_count": 28,
     "metadata": {},
     "output_type": "execute_result"
    }
   ],
   "source": [
    "data['30']"
   ]
  },
  {
   "cell_type": "code",
   "execution_count": 34,
   "metadata": {
    "collapsed": true
   },
   "outputs": [],
   "source": [
    "screen_dim = data[data.keys()[0]]['screen_dim']\n",
    "crystal_positions = data[data.keys()[0]]['crystal_positions']\n",
    "asteroid_positions = data[data.keys()[0]]['asteroid_positions']"
   ]
  },
  {
   "cell_type": "code",
   "execution_count": 38,
   "metadata": {},
   "outputs": [
    {
     "data": {
      "text/plain": [
       "62"
      ]
     },
     "execution_count": 38,
     "metadata": {},
     "output_type": "execute_result"
    }
   ],
   "source": []
  },
  {
   "cell_type": "code",
   "execution_count": 41,
   "metadata": {},
   "outputs": [
    {
     "name": "stderr",
     "output_type": "stream",
     "text": [
      "/Users/chris/anaconda/envs/env_web/lib/python2.7/site-packages/ipykernel_launcher.py:4: DeprecationWarning: using a non-integer number instead of an integer will result in an error in the future\n",
      "  after removing the cwd from sys.path.\n",
      "/Users/chris/anaconda/envs/env_web/lib/python2.7/site-packages/ipykernel_launcher.py:5: DeprecationWarning: using a non-integer number instead of an integer will result in an error in the future\n",
      "  \"\"\"\n",
      "/Users/chris/anaconda/envs/env_web/lib/python2.7/site-packages/ipykernel_launcher.py:6: DeprecationWarning: using a non-integer number instead of an integer will result in an error in the future\n",
      "  \n"
     ]
    }
   ],
   "source": [
    "ship_pos = np.empty((len(data.keys()),3))\n",
    "for key in data.keys():\n",
    "    if key!='guid':\n",
    "        ship_pos[key,0]=key\n",
    "        ship_pos[key,1]=data[key]['ship_position'][0]\n",
    "        ship_pos[key,2]=data[key]['ship_position'][1]\n",
    "    "
   ]
  },
  {
   "cell_type": "code",
   "execution_count": 121,
   "metadata": {},
   "outputs": [
    {
     "data": {
      "text/html": [
       "<div>\n",
       "<style>\n",
       "    .dataframe thead tr:only-child th {\n",
       "        text-align: right;\n",
       "    }\n",
       "\n",
       "    .dataframe thead th {\n",
       "        text-align: left;\n",
       "    }\n",
       "\n",
       "    .dataframe tbody tr th {\n",
       "        vertical-align: top;\n",
       "    }\n",
       "</style>\n",
       "<table border=\"1\" class=\"dataframe\">\n",
       "  <thead>\n",
       "    <tr style=\"text-align: right;\">\n",
       "      <th></th>\n",
       "      <th>timestep</th>\n",
       "      <th>x</th>\n",
       "      <th>y</th>\n",
       "    </tr>\n",
       "  </thead>\n",
       "  <tbody>\n",
       "    <tr>\n",
       "      <th>0</th>\n",
       "      <td>0.0</td>\n",
       "      <td>2.470328e-323</td>\n",
       "      <td>0.0</td>\n",
       "    </tr>\n",
       "    <tr>\n",
       "      <th>1</th>\n",
       "      <td>1.0</td>\n",
       "      <td>2.880000e+02</td>\n",
       "      <td>352.0</td>\n",
       "    </tr>\n",
       "    <tr>\n",
       "      <th>2</th>\n",
       "      <td>2.0</td>\n",
       "      <td>2.880000e+02</td>\n",
       "      <td>352.0</td>\n",
       "    </tr>\n",
       "    <tr>\n",
       "      <th>3</th>\n",
       "      <td>3.0</td>\n",
       "      <td>2.880000e+02</td>\n",
       "      <td>352.0</td>\n",
       "    </tr>\n",
       "    <tr>\n",
       "      <th>4</th>\n",
       "      <td>4.0</td>\n",
       "      <td>2.620000e+02</td>\n",
       "      <td>352.0</td>\n",
       "    </tr>\n",
       "    <tr>\n",
       "      <th>5</th>\n",
       "      <td>5.0</td>\n",
       "      <td>2.580000e+02</td>\n",
       "      <td>388.0</td>\n",
       "    </tr>\n",
       "    <tr>\n",
       "      <th>6</th>\n",
       "      <td>6.0</td>\n",
       "      <td>2.580000e+02</td>\n",
       "      <td>428.0</td>\n",
       "    </tr>\n",
       "    <tr>\n",
       "      <th>7</th>\n",
       "      <td>7.0</td>\n",
       "      <td>2.320000e+02</td>\n",
       "      <td>442.0</td>\n",
       "    </tr>\n",
       "    <tr>\n",
       "      <th>8</th>\n",
       "      <td>8.0</td>\n",
       "      <td>1.920000e+02</td>\n",
       "      <td>442.0</td>\n",
       "    </tr>\n",
       "    <tr>\n",
       "      <th>9</th>\n",
       "      <td>9.0</td>\n",
       "      <td>1.520000e+02</td>\n",
       "      <td>442.0</td>\n",
       "    </tr>\n",
       "  </tbody>\n",
       "</table>\n",
       "</div>"
      ],
      "text/plain": [
       "   timestep              x      y\n",
       "0       0.0  2.470328e-323    0.0\n",
       "1       1.0   2.880000e+02  352.0\n",
       "2       2.0   2.880000e+02  352.0\n",
       "3       3.0   2.880000e+02  352.0\n",
       "4       4.0   2.620000e+02  352.0\n",
       "5       5.0   2.580000e+02  388.0\n",
       "6       6.0   2.580000e+02  428.0\n",
       "7       7.0   2.320000e+02  442.0\n",
       "8       8.0   1.920000e+02  442.0\n",
       "9       9.0   1.520000e+02  442.0"
      ]
     },
     "execution_count": 121,
     "metadata": {},
     "output_type": "execute_result"
    }
   ],
   "source": [
    "pd.DataFrame(ship_pos,columns=['timestep','x','y']).head(10)"
   ]
  },
  {
   "cell_type": "markdown",
   "metadata": {},
   "source": [
    "### Build a grid and make a simple movie for the wave "
   ]
  },
  {
   "cell_type": "code",
   "execution_count": 120,
   "metadata": {},
   "outputs": [
    {
     "data": {
      "text/plain": [
       "62"
      ]
     },
     "execution_count": 120,
     "metadata": {},
     "output_type": "execute_result"
    }
   ],
   "source": [
    "time_steps"
   ]
  },
  {
   "cell_type": "code",
   "execution_count": 133,
   "metadata": {
    "collapsed": true
   },
   "outputs": [],
   "source": [
    "# make the grid x time\n",
    "discretize_size = 20 \n",
    "time_steps = len(ship_pos)\n",
    "grid_size = tuple(np.array(screen_dim)/20)\n",
    "grid = np.zeros(grid_size+(time_steps,))\n",
    "last_pos = [0,0]\n",
    "for time_step in range(time_steps):\n",
    "    grid[last_pos[0],last_pos[1],time_step]=0\n",
    "    discretized_pos = np.round(ship_pos[time_step,1:3]/discretize_size).astype('int')\n",
    "    #print(discretized_pos)\n",
    "    grid[discretized_pos[0],discretized_pos[1],time_step]=1\n",
    "    last_pos = discretized_pos\n",
    "    \n",
    "np.save(diir+'/'+'testgrid.npy',grid)"
   ]
  },
  {
   "cell_type": "code",
   "execution_count": null,
   "metadata": {
    "collapsed": true
   },
   "outputs": [],
   "source": [
    "# see function \n",
    "# grid_movie_tester002.py\n",
    "# to plot a movie of this grid. "
   ]
  }
 ],
 "metadata": {
  "kernelspec": {
   "display_name": "Python 2",
   "language": "python",
   "name": "python2"
  },
  "language_info": {
   "codemirror_mode": {
    "name": "ipython",
    "version": 2
   },
   "file_extension": ".py",
   "mimetype": "text/x-python",
   "name": "python",
   "nbconvert_exporter": "python",
   "pygments_lexer": "ipython2",
   "version": "2.7.14"
  }
 },
 "nbformat": 4,
 "nbformat_minor": 2
}
