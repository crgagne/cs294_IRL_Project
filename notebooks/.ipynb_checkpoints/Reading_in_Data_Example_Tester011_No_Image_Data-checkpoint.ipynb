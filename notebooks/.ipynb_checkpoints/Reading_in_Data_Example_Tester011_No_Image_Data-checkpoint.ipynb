{
 "cells": [
  {
   "cell_type": "markdown",
   "metadata": {},
   "source": [
    "built in python 2 and requires MySQL. (uses my env_web conda env)"
   ]
  },
  {
   "cell_type": "markdown",
   "metadata": {},
   "source": [
    "Reading in from tester011 - me with no images"
   ]
  },
  {
   "cell_type": "code",
   "execution_count": 402,
   "metadata": {},
   "outputs": [],
   "source": [
    "import sys\n",
    "sys.path.append('/Users/chris/anaconda/envs/env_web/lib/python2.7/site-packages',) "
   ]
  },
  {
   "cell_type": "code",
   "execution_count": 403,
   "metadata": {},
   "outputs": [],
   "source": [
    "import os\n",
    "import json\n",
    "import base64\n",
    "import MySQLdb\n",
    "import _mysql\n",
    "import numpy as np\n",
    "import pandas as pd\n",
    "import matplotlib.pyplot as plt \n",
    "%matplotlib inline"
   ]
  },
  {
   "cell_type": "markdown",
   "metadata": {},
   "source": [
    "### Downloading JSON of a Single Episode"
   ]
  },
  {
   "cell_type": "code",
   "execution_count": 226,
   "metadata": {
    "collapsed": true
   },
   "outputs": [],
   "source": [
    "## Connect to DB\n",
    "db=_mysql.connect(host=\"christest.c5s5wgavsyu2.us-west-2.rds.amazonaws.com\",user=\"christest\",\n",
    "                  passwd=\"gags1313\",db=\"chrisdb\")\n"
   ]
  },
  {
   "cell_type": "code",
   "execution_count": 227,
   "metadata": {},
   "outputs": [
    {
     "name": "stdout",
     "output_type": "stream",
     "text": [
      "['id', 'save_time', 'wave', 'MID', 'AID', 'HID', 'session_id']\n"
     ]
    }
   ],
   "source": [
    "# get the header\n",
    "db.query(\"\"\"SELECT column_name FROM information_schema.columns WHERE table_name = 'web_experiments_crystalquest_wave'\"\"\")\n",
    "r=db.store_result() # sends the whole results\n",
    "header = r.fetch_row(0)\n",
    "header = [hh[0] for hh in header]\n",
    "print(header)"
   ]
  },
  {
   "cell_type": "code",
   "execution_count": 228,
   "metadata": {
    "collapsed": true
   },
   "outputs": [],
   "source": [
    "db.query(\"\"\"SELECT * FROM web_experiments_crystalquest_wave WHERE (MID LIKE \"tester011%\")\"\"\")\n",
    "r=db.store_result() # sends the whole results\n",
    "rows = r.fetch_row(100)\n"
   ]
  },
  {
   "cell_type": "code",
   "execution_count": 229,
   "metadata": {},
   "outputs": [],
   "source": [
    "r =-1"
   ]
  },
  {
   "cell_type": "code",
   "execution_count": 230,
   "metadata": {},
   "outputs": [
    {
     "name": "stdout",
     "output_type": "stream",
     "text": [
      "tester011\n",
      "2017-11-20 01:05:44\n"
     ]
    }
   ],
   "source": [
    "MID = rows[r][header.index('MID')]\n",
    "print(MID)\n",
    "print(rows[r][header.index('save_time')])"
   ]
  },
  {
   "cell_type": "code",
   "execution_count": 231,
   "metadata": {},
   "outputs": [
    {
     "name": "stdout",
     "output_type": "stream",
     "text": [
      "2017-11-20_01:05:44\n"
     ]
    }
   ],
   "source": [
    "print(rows[r][header.index('save_time')].replace(' ','_'))"
   ]
  },
  {
   "cell_type": "code",
   "execution_count": 232,
   "metadata": {
    "collapsed": true
   },
   "outputs": [],
   "source": [
    "# make dir for subject\n",
    "diir='../data/'+str(rows[r][header.index('MID')])\n",
    "if not os.path.isdir(diir):\n",
    "    os.mkdir(diir)"
   ]
  },
  {
   "cell_type": "code",
   "execution_count": 408,
   "metadata": {},
   "outputs": [],
   "source": [
    "#obj"
   ]
  },
  {
   "cell_type": "code",
   "execution_count": 406,
   "metadata": {},
   "outputs": [
    {
     "data": {
      "text/plain": [
       "1"
      ]
     },
     "execution_count": 406,
     "metadata": {},
     "output_type": "execute_result"
    }
   ],
   "source": [
    "obj['1']['wave']"
   ]
  },
  {
   "cell_type": "code",
   "execution_count": 233,
   "metadata": {
    "collapsed": true
   },
   "outputs": [],
   "source": [
    "# save out json\n",
    "date_for_save = rows[r][header.index('save_time')].replace(' ','_')\n",
    "filename=diir+'/'+date_for_save+'_data.json'\n",
    "obj = json.loads(rows[r][header.index('wave')])\n",
    "with open(filename, 'w') as outfile:\n",
    "        json.dump(obj, outfile)"
   ]
  },
  {
   "cell_type": "code",
   "execution_count": 234,
   "metadata": {},
   "outputs": [
    {
     "data": {
      "text/plain": [
       "['2017-11-20_00:58:25_data.json',\n",
       " 'testgrid.npy',\n",
       " '2017-11-20_00:49:44_data.json',\n",
       " '2017-11-20_01:05:44_data.json',\n",
       " '2017-11-20_01:04:29_data.json',\n",
       " '2017-11-20_00:19:01_data.json']"
      ]
     },
     "execution_count": 234,
     "metadata": {},
     "output_type": "execute_result"
    }
   ],
   "source": [
    "os.listdir('../data/tester011/')"
   ]
  },
  {
   "cell_type": "code",
   "execution_count": 235,
   "metadata": {
    "collapsed": true
   },
   "outputs": [],
   "source": [
    "# load back in \n",
    "with open(filename) as data_file:    \n",
    "    data = json.load(data_file)"
   ]
  },
  {
   "cell_type": "markdown",
   "metadata": {},
   "source": [
    "### Extract Game Info"
   ]
  },
  {
   "cell_type": "code",
   "execution_count": 394,
   "metadata": {},
   "outputs": [],
   "source": [
    "time_steps = data.keys()[:]\n",
    "time_steps.remove('guid')\n",
    "time_steps = [int(t)-1 for t in time_steps]\n"
   ]
  },
  {
   "cell_type": "code",
   "execution_count": 395,
   "metadata": {},
   "outputs": [
    {
     "data": {
      "text/plain": [
       "(39, 25, 159)"
      ]
     },
     "execution_count": 395,
     "metadata": {},
     "output_type": "execute_result"
    }
   ],
   "source": [
    "screen_dim = [780,500]\n",
    "discretize_size = 20 \n",
    "grid_size = tuple(np.array(screen_dim)/20)\n",
    "grid = np.zeros(grid_size+(len(time_steps),))\n",
    "grid.shape"
   ]
  },
  {
   "cell_type": "code",
   "execution_count": 396,
   "metadata": {
    "collapsed": true
   },
   "outputs": [],
   "source": [
    "grid_centers_x = [10,30,50,70,90,110,130,150,170,190,210,230,250,270,\n",
    "      290,310,330,350,370,390,410,430,450,470,490,510,530,550,570,590,610,630,650,670,\n",
    "      690,710,730,750,770]\n",
    "grid_centers_y = [10,30,50,70,90,110,130,150,170,190,210,230,250,270,\n",
    "    290,310,330,350,370,390,410,430,450,470,490]\n"
   ]
  },
  {
   "cell_type": "code",
   "execution_count": 397,
   "metadata": {
    "collapsed": true
   },
   "outputs": [],
   "source": [
    "# add ship\n",
    "for time_step in time_steps:\n",
    "    s=data[str(time_step+1)]['ship_position']\n",
    "    grid[grid_centers_x.index(s[0]),grid_centers_y.index(s[1]),time_step]=1"
   ]
  },
  {
   "cell_type": "code",
   "execution_count": 398,
   "metadata": {
    "collapsed": true
   },
   "outputs": [],
   "source": [
    "# add asteroids # \n",
    "asteroid_positions = data['1']['asteroid_positions']\n",
    "for ap in asteroid_positions:\n",
    "    grid[grid_centers_x.index(ap[0]-10),grid_centers_y.index(ap[1]-10),:]=2"
   ]
  },
  {
   "cell_type": "code",
   "execution_count": 399,
   "metadata": {},
   "outputs": [],
   "source": [
    "# add crystals\n",
    "for time_step in time_steps:\n",
    "    cp = data[str(time_step+1)]['crystal_positions']\n",
    "    for c in cp: \n",
    "        grid[grid_centers_x.index(c[0]),grid_centers_y.index(c[1]),time_step]=3"
   ]
  },
  {
   "cell_type": "code",
   "execution_count": 400,
   "metadata": {
    "collapsed": true
   },
   "outputs": [],
   "source": [
    "# add alien \n",
    "for time_step in time_steps:\n",
    "    a=data[str(time_step+1)]['alien_positions'][0]\n",
    "    grid[grid_centers_x.index(a[0]),grid_centers_y.index(a[1]),time_step]=4"
   ]
  },
  {
   "cell_type": "code",
   "execution_count": 401,
   "metadata": {
    "collapsed": true
   },
   "outputs": [],
   "source": [
    "np.save(diir+'/'+'testgrid.npy',grid)"
   ]
  },
  {
   "cell_type": "code",
   "execution_count": 268,
   "metadata": {
    "collapsed": true
   },
   "outputs": [],
   "source": [
    "# see function \n",
    "# grid_movie_tester011.py\n",
    "# to plot a movie of this grid. "
   ]
  }
 ],
 "metadata": {
  "kernelspec": {
   "display_name": "Python 2",
   "language": "python",
   "name": "python2"
  },
  "language_info": {
   "codemirror_mode": {
    "name": "ipython",
    "version": 2
   },
   "file_extension": ".py",
   "mimetype": "text/x-python",
   "name": "python",
   "nbconvert_exporter": "python",
   "pygments_lexer": "ipython2",
   "version": "2.7.14"
  }
 },
 "nbformat": 4,
 "nbformat_minor": 2
}
