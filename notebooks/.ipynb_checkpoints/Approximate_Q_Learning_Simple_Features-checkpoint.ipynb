{
 "cells": [
  {
   "cell_type": "markdown",
   "metadata": {},
   "source": [
    "# Crystal Quest Environment\n",
    "\n",
    "- modeled off of https://github.com/openai/gym/blob/master/gym/envs/box2d/lunar_lander.py and\n",
    "https://github.com/openai/gym/blob/master/gym/envs/atari/atari_env.py\n",
    "- will put in external file when done"
   ]
  },
  {
   "cell_type": "code",
   "execution_count": 140,
   "metadata": {},
   "outputs": [
    {
     "data": {
      "text/plain": [
       "<module 'crystal_quest_env' from '../crystal_quest/crystal_quest_env.py'>"
      ]
     },
     "execution_count": 140,
     "metadata": {},
     "output_type": "execute_result"
    }
   ],
   "source": [
    "import sys\n",
    "sys.path.append('../crystal_quest/')\n",
    "import crystal_quest_env as cq\n",
    "import imp \n",
    "imp.reload(cq) # reload after making changes"
   ]
  },
  {
   "cell_type": "code",
   "execution_count": 141,
   "metadata": {},
   "outputs": [],
   "source": [
    "env = cq.Wave1Env()"
   ]
  },
  {
   "cell_type": "code",
   "execution_count": 142,
   "metadata": {},
   "outputs": [
    {
     "data": {
      "text/plain": [
       "array([20, 20])"
      ]
     },
     "execution_count": 142,
     "metadata": {},
     "output_type": "execute_result"
    }
   ],
   "source": [
    "obs = env.reset()\n",
    "env.ship_location"
   ]
  },
  {
   "cell_type": "markdown",
   "metadata": {},
   "source": [
    "# Crystal Quest Rendering Environment (Simplest)"
   ]
  },
  {
   "cell_type": "code",
   "execution_count": 42,
   "metadata": {
    "collapsed": true
   },
   "outputs": [],
   "source": [
    "# randomly sampling actions and visualizing \n",
    "env = cq.Wave1Env()\n",
    "obs = env.reset()\n",
    "for i in range(50):\n",
    "    obs,r,done = env.step(env.action_space.sample())\n",
    "    env.render()\n",
    "env.render(close=True)"
   ]
  },
  {
   "cell_type": "markdown",
   "metadata": {},
   "source": [
    "# Approximate Q-Learning\n",
    "\n",
    "TO-DO: \n",
    "- fix env to 2 crystals, one alien. \n",
    "- make the reward output something based on given reward? \n",
    "\n",
    "**feature extractor** \n",
    "$f(s) $\n",
    "- x,y distance to crystal 1\n",
    "- x,y distance to crystal 2 \n",
    "- x,y distance to alien \n",
    "- vx,vy velocity of alien. \n",
    "- vx,vy veloicty of ship\n",
    "\n",
    "**Reward Function**\n",
    "$r(s)$\n",
    "- crystal obtained\n",
    "- alien killed us. \n",
    "- asteroid killed us. \n",
    "\n",
    "**Q-learning with the given reward function** \n",
    "- does the agent have sensible behavior? \n",
    "- a =  {1,2,3,4,5}\n",
    "- $ Q(s,a) = \\theta^T f(s) $\n",
    "- initialize Q-value 5*5 actions. \n",
    "- for i until?  \n",
    "    - choose action max(q(f(s),a)\n",
    "    - \n",
    "\n",
    "\n",
    "**recovering reward function** \n",
    "- generate a bunch of behavior with reward function built into game (or given in game)\n",
    "- start a new alg.. that updates Q agent and R function.. \n",
    "- "
   ]
  },
  {
   "cell_type": "code",
   "execution_count": 14,
   "metadata": {},
   "outputs": [],
   "source": [
    "import numpy as np\n",
    "import matplotlib.pyplot as plt\n",
    "import scipy\n",
    "%matplotlib inline"
   ]
  },
  {
   "cell_type": "code",
   "execution_count": 15,
   "metadata": {},
   "outputs": [],
   "source": [
    "def feature_extracter_simple_orig(env):\n",
    "    # lazily just going to run off the env because I didn't get the obs encoding.. \n",
    "    \n",
    "    # xy distance to first crystal. \n",
    "    if len(env.crystal_locations)>0: \n",
    "        xydict_c1 = np.subtract(np.array(env.ship_location),np.array(env.crystal_locations[0]))\n",
    "    else:\n",
    "        xydict_c1 = np.array([0,0])\n",
    "        \n",
    "    if len(env.crystal_locations)>1: \n",
    "        xydict_c2 = np.subtract(np.array(env.ship_location),np.array(env.crystal_locations[1]))\n",
    "    else:\n",
    "        xydict_c2 = np.array([0,0])\n",
    "\n",
    "    feature_vect = np.concatenate((xydict_c1,xydict_c2))\n",
    "    \n",
    "    return(feature_vect)"
   ]
  },
  {
   "cell_type": "code",
   "execution_count": 89,
   "metadata": {
    "collapsed": true
   },
   "outputs": [],
   "source": [
    "def feature_extracter_simple(env):\n",
    "    # lazily just going to run off the env because I didn't get the obs encoding.. \n",
    "    \n",
    "    # xy distance to first crystal. \n",
    "    if len(env.crystal_locations)>0: \n",
    "        xydict_c1 = np.subtract(np.array(env.ship_location),np.array(env.crystal_locations[0]))\n",
    "    else:\n",
    "        xydict_c1 = np.array([0,0])\n",
    "     \n",
    "    #xydict_c1/1\n",
    "    #xydict_c1 = xydict_c1/np.sum(np.abs(xydict_c1))\n",
    "    return(xydict_c1/10.0)"
   ]
  },
  {
   "cell_type": "code",
   "execution_count": 106,
   "metadata": {},
   "outputs": [],
   "source": [
    "class q_learner:\n",
    "    def __init__(self, **args):\n",
    "        # initialize thetas for q function\n",
    "        self.thetas = np.random.normal(0,1,len(feature_vect)*5).reshape(len(feature_vect),5)\n",
    "        #self.thetas = np.zeros((4,5))\n",
    "        \n",
    "                #\n",
    "        good_thetas = np.zeros((2,5))\n",
    "        good_thetas[:,0]=0\n",
    "\n",
    "        # up actions \n",
    "        good_thetas[1,1]=-.5 # crystal 1 y, if above you go up. \n",
    "\n",
    "        # down actions, negative weight so the value is high \n",
    "        good_thetas[1,2]=.5 # crystal 1 y\n",
    "\n",
    "        ####\n",
    "        # left actions \n",
    "        good_thetas[0,3]=.5 # crystal 1 y, if above you go up. \n",
    "\n",
    "        # down actions, negative weight so the value is high \n",
    "        good_thetas[0,4]=-.5 # crystal 1 y\n",
    "\n",
    "        self.thetas=good_thetas\n",
    "        \n",
    "        # initialize other stuff\n",
    "        self.eps_greedy=0.05\n",
    "        self.gamma=0.99\n",
    "        self.alpha = 0.01\n",
    "        self.inv_temp = 10.0\n",
    "        \n",
    "    def calculateQval(self,feature_vect,action):\n",
    "        return(np.dot(self.thetas[:,action],feature_vect))\n",
    "    \n",
    "    def getAction(self,feature_vect):\n",
    "        \n",
    "        qvals = np.array([self.calculateQval(feature_vect,a) for a in range(5)])\n",
    "        \n",
    "        # softmax\n",
    "        pvals = np.exp(qvals/self.inv_temp)/np.sum(np.exp(qvals/self.inv_temp))\n",
    "        \n",
    "        action = np.where(np.random.multinomial(1,pvals))[0][0]\n",
    "    \n",
    "        #greedy = np.random.binomial(1,1-self.eps_greedy)\n",
    "        #if greedy:\n",
    "        #    action = np.argmax(np.array(qvals))\n",
    "        #else:\n",
    "        #    action = np.random.randint(5)\n",
    "        return(action)#is 1-5\n",
    "        \n",
    "    def update_q_value(self,action,feature_vect_t,feature_vect_tp1,reward):\n",
    "        \n",
    "        # next best action\n",
    "        qval_tp1_best = np.max([self.calculateQval(feature_vect,a) for a in range(5)])\n",
    "        \n",
    "        # current q-value\n",
    "        qval_tp = self.calculateQval(feature_vect_t,action)\n",
    "        \n",
    "        # calculate td\n",
    "        td = (reward + self.gamma*qval_tp1_best) - qval_tp\n",
    "        \n",
    "        # update theta  \n",
    "        self.thetas[:,action]+= self.alpha*td*feature_vect_t\n",
    "\n",
    "        \n",
    "    "
   ]
  },
  {
   "cell_type": "markdown",
   "metadata": {},
   "source": [
    "# testing with good thetas\n",
    "\n",
    "- this works to go to the first crystal "
   ]
  },
  {
   "cell_type": "code",
   "execution_count": 143,
   "metadata": {},
   "outputs": [],
   "source": [
    "#\n",
    "good_thetas = np.zeros((2,5))\n",
    "good_thetas[:,0]=0\n",
    "\n",
    "# up actions \n",
    "good_thetas[1,1]=-.5 # crystal 1 y, if above you go up. \n",
    "\n",
    "# down actions, negative weight so the value is high \n",
    "good_thetas[1,2]=.5 # crystal 1 y\n",
    "\n",
    "####\n",
    "# left actions \n",
    "good_thetas[0,3]=.5 # crystal 1 y, if above you go up. \n",
    "\n",
    "# down actions, negative weight so the value is high \n",
    "good_thetas[0,4]=-.5 # crystal 1 y\n",
    "\n"
   ]
  },
  {
   "cell_type": "code",
   "execution_count": 144,
   "metadata": {},
   "outputs": [
    {
     "data": {
      "text/plain": [
       "array([[ 0. ,  0. ,  0. ,  0.5, -0.5],\n",
       "       [ 0. , -0.5,  0.5,  0. ,  0. ]])"
      ]
     },
     "execution_count": 144,
     "metadata": {},
     "output_type": "execute_result"
    }
   ],
   "source": [
    "good_thetas"
   ]
  },
  {
   "cell_type": "code",
   "execution_count": 146,
   "metadata": {},
   "outputs": [],
   "source": [
    "import time\n",
    "render = True\n",
    "# single episode \n",
    "obs = env.reset()\n",
    "feature_vect = feature_extracter_simple(env)\n",
    "agent = q_learner(feature_vect=feature_vect) #initial agent \n",
    "agent.inv_temp=0.1\n",
    "for i in range(500):\n",
    "\n",
    "    time.sleep(0.1) # seconds\n",
    "    \n",
    "    agent.thetas=good_thetas\n",
    "\n",
    "    # choose action a\n",
    "    action = agent.getAction(feature_vect)\n",
    "\n",
    "    # take action, update env, get s'\n",
    "    obs,r,done = env.step(action)\n",
    "    if r==1:\n",
    "        done=1\n",
    "    feature_vect = feature_extracter_simple(env)\n",
    "    if done:\n",
    "        break\n",
    "    if render:\n",
    "        env.render()\n",
    "if render:\n",
    "    env.render(close=True)    "
   ]
  },
  {
   "cell_type": "code",
   "execution_count": 94,
   "metadata": {},
   "outputs": [
    {
     "data": {
      "text/plain": [
       "array([20, 20])"
      ]
     },
     "execution_count": 94,
     "metadata": {},
     "output_type": "execute_result"
    }
   ],
   "source": [
    "obs = env.reset()\n",
    "env.ship_location"
   ]
  },
  {
   "cell_type": "code",
   "execution_count": 95,
   "metadata": {},
   "outputs": [
    {
     "data": {
      "text/plain": [
       "array([-0.2, -0.5])"
      ]
     },
     "execution_count": 95,
     "metadata": {},
     "output_type": "execute_result"
    }
   ],
   "source": [
    "feature_vect"
   ]
  },
  {
   "cell_type": "markdown",
   "metadata": {},
   "source": [
    "# learning? "
   ]
  },
  {
   "cell_type": "code",
   "execution_count": 111,
   "metadata": {
    "scrolled": false
   },
   "outputs": [],
   "source": [
    "render=True\n",
    "env = cq.Wave1Env()\n",
    "finished = []\n",
    "\n",
    "obs = env.reset()\n",
    "feature_vect = feature_extracter_simple(env)\n",
    "\n",
    "# initialize the agent only once \n",
    "agent = q_learner(feature_vect=feature_vect) #initial agent \n",
    "\n",
    "agent.alpha=0.1\n",
    "agent.inv_temp=1.0\n",
    "\n",
    "for ep in range(1):\n",
    "    obs = env.reset()\n",
    "    feature_vect = feature_extracter_simple(env)\n",
    "\n",
    "    # single episode \n",
    "    for i in range(1):\n",
    "        # store previous observation f(s) for s \n",
    "        feature_vect_prev = feature_vect.copy()\n",
    "\n",
    "        # choose action a\n",
    "        action = agent.getAction(feature_vect)\n",
    "\n",
    "        # take action, update env, get s'\n",
    "        obs,r,done = env.step(action)\n",
    "        if r==1:\n",
    "            done=1\n",
    "            pass\n",
    "        \n",
    "        if done:\n",
    "            break\n",
    "\n",
    "        # calculate feature vect again  f(s')\n",
    "        feature_vect = feature_extracter_simple(env)\n",
    "\n",
    "        # update q-value\n",
    "        agent.update_q_value(action,feature_vect_prev,feature_vect,r)\n",
    "        if render:\n",
    "            env.render()\n",
    "            #qvals = np.array([agent.calculateQval(feature_vect,a) for a in range(5)])\n",
    "            #print(qvals)\n",
    "    finished.append(i)\n",
    "        \n",
    "if render:\n",
    "    env.render(close=True)    "
   ]
  },
  {
   "cell_type": "code",
   "execution_count": 112,
   "metadata": {},
   "outputs": [
    {
     "data": {
      "text/plain": [
       "array([[ 0.11088,  0.     ,  0.     ,  0.5    , -0.5    ],\n",
       "       [ 0.12672, -0.5    ,  0.5    ,  0.     ,  0.     ]])"
      ]
     },
     "execution_count": 112,
     "metadata": {},
     "output_type": "execute_result"
    }
   ],
   "source": [
    "agent.thetas"
   ]
  },
  {
   "cell_type": "code",
   "execution_count": 114,
   "metadata": {},
   "outputs": [
    {
     "data": {
      "text/plain": [
       "0"
      ]
     },
     "execution_count": 114,
     "metadata": {},
     "output_type": "execute_result"
    }
   ],
   "source": [
    "action"
   ]
  },
  {
   "cell_type": "code",
   "execution_count": 99,
   "metadata": {},
   "outputs": [
    {
     "data": {
      "text/plain": [
       "array([[  7.49039965,  11.53790457,   9.42981382,   0.65121648,\n",
       "          2.36745581],\n",
       "       [  7.46088674,   0.72327013,   3.84453195,  -1.59939577,\n",
       "         15.46022958]])"
      ]
     },
     "execution_count": 99,
     "metadata": {},
     "output_type": "execute_result"
    }
   ],
   "source": [
    "agent.thetas\n"
   ]
  },
  {
   "cell_type": "code",
   "execution_count": 100,
   "metadata": {},
   "outputs": [
    {
     "data": {
      "text/plain": [
       "38.29550787713395"
      ]
     },
     "execution_count": 100,
     "metadata": {},
     "output_type": "execute_result"
    }
   ],
   "source": [
    "np.dot(feature_vect,agent.thetas[:,1])"
   ]
  },
  {
   "cell_type": "code",
   "execution_count": 101,
   "metadata": {},
   "outputs": [
    {
     "data": {
      "text/plain": [
       "array([[  7.49039965,  11.53790457,   9.42981382,   0.65121648,\n",
       "          2.36745581],\n",
       "       [  7.46088674,   0.72327013,   3.84453195,  -1.59939577,\n",
       "         15.46022958]])"
      ]
     },
     "execution_count": 101,
     "metadata": {},
     "output_type": "execute_result"
    }
   ],
   "source": [
    "agent.thetas"
   ]
  },
  {
   "cell_type": "code",
   "execution_count": 102,
   "metadata": {},
   "outputs": [
    {
     "data": {
      "text/plain": [
       "array([ 3.2,  1.9])"
      ]
     },
     "execution_count": 102,
     "metadata": {},
     "output_type": "execute_result"
    }
   ],
   "source": [
    "feature_vect"
   ]
  },
  {
   "cell_type": "code",
   "execution_count": 103,
   "metadata": {},
   "outputs": [
    {
     "data": {
      "text/plain": [
       "4"
      ]
     },
     "execution_count": 103,
     "metadata": {},
     "output_type": "execute_result"
    }
   ],
   "source": [
    "agent.getAction(feature_vect)"
   ]
  },
  {
   "cell_type": "code",
   "execution_count": 104,
   "metadata": {},
   "outputs": [
    {
     "data": {
      "text/plain": [
       "array([ 3.2,  1.9])"
      ]
     },
     "execution_count": 104,
     "metadata": {},
     "output_type": "execute_result"
    }
   ],
   "source": [
    "feature_vect\n"
   ]
  },
  {
   "cell_type": "code",
   "execution_count": 105,
   "metadata": {},
   "outputs": [
    {
     "data": {
      "text/plain": [
       "<matplotlib.image.AxesImage at 0x123abf278>"
      ]
     },
     "execution_count": 105,
     "metadata": {},
     "output_type": "execute_result"
    },
    {
     "data": {
      "image/png": "[encoded data removed]",
      "text/plain": [
       "<matplotlib.figure.Figure at 0x123099470>"
      ]
     },
     "metadata": {},
     "output_type": "display_data"
    }
   ],
   "source": [
    "env._internal_to_observation()\n",
    "plt.imshow(env._return_img())"
   ]
  },
  {
   "cell_type": "code",
   "execution_count": 63,
   "metadata": {},
   "outputs": [
    {
     "data": {
      "text/plain": [
       "[<matplotlib.lines.Line2D at 0x1231db5c0>]"
      ]
     },
     "execution_count": 63,
     "metadata": {},
     "output_type": "execute_result"
    },
    {
     "data": {
      "image/png": "[encoded data removed]",
      "text/plain": [
       "<matplotlib.figure.Figure at 0x122fc8710>"
      ]
     },
     "metadata": {},
     "output_type": "display_data"
    }
   ],
   "source": [
    "plt.plot(finished)"
   ]
  },
  {
   "cell_type": "code",
   "execution_count": 64,
   "metadata": {},
   "outputs": [],
   "source": [
    "render=True\n",
    "obs = env.reset()\n",
    "feature_vect = feature_extracter_simple(env)\n",
    "for i in range(100):\n",
    "    # store previous observation f(s) for s \n",
    "    feature_vect_prev = feature_vect.copy()\n",
    "\n",
    "    # choose action a\n",
    "    action = agent.getAction(feature_vect)\n",
    "\n",
    "    # take action, update env, get s'\n",
    "    obs,r,done = env.step(action)\n",
    "    if r==1:\n",
    "        pass\n",
    "\n",
    "    if done:\n",
    "        break\n",
    "\n",
    "    time.sleep(0.01) # seconds\n",
    "    # calculate feature vect again  f(s')\n",
    "    feature_vect = feature_extracter_simple(env)\n",
    "\n",
    "    # update q-value\n",
    "    agent.update_q_value(action,feature_vect_prev,feature_vect,r)\n",
    "    if render:\n",
    "        env.render()\n",
    "if render:\n",
    "    env.render(close=True) "
   ]
  },
  {
   "cell_type": "code",
   "execution_count": 65,
   "metadata": {},
   "outputs": [
    {
     "data": {
      "text/plain": [
       "array([[ 15.9992041 ,  16.07172165,  15.95324524,   1.85502666,\n",
       "         12.18333014],\n",
       "       [ 21.11539011,  21.18088079,  20.65207697,  -0.78112944,\n",
       "         28.10154417]])"
      ]
     },
     "execution_count": 65,
     "metadata": {},
     "output_type": "execute_result"
    }
   ],
   "source": [
    "agent.thetas"
   ]
  },
  {
   "cell_type": "code",
   "execution_count": 66,
   "metadata": {},
   "outputs": [
    {
     "data": {
      "text/plain": [
       "[17.704599435101848,\n",
       " 17.774774697559227,\n",
       " 17.519522482412349,\n",
       " 0.97630795760063571,\n",
       " 17.489401480689274]"
      ]
     },
     "execution_count": 66,
     "metadata": {},
     "output_type": "execute_result"
    }
   ],
   "source": [
    "qval_tp1_best = np.max([agent.calculateQval(feature_vect,a) for a in range(5)])\n",
    "[agent.calculateQval(feature_vect,a) for a in range(5)]"
   ]
  },
  {
   "cell_type": "code",
   "execution_count": 67,
   "metadata": {},
   "outputs": [
    {
     "name": "stdout",
     "output_type": "stream",
     "text": [
      "[  2.69533181e-01   2.89127210e-01   2.23992944e-01   1.46422412e-08\n",
      "   2.17346651e-01]\n"
     ]
    }
   ],
   "source": [
    "qvals = np.array([agent.calculateQval(feature_vect,a) for a in range(5)])\n",
    "\n",
    "agent.inv_temp=1.0\n",
    "# softmax\n",
    "pvals = np.exp(qvals/agent.inv_temp)/np.sum(np.exp(qvals/agent.inv_temp))\n",
    "print(pvals)"
   ]
  },
  {
   "cell_type": "code",
   "execution_count": 68,
   "metadata": {},
   "outputs": [
    {
     "data": {
      "text/plain": [
       "array([ 17.70459944,  17.7747747 ,  17.51952248,   0.97630796,  17.48940148])"
      ]
     },
     "execution_count": 68,
     "metadata": {},
     "output_type": "execute_result"
    }
   ],
   "source": [
    "qvals"
   ]
  },
  {
   "cell_type": "markdown",
   "metadata": {},
   "source": [
    "# Scratch"
   ]
  },
  {
   "cell_type": "code",
   "execution_count": 69,
   "metadata": {},
   "outputs": [
    {
     "data": {
      "text/plain": [
       "array([ 0.66666667,  0.33333333])"
      ]
     },
     "execution_count": 69,
     "metadata": {},
     "output_type": "execute_result"
    }
   ],
   "source": [
    "feature_vect"
   ]
  },
  {
   "cell_type": "code",
   "execution_count": 70,
   "metadata": {},
   "outputs": [
    {
     "data": {
      "text/plain": [
       "array([ 0.68085106,  0.31914894])"
      ]
     },
     "execution_count": 70,
     "metadata": {},
     "output_type": "execute_result"
    }
   ],
   "source": [
    "feature_vect_prev"
   ]
  },
  {
   "cell_type": "code",
   "execution_count": 71,
   "metadata": {},
   "outputs": [
    {
     "data": {
      "text/plain": [
       "[17.704599435101848,\n",
       " 17.774774697559227,\n",
       " 17.519522482412349,\n",
       " 0.97630795760063571,\n",
       " 17.489401480689274]"
      ]
     },
     "execution_count": 71,
     "metadata": {},
     "output_type": "execute_result"
    }
   ],
   "source": [
    "[agent.calculateQval(feature_vect,a) for a in range(5)]"
   ]
  },
  {
   "cell_type": "code",
   "execution_count": 85,
   "metadata": {},
   "outputs": [
    {
     "data": {
      "text/plain": [
       "array([ 0.66666667,  0.33333333])"
      ]
     },
     "execution_count": 85,
     "metadata": {},
     "output_type": "execute_result"
    }
   ],
   "source": [
    "feature_vect"
   ]
  },
  {
   "cell_type": "code",
   "execution_count": 86,
   "metadata": {},
   "outputs": [
    {
     "data": {
      "text/plain": [
       "17.774774697559227"
      ]
     },
     "execution_count": 86,
     "metadata": {},
     "output_type": "execute_result"
    }
   ],
   "source": [
    "qval_tp1_best = np.max([agent.calculateQval(feature_vect,a) for a in range(5)])\n",
    "qval_tp1_best"
   ]
  },
  {
   "cell_type": "code",
   "execution_count": 88,
   "metadata": {},
   "outputs": [
    {
     "data": {
      "text/plain": [
       "array([ 0.68085106,  0.31914894])"
      ]
     },
     "execution_count": 88,
     "metadata": {},
     "output_type": "execute_result"
    }
   ],
   "source": [
    "feature_vect_prev"
   ]
  },
  {
   "cell_type": "code",
   "execution_count": 84,
   "metadata": {},
   "outputs": [
    {
     "data": {
      "text/plain": [
       "17.702304355251506"
      ]
     },
     "execution_count": 84,
     "metadata": {},
     "output_type": "execute_result"
    }
   ],
   "source": [
    "qval_tp = agent.calculateQval(feature_vect_prev,action)\n",
    "qval_tp"
   ]
  },
  {
   "cell_type": "code",
   "execution_count": 76,
   "metadata": {},
   "outputs": [
    {
     "data": {
      "text/plain": [
       "-0.10527740466786994"
      ]
     },
     "execution_count": 76,
     "metadata": {},
     "output_type": "execute_result"
    }
   ],
   "source": [
    "\n",
    "# calculate td\n",
    "td = (0 + agent.gamma*qval_tp1_best) - qval_tp\n",
    "td"
   ]
  },
  {
   "cell_type": "code",
   "execution_count": 77,
   "metadata": {},
   "outputs": [
    {
     "data": {
      "text/plain": [
       "-0.10527740466786994"
      ]
     },
     "execution_count": 77,
     "metadata": {},
     "output_type": "execute_result"
    }
   ],
   "source": [
    "td"
   ]
  },
  {
   "cell_type": "code",
   "execution_count": 78,
   "metadata": {},
   "outputs": [
    {
     "data": {
      "text/plain": [
       "array([ 0.68085106,  0.31914894])"
      ]
     },
     "execution_count": 78,
     "metadata": {},
     "output_type": "execute_result"
    }
   ],
   "source": [
    "feature_vect_prev"
   ]
  },
  {
   "cell_type": "code",
   "execution_count": 79,
   "metadata": {},
   "outputs": [
    {
     "data": {
      "text/plain": [
       "0.1"
      ]
     },
     "execution_count": 79,
     "metadata": {},
     "output_type": "execute_result"
    }
   ],
   "source": [
    "agent.alpha"
   ]
  },
  {
   "cell_type": "code",
   "execution_count": 80,
   "metadata": {},
   "outputs": [
    {
     "data": {
      "text/plain": [
       "array([-0.00716782, -0.00335992])"
      ]
     },
     "execution_count": 80,
     "metadata": {},
     "output_type": "execute_result"
    }
   ],
   "source": [
    "agent.alpha*td*feature_vect_prev"
   ]
  },
  {
   "cell_type": "code",
   "execution_count": 1390,
   "metadata": {},
   "outputs": [
    {
     "ename": "NameError",
     "evalue": "name 'self' is not defined",
     "output_type": "error",
     "traceback": [
      "\u001b[0;31m---------------------------------------------------------------------------\u001b[0m",
      "\u001b[0;31mNameError\u001b[0m                                 Traceback (most recent call last)",
      "\u001b[0;32m<ipython-input-1390-488479fcfcfd>\u001b[0m in \u001b[0;36m<module>\u001b[0;34m()\u001b[0m\n\u001b[1;32m      1\u001b[0m \u001b[0;31m# next best action\u001b[0m\u001b[0;34m\u001b[0m\u001b[0;34m\u001b[0m\u001b[0m\n\u001b[0;32m----> 2\u001b[0;31m \u001b[0mqval_tp1_best\u001b[0m \u001b[0;34m=\u001b[0m \u001b[0mnp\u001b[0m\u001b[0;34m.\u001b[0m\u001b[0mmax\u001b[0m\u001b[0;34m(\u001b[0m\u001b[0;34m[\u001b[0m\u001b[0mself\u001b[0m\u001b[0;34m.\u001b[0m\u001b[0mcalculateQval\u001b[0m\u001b[0;34m(\u001b[0m\u001b[0mfeature_vect\u001b[0m\u001b[0;34m,\u001b[0m\u001b[0ma\u001b[0m\u001b[0;34m)\u001b[0m \u001b[0;32mfor\u001b[0m \u001b[0ma\u001b[0m \u001b[0;32min\u001b[0m \u001b[0mrange\u001b[0m\u001b[0;34m(\u001b[0m\u001b[0;36m5\u001b[0m\u001b[0;34m)\u001b[0m\u001b[0;34m]\u001b[0m\u001b[0;34m)\u001b[0m\u001b[0;34m\u001b[0m\u001b[0m\n\u001b[0m\u001b[1;32m      3\u001b[0m \u001b[0;34m\u001b[0m\u001b[0m\n\u001b[1;32m      4\u001b[0m \u001b[0;31m# current q-value\u001b[0m\u001b[0;34m\u001b[0m\u001b[0;34m\u001b[0m\u001b[0m\n\u001b[1;32m      5\u001b[0m \u001b[0mqval_tp\u001b[0m \u001b[0;34m=\u001b[0m \u001b[0mself\u001b[0m\u001b[0;34m.\u001b[0m\u001b[0mcalculateQval\u001b[0m\u001b[0;34m(\u001b[0m\u001b[0mfeature_vect_t\u001b[0m\u001b[0;34m,\u001b[0m\u001b[0maction\u001b[0m\u001b[0;34m)\u001b[0m\u001b[0;34m\u001b[0m\u001b[0m\n",
      "\u001b[0;32m<ipython-input-1390-488479fcfcfd>\u001b[0m in \u001b[0;36m<listcomp>\u001b[0;34m(.0)\u001b[0m\n\u001b[1;32m      1\u001b[0m \u001b[0;31m# next best action\u001b[0m\u001b[0;34m\u001b[0m\u001b[0;34m\u001b[0m\u001b[0m\n\u001b[0;32m----> 2\u001b[0;31m \u001b[0mqval_tp1_best\u001b[0m \u001b[0;34m=\u001b[0m \u001b[0mnp\u001b[0m\u001b[0;34m.\u001b[0m\u001b[0mmax\u001b[0m\u001b[0;34m(\u001b[0m\u001b[0;34m[\u001b[0m\u001b[0mself\u001b[0m\u001b[0;34m.\u001b[0m\u001b[0mcalculateQval\u001b[0m\u001b[0;34m(\u001b[0m\u001b[0mfeature_vect\u001b[0m\u001b[0;34m,\u001b[0m\u001b[0ma\u001b[0m\u001b[0;34m)\u001b[0m \u001b[0;32mfor\u001b[0m \u001b[0ma\u001b[0m \u001b[0;32min\u001b[0m \u001b[0mrange\u001b[0m\u001b[0;34m(\u001b[0m\u001b[0;36m5\u001b[0m\u001b[0;34m)\u001b[0m\u001b[0;34m]\u001b[0m\u001b[0;34m)\u001b[0m\u001b[0;34m\u001b[0m\u001b[0m\n\u001b[0m\u001b[1;32m      3\u001b[0m \u001b[0;34m\u001b[0m\u001b[0m\n\u001b[1;32m      4\u001b[0m \u001b[0;31m# current q-value\u001b[0m\u001b[0;34m\u001b[0m\u001b[0;34m\u001b[0m\u001b[0m\n\u001b[1;32m      5\u001b[0m \u001b[0mqval_tp\u001b[0m \u001b[0;34m=\u001b[0m \u001b[0mself\u001b[0m\u001b[0;34m.\u001b[0m\u001b[0mcalculateQval\u001b[0m\u001b[0;34m(\u001b[0m\u001b[0mfeature_vect_t\u001b[0m\u001b[0;34m,\u001b[0m\u001b[0maction\u001b[0m\u001b[0;34m)\u001b[0m\u001b[0;34m\u001b[0m\u001b[0m\n",
      "\u001b[0;31mNameError\u001b[0m: name 'self' is not defined"
     ]
    }
   ],
   "source": [
    "\n",
    "# update theta  \n",
    "self.thetas[:,action]+= self.alpha*td*feature_vect_t\n",
    "self.thetas[:,action]=self.thetas[:,action]/np.sum(np.abs(self.thetas[:,action]))\n"
   ]
  },
  {
   "cell_type": "code",
   "execution_count": 136,
   "metadata": {
    "collapsed": true
   },
   "outputs": [],
   "source": [
    "import argparse\n",
    "import gym\n",
    "from gym import wrappers\n",
    "import os.path as osp\n",
    "import random\n",
    "import numpy as np\n",
    "import tensorflow as tf\n",
    "import tensorflow.contrib.layers as layers"
   ]
  },
  {
   "cell_type": "code",
   "execution_count": 137,
   "metadata": {
    "collapsed": true
   },
   "outputs": [],
   "source": [
    "def get_env(task, seed):\n",
    "    env_id = task.env_id\n",
    "\n",
    "    env = gym.make(env_id)\n",
    "\n",
    "    set_global_seeds(seed)\n",
    "    env.seed(seed)\n",
    "\n",
    "    expt_dir = '/tmp/hw3_vid_dir2/'\n",
    "    env = wrappers.Monitor(env, osp.join(expt_dir, \"gym\"), force=True)\n",
    "    env = wrap_deepmind(env)\n",
    "\n",
    "    return env"
   ]
  },
  {
   "cell_type": "code",
   "execution_count": 138,
   "metadata": {
    "collapsed": true
   },
   "outputs": [],
   "source": [
    "def set_global_seeds(i):\n",
    "    try:\n",
    "        import tensorflow as tf\n",
    "    except ImportError:\n",
    "        pass\n",
    "    else:\n",
    "        tf.set_random_seed(i)\n",
    "    np.random.seed(i)\n",
    "    random.seed(i)"
   ]
  }
 ],
 "metadata": {
  "kernelspec": {
   "display_name": "Python 3",
   "language": "python",
   "name": "python3"
  },
  "language_info": {
   "codemirror_mode": {
    "name": "ipython",
    "version": 3
   },
   "file_extension": ".py",
   "mimetype": "text/x-python",
   "name": "python",
   "nbconvert_exporter": "python",
   "pygments_lexer": "ipython3",
   "version": "3.5.4"
  }
 },
 "nbformat": 4,
 "nbformat_minor": 2
}
