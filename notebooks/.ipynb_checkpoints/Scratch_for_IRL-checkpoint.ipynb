{
 "cells": [
  {
   "cell_type": "code",
   "execution_count": 1,
   "metadata": {},
   "outputs": [
    {
     "data": {
      "text/plain": [
       "<module 'gym.wrappers' from '/Users/chris/anaconda/envs/env_class_deepRL/lib/python3.5/site-packages/gym/wrappers/__init__.py'>"
      ]
     },
     "execution_count": 1,
     "metadata": {},
     "output_type": "execute_result"
    }
   ],
   "source": [
    "import sys\n",
    "sys.path.append('../dqn/')\n",
    "from gym import wrappers\n",
    "from atari_wrappers import *\n",
    "from dqn_utils import *\n",
    "import random\n",
    "import os.path as osp\n",
    "import gym\n",
    "import time\n",
    "import sys\n",
    "import imp\n",
    "imp.reload(gym)\n",
    "imp.reload(wrappers)"
   ]
  },
  {
   "cell_type": "code",
   "execution_count": 2,
   "metadata": {
    "collapsed": true
   },
   "outputs": [],
   "source": [
    "import matplotlib.pyplot as plt\n",
    "%matplotlib inline"
   ]
  },
  {
   "cell_type": "markdown",
   "metadata": {},
   "source": [
    "# Exploring CQ"
   ]
  },
  {
   "cell_type": "code",
   "execution_count": 43,
   "metadata": {},
   "outputs": [
    {
     "data": {
      "text/plain": [
       "<module 'crystal_quest_env' from '../crystal_quest/crystal_quest_env.py'>"
      ]
     },
     "execution_count": 43,
     "metadata": {},
     "output_type": "execute_result"
    }
   ],
   "source": [
    "sys.path.append('../crystal_quest/')\n",
    "import crystal_quest_env as cq\n",
    "import imp \n",
    "imp.reload(cq) # reload after making changes"
   ]
  },
  {
   "cell_type": "code",
   "execution_count": 56,
   "metadata": {},
   "outputs": [],
   "source": [
    "env = cq.Wave1Env(num_aliens=2,num_crystals=20,num_asteroids=1,obs_type=0)"
   ]
  },
  {
   "cell_type": "code",
   "execution_count": 57,
   "metadata": {},
   "outputs": [
    {
     "name": "stdout",
     "output_type": "stream",
     "text": [
      "Box(39, 25, 4)\n",
      "Discrete(5)\n"
     ]
    }
   ],
   "source": [
    "print(env.observation_space)\n",
    "print(env.action_space)"
   ]
  },
  {
   "cell_type": "code",
   "execution_count": 58,
   "metadata": {},
   "outputs": [
    {
     "data": {
      "text/plain": [
       "gym.spaces.box.Box"
      ]
     },
     "execution_count": 58,
     "metadata": {},
     "output_type": "execute_result"
    }
   ],
   "source": [
    "type(env.observation_space)"
   ]
  },
  {
   "cell_type": "code",
   "execution_count": 59,
   "metadata": {},
   "outputs": [
    {
     "data": {
      "text/plain": [
       "True"
      ]
     },
     "execution_count": 59,
     "metadata": {},
     "output_type": "execute_result"
    }
   ],
   "source": [
    "type(env.observation_space) == gym.spaces.Box"
   ]
  },
  {
   "cell_type": "code",
   "execution_count": 60,
   "metadata": {},
   "outputs": [],
   "source": [
    "obs = env.reset()\n"
   ]
  },
  {
   "cell_type": "code",
   "execution_count": 61,
   "metadata": {},
   "outputs": [
    {
     "data": {
      "text/plain": [
       "array([19, 11])"
      ]
     },
     "execution_count": 61,
     "metadata": {},
     "output_type": "execute_result"
    }
   ],
   "source": [
    "env.ship_location"
   ]
  },
  {
   "cell_type": "code",
   "execution_count": 62,
   "metadata": {},
   "outputs": [
    {
     "data": {
      "text/plain": [
       "array([0, 1])"
      ]
     },
     "execution_count": 62,
     "metadata": {},
     "output_type": "execute_result"
    }
   ],
   "source": [
    "env.ship_velocity"
   ]
  },
  {
   "cell_type": "code",
   "execution_count": 63,
   "metadata": {},
   "outputs": [],
   "source": [
    "#"
   ]
  },
  {
   "cell_type": "code",
   "execution_count": 64,
   "metadata": {},
   "outputs": [],
   "source": [
    "replay_buffer = ReplayBuffer(1000, 1)\n",
    "last_obs = env.reset()\n",
    "\n",
    "\n",
    "for t in range(1000):\n",
    "    idx = replay_buffer.store_frame(last_obs)\n",
    "    recent_history= replay_buffer.encode_recent_observation()\n",
    "    action = env.action_space.sample()\n",
    "    obs, reward, done,info = env.step(action)\n",
    "    replay_buffer.store_effect(idx,action,reward,done)\n",
    "    if done:\n",
    "        obs = env.reset()\n",
    "    last_obs= obs.copy()"
   ]
  },
  {
   "cell_type": "code",
   "execution_count": 65,
   "metadata": {},
   "outputs": [
    {
     "data": {
      "text/plain": [
       "array([[ 34.,   0.],\n",
       "       [  6.,   2.]])"
      ]
     },
     "execution_count": 65,
     "metadata": {},
     "output_type": "execute_result"
    }
   ],
   "source": [
    "env.alien_locations"
   ]
  },
  {
   "cell_type": "code",
   "execution_count": 67,
   "metadata": {},
   "outputs": [
    {
     "data": {
      "text/plain": [
       "array([ -1.,  -1.,  49.,  -1.,  -1.,  -1.,  -1.,  -1.,  -1.,  -1.,  -1.,\n",
       "        -1.,  -1.,  -1.,  -1.,  -1.,  -1.,  -1.,  -1.,  49.], dtype=float32)"
      ]
     },
     "execution_count": 67,
     "metadata": {},
     "output_type": "execute_result"
    }
   ],
   "source": [
    "replay_buffer.reward[0:20]"
   ]
  },
  {
   "cell_type": "code",
   "execution_count": 79,
   "metadata": {},
   "outputs": [
    {
     "data": {
      "text/plain": [
       "<matplotlib.image.AxesImage at 0x12d99d828>"
      ]
     },
     "execution_count": 79,
     "metadata": {},
     "output_type": "execute_result"
    },
    {
     "data": {
      "image/png": "[encoded data removed]",
      "text/plain": [
       "<matplotlib.figure.Figure at 0x12da840f0>"
      ]
     },
     "metadata": {},
     "output_type": "display_data"
    }
   ],
   "source": [
    "plt.imshow(replay_buffer.obs[89,:,:,1])"
   ]
  },
  {
   "cell_type": "code",
   "execution_count": 82,
   "metadata": {
    "collapsed": true
   },
   "outputs": [],
   "source": [
    "batch_size=32\n",
    "obs_t_batch, act_t_batch, rew_batch, obs_tp1_batch, done_mask = replay_buffer.sample(batch_size)\n"
   ]
  },
  {
   "cell_type": "code",
   "execution_count": 83,
   "metadata": {},
   "outputs": [
    {
     "data": {
      "text/plain": [
       "array([3, 1, 4, 3, 0, 0, 3, 4, 4, 0, 1, 2, 1, 3, 1, 1, 0, 1, 3, 4, 2, 4, 3,\n",
       "       2, 1, 1, 4, 2, 2, 0, 0, 4], dtype=int32)"
      ]
     },
     "execution_count": 83,
     "metadata": {},
     "output_type": "execute_result"
    }
   ],
   "source": [
    "act_t_batch"
   ]
  },
  {
   "cell_type": "code",
   "execution_count": 84,
   "metadata": {},
   "outputs": [
    {
     "data": {
      "text/plain": [
       "(32, 39, 25, 4)"
      ]
     },
     "execution_count": 84,
     "metadata": {},
     "output_type": "execute_result"
    }
   ],
   "source": [
    "obs_t_batch.shape"
   ]
  },
  {
   "cell_type": "code",
   "execution_count": 86,
   "metadata": {},
   "outputs": [
    {
     "data": {
      "text/plain": [
       "(39, 25, 4)"
      ]
     },
     "execution_count": 86,
     "metadata": {},
     "output_type": "execute_result"
    }
   ],
   "source": [
    "obs_t_batch[0,:].shape"
   ]
  },
  {
   "cell_type": "code",
   "execution_count": 88,
   "metadata": {},
   "outputs": [
    {
     "data": {
      "text/plain": [
       "(39, 25, 4)"
      ]
     },
     "execution_count": 88,
     "metadata": {},
     "output_type": "execute_result"
    }
   ],
   "source": [
    "obs_t_batch[6,:].shape"
   ]
  },
  {
   "cell_type": "code",
   "execution_count": 90,
   "metadata": {},
   "outputs": [
    {
     "data": {
      "text/plain": [
       "array([254], dtype=uint8)"
      ]
     },
     "execution_count": 90,
     "metadata": {},
     "output_type": "execute_result"
    }
   ],
   "source": [
    "np.array([-2.0]).astype('uint8')"
   ]
  },
  {
   "cell_type": "code",
   "execution_count": 91,
   "metadata": {},
   "outputs": [
    {
     "data": {
      "text/plain": [
       "-1.0"
      ]
     },
     "execution_count": 91,
     "metadata": {},
     "output_type": "execute_result"
    }
   ],
   "source": [
    "rew_batch[6]"
   ]
  },
  {
   "cell_type": "code",
   "execution_count": 92,
   "metadata": {},
   "outputs": [
    {
     "data": {
      "text/plain": [
       "array([ 0.,  0.,  0.,  0.,  0.,  0.,  0.,  0.,  0.,  0.,  0.,  0.,  0.,\n",
       "        0.,  0.,  0.,  0.,  0.,  0.,  0.,  0.,  0.,  0.,  0.,  0.,  0.,\n",
       "        0.,  0.,  0.,  0.,  0.,  0.], dtype=float32)"
      ]
     },
     "execution_count": 92,
     "metadata": {},
     "output_type": "execute_result"
    }
   ],
   "source": [
    "done_mask"
   ]
  },
  {
   "cell_type": "code",
   "execution_count": 95,
   "metadata": {},
   "outputs": [],
   "source": [
    "#obs_t_batch[1,:]/255"
   ]
  },
  {
   "cell_type": "markdown",
   "metadata": {},
   "source": [
    "# Manual Control"
   ]
  },
  {
   "cell_type": "code",
   "execution_count": 102,
   "metadata": {},
   "outputs": [
    {
     "data": {
      "text/plain": [
       "<matplotlib.image.AxesImage at 0x12e2f5518>"
      ]
     },
     "execution_count": 102,
     "metadata": {},
     "output_type": "execute_result"
    },
    {
     "data": {
      "image/png": "[encoded data removed]",
      "text/plain": [
       "<matplotlib.figure.Figure at 0x12e0442e8>"
      ]
     },
     "metadata": {},
     "output_type": "display_data"
    }
   ],
   "source": [
    "env = cq.Wave1Env(num_aliens=1,num_crystals=50,num_asteroids=1,obs_type=0)\n",
    "obs = env.reset()\n",
    "plt.imshow(obs[:,:,0].T)"
   ]
  },
  {
   "cell_type": "code",
   "execution_count": 114,
   "metadata": {},
   "outputs": [
    {
     "data": {
      "text/plain": [
       "<matplotlib.image.AxesImage at 0x12eec41d0>"
      ]
     },
     "execution_count": 114,
     "metadata": {},
     "output_type": "execute_result"
    },
    {
     "data": {
      "image/png": "[encoded data removed]",
      "text/plain": [
       "<matplotlib.figure.Figure at 0x12edd8438>"
      ]
     },
     "metadata": {},
     "output_type": "display_data"
    }
   ],
   "source": [
    "obs, reward, done,info = env.step(2)\n",
    "plt.imshow(obs[:,:,0].T)"
   ]
  },
  {
   "cell_type": "markdown",
   "metadata": {},
   "source": [
    "# Testing Feature Obs"
   ]
  },
  {
   "cell_type": "code",
   "execution_count": 115,
   "metadata": {},
   "outputs": [],
   "source": [
    "sys.path.append('../crystal_quest/')\n",
    "import crystal_quest_env as cq\n",
    "import imp \n",
    "imp.reload(cq) # reload after making changes\n",
    "env = cq.Wave1Env(num_aliens=1,num_crystals=20,num_asteroids=10,obs_type=2)\n",
    "obs = env.reset()\n"
   ]
  },
  {
   "cell_type": "code",
   "execution_count": 116,
   "metadata": {},
   "outputs": [
    {
     "name": "stdout",
     "output_type": "stream",
     "text": [
      "[ 1.  3.  1. -1.  2.  1. -1.  1. -1.]\n"
     ]
    },
    {
     "data": {
      "text/plain": [
       "<matplotlib.image.AxesImage at 0x12efd1438>"
      ]
     },
     "execution_count": 116,
     "metadata": {},
     "output_type": "execute_result"
    },
    {
     "data": {
      "image/png": "[encoded data removed]",
      "text/plain": [
       "<matplotlib.figure.Figure at 0x12ecf1400>"
      ]
     },
     "metadata": {},
     "output_type": "display_data"
    }
   ],
   "source": [
    "obs,_,_,_=env.step(env.action_space.sample())\n",
    "print(obs)\n",
    "plt.imshow(env._return_img())"
   ]
  },
  {
   "cell_type": "markdown",
   "metadata": {},
   "source": [
    "# Testing Window Obs"
   ]
  },
  {
   "cell_type": "code",
   "execution_count": 137,
   "metadata": {},
   "outputs": [],
   "source": [
    "sys.path.append('../crystal_quest/')\n",
    "import crystal_quest_env as cq\n",
    "import imp \n",
    "imp.reload(cq) # reload after making changes\n",
    "env = cq.Wave1Env(num_aliens=1,num_crystals=10,num_asteroids=20,obs_type=3,relative_window=(25,25))\n",
    "obs = env.reset()\n"
   ]
  },
  {
   "cell_type": "code",
   "execution_count": 138,
   "metadata": {
    "collapsed": true
   },
   "outputs": [],
   "source": [
    "obs,_,_,_=env.step(env.action_space.sample())"
   ]
  },
  {
   "cell_type": "code",
   "execution_count": 139,
   "metadata": {},
   "outputs": [
    {
     "data": {
      "text/plain": [
       "<matplotlib.image.AxesImage at 0x12ffc56a0>"
      ]
     },
     "execution_count": 139,
     "metadata": {},
     "output_type": "execute_result"
    },
    {
     "data": {
      "image/png": "[encoded data removed]",
      "text/plain": [
       "<matplotlib.figure.Figure at 0x12f5226d8>"
      ]
     },
     "metadata": {},
     "output_type": "display_data"
    }
   ],
   "source": [
    "plt.imshow(env._return_img())"
   ]
  },
  {
   "cell_type": "code",
   "execution_count": 144,
   "metadata": {},
   "outputs": [
    {
     "data": {
      "text/plain": [
       "<matplotlib.image.AxesImage at 0x1303426a0>"
      ]
     },
     "execution_count": 144,
     "metadata": {},
     "output_type": "execute_result"
    },
    {
     "data": {
      "image/png": "[encoded data removed]",
      "text/plain": [
       "<matplotlib.figure.Figure at 0x130219c88>"
      ]
     },
     "metadata": {},
     "output_type": "display_data"
    }
   ],
   "source": [
    "plt.imshow(obs,)"
   ]
  },
  {
   "cell_type": "markdown",
   "metadata": {},
   "source": [
    "# Custom TF Reward Functions"
   ]
  },
  {
   "cell_type": "code",
   "execution_count": 42,
   "metadata": {},
   "outputs": [],
   "source": [
    "import sys\n",
    "sys.path.append('../crystal_quest/')\n",
    "sys.path.append('../dqn/')\n",
    "from gym import wrappers\n",
    "from atari_wrappers import *\n",
    "from dqn_utils import *\n",
    "import random\n",
    "import gym\n",
    "import sys\n",
    "import imp\n",
    "import crystal_quest_env as cq\n",
    "import reward_functions\n",
    "imp.reload(cq) # reload after making changes\n",
    "imp.reload(gym)\n",
    "imp.reload(wrappers)\n",
    "imp.reload(reward_functions)\n",
    "from reward_functions import *"
   ]
  },
  {
   "cell_type": "code",
   "execution_count": 43,
   "metadata": {
    "collapsed": true
   },
   "outputs": [],
   "source": [
    "# set up a tf session\n",
    "tf.reset_default_graph()\n",
    "tf_config = tf.ConfigProto(\n",
    "    inter_op_parallelism_threads=1,\n",
    "    intra_op_parallelism_threads=1)\n",
    "session = tf.Session(config=tf_config)"
   ]
  },
  {
   "cell_type": "code",
   "execution_count": 44,
   "metadata": {},
   "outputs": [],
   "source": [
    "reward_func = SimpleRewardFunction(session)"
   ]
  },
  {
   "cell_type": "code",
   "execution_count": 45,
   "metadata": {
    "collapsed": true
   },
   "outputs": [],
   "source": [
    "env = cq.Wave1Env(num_aliens=1,num_crystals=10,num_asteroids=20,\n",
    "                  obs_type=3,relative_window=(25,25),\n",
    "                 reward_func=reward_func)\n",
    "obs = env.reset()"
   ]
  },
  {
   "cell_type": "code",
   "execution_count": 46,
   "metadata": {},
   "outputs": [],
   "source": [
    "tf.global_variables_initializer().run(session=session)\n",
    "reward_func.set_phi(np.array([2.0,-2.0,-1.0]))"
   ]
  },
  {
   "cell_type": "code",
   "execution_count": 47,
   "metadata": {},
   "outputs": [
    {
     "data": {
      "text/plain": [
       "array([ 2., -2., -1.], dtype=float32)"
      ]
     },
     "execution_count": 47,
     "metadata": {},
     "output_type": "execute_result"
    }
   ],
   "source": [
    "reward_func.sess.run(reward_func.phi)"
   ]
  },
  {
   "cell_type": "markdown",
   "metadata": {},
   "source": [
    "- importantly you need to set phi *after* variable initially"
   ]
  },
  {
   "cell_type": "code",
   "execution_count": 48,
   "metadata": {},
   "outputs": [
    {
     "data": {
      "text/plain": [
       "array([ 0.], dtype=float32)"
      ]
     },
     "execution_count": 48,
     "metadata": {},
     "output_type": "execute_result"
    }
   ],
   "source": [
    "reward_func.sess.run(reward_func.b)"
   ]
  },
  {
   "cell_type": "code",
   "execution_count": 49,
   "metadata": {},
   "outputs": [],
   "source": [
    "env.alien_collision=1.0"
   ]
  },
  {
   "cell_type": "code",
   "execution_count": 50,
   "metadata": {},
   "outputs": [
    {
     "data": {
      "text/plain": [
       "array([[-2.]], dtype=float32)"
      ]
     },
     "execution_count": 50,
     "metadata": {},
     "output_type": "execute_result"
    }
   ],
   "source": [
    "reward_func.calculate_reward(env)"
   ]
  },
  {
   "cell_type": "code",
   "execution_count": 51,
   "metadata": {},
   "outputs": [
    {
     "data": {
      "text/plain": [
       "array([[ 2.],\n",
       "       [-2.],\n",
       "       [-1.]], dtype=float32)"
      ]
     },
     "execution_count": 51,
     "metadata": {},
     "output_type": "execute_result"
    }
   ],
   "source": [
    "reward_func.sess.run(tf.expand_dims(reward_func.phi,1))"
   ]
  },
  {
   "cell_type": "code",
   "execution_count": 11,
   "metadata": {},
   "outputs": [
    {
     "name": "stdout",
     "output_type": "stream",
     "text": [
      "(0, 0, 0)\n",
      "[[ 0.]]\n",
      "\n",
      "(0, 0, 0)\n",
      "[[ 0.]]\n",
      "\n",
      "(0, 0, 0)\n",
      "[[ 0.]]\n",
      "\n",
      "(0, 0, 0)\n",
      "[[ 0.]]\n",
      "\n",
      "(0, 0, 0)\n",
      "[[ 0.]]\n",
      "\n",
      "(0, 0, 0)\n",
      "[[ 0.]]\n",
      "\n",
      "(0, 0, 0)\n",
      "[[ 0.]]\n",
      "\n",
      "(0, 0, 0)\n",
      "[[ 0.]]\n",
      "\n",
      "(0, 0, 0)\n",
      "[[ 0.]]\n",
      "\n",
      "(0, 0, 0)\n",
      "[[ 0.]]\n",
      "\n",
      "(0, 0, 0)\n",
      "[[ 0.]]\n",
      "\n",
      "(0, 0, 0)\n",
      "[[ 0.]]\n",
      "\n",
      "(0, 0, 0)\n",
      "[[ 0.]]\n",
      "\n",
      "(0, 0, 0)\n",
      "[[ 0.]]\n",
      "\n",
      "(0, 0, 0)\n",
      "[[ 0.]]\n",
      "\n",
      "(0, 0, 0)\n",
      "[[ 0.]]\n",
      "\n",
      "(0, 0, 0)\n",
      "[[ 0.]]\n",
      "\n",
      "(0, 0, 0)\n",
      "[[ 0.]]\n",
      "\n",
      "(0, 0, 0)\n",
      "[[ 0.]]\n",
      "\n",
      "(0, 0, 0)\n",
      "[[ 0.]]\n",
      "\n",
      "(0, 0, 0)\n",
      "[[ 0.]]\n",
      "\n",
      "(0, 0, 0)\n",
      "[[ 0.]]\n",
      "\n",
      "(0, 0, 0)\n",
      "[[ 0.]]\n",
      "\n",
      "(0, 0, 0)\n",
      "[[ 0.]]\n",
      "\n",
      "(0, 0, 0)\n",
      "[[ 0.]]\n",
      "\n",
      "(0, 0, 0)\n",
      "[[ 0.]]\n",
      "\n",
      "(0, 0, 0)\n",
      "[[ 0.]]\n",
      "\n",
      "(0, 0, 0)\n",
      "[[ 0.]]\n",
      "\n",
      "(0, 0, 0)\n",
      "[[ 0.]]\n",
      "\n",
      "(0, 0, 0)\n",
      "[[ 0.]]\n",
      "\n",
      "(0, 0, 0)\n",
      "[[ 0.]]\n",
      "\n",
      "(0, 0, 0)\n",
      "[[ 0.]]\n",
      "\n",
      "(0, 0, 0)\n",
      "[[ 0.]]\n",
      "\n",
      "(0, 0, 0)\n",
      "[[ 0.]]\n",
      "\n",
      "(0, 0, 0)\n",
      "[[ 0.]]\n",
      "\n",
      "(0, 0, 0)\n",
      "[[ 0.]]\n",
      "\n",
      "(0, 0, 0)\n",
      "[[ 0.]]\n",
      "\n",
      "(0, 0, 0)\n",
      "[[ 0.]]\n",
      "\n",
      "(0, 0, 0)\n",
      "[[ 0.]]\n",
      "\n",
      "(0, 0, 0)\n",
      "[[ 0.]]\n",
      "\n",
      "(0, 0, 0)\n",
      "[[ 0.]]\n",
      "\n",
      "(0, 0, 0)\n",
      "[[ 0.]]\n",
      "\n",
      "(0, 0, 0)\n",
      "[[ 0.]]\n",
      "\n",
      "(0, 0, 0)\n",
      "[[ 0.]]\n",
      "\n",
      "(0, 0, 0)\n",
      "[[ 0.]]\n",
      "\n",
      "(0, 0, 0)\n",
      "[[ 0.]]\n",
      "\n",
      "(0, 0, 0)\n",
      "[[ 0.]]\n",
      "\n",
      "(0, 0, 0)\n",
      "[[ 0.]]\n",
      "\n",
      "(0, 0, 0)\n",
      "[[ 0.]]\n",
      "\n",
      "(0, 0, 0)\n",
      "[[ 0.]]\n",
      "\n",
      "(0, 0, 0)\n",
      "[[ 0.]]\n",
      "\n",
      "(0, 0, 0)\n",
      "[[ 0.]]\n",
      "\n",
      "(0, 0, 0)\n",
      "[[ 0.]]\n",
      "\n",
      "(0, 0, 0)\n",
      "[[ 0.]]\n",
      "\n",
      "(0, 0, 0)\n",
      "[[ 0.]]\n",
      "\n",
      "(0, 0, 0)\n",
      "[[ 0.]]\n",
      "\n",
      "(0, 0, 0)\n",
      "[[ 0.]]\n",
      "\n",
      "(0, 0, 0)\n",
      "[[ 0.]]\n",
      "\n",
      "(0, 0, 0)\n",
      "[[ 0.]]\n",
      "\n",
      "(0, 0, 0)\n",
      "[[ 0.]]\n",
      "\n",
      "(0, 0, 0)\n",
      "[[ 0.]]\n",
      "\n",
      "(0, 0, 0)\n",
      "[[ 0.]]\n",
      "\n",
      "(0, 0, 0)\n",
      "[[ 0.]]\n",
      "\n",
      "(0, 0, 0)\n",
      "[[ 0.]]\n",
      "\n",
      "(0, 0, 0)\n",
      "[[ 0.]]\n",
      "\n",
      "(0, 0, 0)\n",
      "[[ 0.]]\n",
      "\n",
      "(0, 0, 0)\n",
      "[[ 0.]]\n",
      "\n",
      "(0, 0, 0)\n",
      "[[ 0.]]\n",
      "\n",
      "(0, 0, 0)\n",
      "[[ 0.]]\n",
      "\n",
      "(0, 0, 0)\n",
      "[[ 0.]]\n",
      "\n",
      "(0, 0, 0)\n",
      "[[ 0.]]\n",
      "\n",
      "(0, 0, 0)\n",
      "[[ 0.]]\n",
      "\n",
      "(0, 0, 0)\n",
      "[[ 0.]]\n",
      "\n",
      "(0, 0, 0)\n",
      "[[ 0.]]\n",
      "\n",
      "(0, 0, 0)\n",
      "[[ 0.]]\n",
      "\n",
      "(0, 0, 0)\n",
      "[[ 0.]]\n",
      "\n",
      "(0, 0, 0)\n",
      "[[ 0.]]\n",
      "\n",
      "(0, 0, 0)\n",
      "[[ 0.]]\n",
      "\n",
      "(0, 0, 0)\n",
      "[[ 0.]]\n",
      "\n",
      "(0, 0, 0)\n",
      "[[ 0.]]\n",
      "\n",
      "(0, 0, 0)\n",
      "[[ 0.]]\n",
      "\n",
      "(0, 0, 0)\n",
      "[[ 0.]]\n",
      "\n",
      "(0, 0, 0)\n",
      "[[ 0.]]\n",
      "\n",
      "(0, 0, 0)\n",
      "[[ 0.]]\n",
      "\n",
      "(0, 0, 0)\n",
      "[[ 0.]]\n",
      "\n",
      "(0, 0, 0)\n",
      "[[ 0.]]\n",
      "\n",
      "(0, 0, 0)\n",
      "[[ 0.]]\n",
      "\n",
      "(0, 0, 0)\n",
      "[[ 0.]]\n",
      "\n",
      "(0, 0, 0)\n",
      "[[ 0.]]\n",
      "\n",
      "(0, 0, 0)\n",
      "[[ 0.]]\n",
      "\n",
      "(0, 0, 0)\n",
      "[[ 0.]]\n",
      "\n",
      "(0, 0, 0)\n",
      "[[ 0.]]\n",
      "\n",
      "(0, 0, 0)\n",
      "[[ 0.]]\n",
      "\n",
      "(0, 0, 0)\n",
      "[[ 0.]]\n",
      "\n",
      "(0, 0, 0)\n",
      "[[ 0.]]\n",
      "\n",
      "(0, 0, 0)\n",
      "[[ 0.]]\n",
      "\n",
      "(0, 0, 0)\n",
      "[[ 0.]]\n",
      "\n",
      "(0, 0, 0)\n",
      "[[ 0.]]\n",
      "\n",
      "(0, 0, 0)\n",
      "[[ 0.]]\n",
      "\n",
      "(0, 0, 0)\n",
      "[[ 0.]]\n",
      "\n",
      "(0, 0, 0)\n",
      "[[ 0.]]\n",
      "\n",
      "(0, 0, 0)\n",
      "[[ 0.]]\n",
      "\n",
      "(0, 0, 0)\n",
      "[[ 0.]]\n",
      "\n",
      "(0, 0, 0)\n",
      "[[ 0.]]\n",
      "\n",
      "(0, 0, 0)\n",
      "[[ 0.]]\n",
      "\n",
      "(0, 0, 0)\n",
      "[[ 0.]]\n",
      "\n",
      "(0, 0, 0)\n",
      "[[ 0.]]\n",
      "\n",
      "(0, 0, 0)\n",
      "[[ 0.]]\n",
      "\n",
      "(0, 0, 0)\n",
      "[[ 0.]]\n",
      "\n",
      "(1, 0, 0)\n",
      "[[ 2.]]\n",
      "\n",
      "(0, 0, 0)\n",
      "[[ 0.]]\n",
      "\n",
      "(0, 0, 0)\n",
      "[[ 0.]]\n",
      "\n",
      "(0, 0, 0)\n",
      "[[ 0.]]\n",
      "\n",
      "(0, 0, 0)\n",
      "[[ 0.]]\n",
      "\n",
      "(0, 0, 0)\n",
      "[[ 0.]]\n",
      "\n",
      "(0, 0, 0)\n",
      "[[ 0.]]\n",
      "\n",
      "(0, 0, 0)\n",
      "[[ 0.]]\n",
      "\n",
      "(0, 0, 0)\n",
      "[[ 0.]]\n",
      "\n",
      "(0, 0, 0)\n",
      "[[ 0.]]\n",
      "\n",
      "(0, 0, 0)\n",
      "[[ 0.]]\n",
      "\n",
      "(0, 0, 0)\n",
      "[[ 0.]]\n",
      "\n",
      "(0, 0, 0)\n",
      "[[ 0.]]\n",
      "\n",
      "(0, 0, 0)\n",
      "[[ 0.]]\n",
      "\n",
      "(0, 0, 0)\n",
      "[[ 0.]]\n",
      "\n",
      "(1, 0, 0)\n",
      "[[ 2.]]\n",
      "\n",
      "(0, 0, 0)\n",
      "[[ 0.]]\n",
      "\n",
      "(0, 0, 0)\n",
      "[[ 0.]]\n",
      "\n",
      "(0, 0, 0)\n",
      "[[ 0.]]\n",
      "\n",
      "(0, 0, 0)\n",
      "[[ 0.]]\n",
      "\n",
      "(1, 0, 0)\n",
      "[[ 2.]]\n",
      "\n",
      "(0, 0, 0)\n",
      "[[ 0.]]\n",
      "\n",
      "(0, 0, 0)\n",
      "[[ 0.]]\n",
      "\n",
      "(0, 0, 0)\n",
      "[[ 0.]]\n",
      "\n",
      "(0, 0, 0)\n",
      "[[ 0.]]\n",
      "\n",
      "(0, 0, 0)\n",
      "[[ 0.]]\n",
      "\n",
      "(0, 0, 0)\n",
      "[[ 0.]]\n",
      "\n",
      "(0, 0, 0)\n",
      "[[ 0.]]\n",
      "\n",
      "(0, 0, 0)\n",
      "[[ 0.]]\n",
      "\n",
      "(0, 0, 0)\n",
      "[[ 0.]]\n",
      "\n",
      "(0, 0, 0)\n",
      "[[ 0.]]\n",
      "\n",
      "(0, 0, 0)\n",
      "[[ 0.]]\n",
      "\n",
      "(0, 0, 0)\n",
      "[[ 0.]]\n",
      "\n",
      "(0, 0, 0)\n",
      "[[ 0.]]\n",
      "\n",
      "(0, 0, 0)\n",
      "[[ 0.]]\n",
      "\n",
      "(0, 0, 0)\n",
      "[[ 0.]]\n",
      "\n",
      "(0, 0, 0)\n",
      "[[ 0.]]\n",
      "\n",
      "(0, 0, 0)\n",
      "[[ 0.]]\n",
      "\n",
      "(0, 0, 0)\n",
      "[[ 0.]]\n",
      "\n",
      "(0, 0, 0)\n",
      "[[ 0.]]\n",
      "\n",
      "(0, 0, 0)\n",
      "[[ 0.]]\n",
      "\n",
      "(0, 0, 0)\n",
      "[[ 0.]]\n",
      "\n",
      "(0, 0, 0)\n",
      "[[ 0.]]\n",
      "\n",
      "(0, 0, 0)\n",
      "[[ 0.]]\n",
      "\n",
      "(0, 0, 0)\n",
      "[[ 0.]]\n",
      "\n",
      "(0, 0, 0)\n",
      "[[ 0.]]\n",
      "\n",
      "(0, 0, 0)\n",
      "[[ 0.]]\n",
      "\n",
      "(0, 0, 0)\n",
      "[[ 0.]]\n",
      "\n",
      "(0, 0, 0)\n",
      "[[ 0.]]\n",
      "\n",
      "(0, 0, 0)\n",
      "[[ 0.]]\n",
      "\n",
      "(0, 0, 0)\n",
      "[[ 0.]]\n",
      "\n",
      "(0, 0, 0)\n",
      "[[ 0.]]\n",
      "\n",
      "(0, 0, 0)\n",
      "[[ 0.]]\n",
      "\n",
      "(0, 0, 0)\n",
      "[[ 0.]]\n",
      "\n",
      "(0, 0, 0)\n",
      "[[ 0.]]\n",
      "\n",
      "(0, 0, 0)\n",
      "[[ 0.]]\n",
      "\n",
      "(0, 0, 0)\n",
      "[[ 0.]]\n",
      "\n",
      "(0, 0, 0)\n",
      "[[ 0.]]\n",
      "\n",
      "(0, 0, 0)\n",
      "[[ 0.]]\n",
      "\n",
      "(0, 0, 0)\n",
      "[[ 0.]]\n",
      "\n",
      "(0, 0, 0)\n",
      "[[ 0.]]\n",
      "\n",
      "(0, 0, 0)\n",
      "[[ 0.]]\n",
      "\n",
      "(0, 0, 0)\n",
      "[[ 0.]]\n",
      "\n",
      "(0, 0, 0)\n",
      "[[ 0.]]\n",
      "\n",
      "(0, 0, 0)\n",
      "[[ 0.]]\n",
      "\n",
      "(0, 0, 0)\n",
      "[[ 0.]]\n",
      "\n",
      "(0, 0, 0)\n",
      "[[ 0.]]\n",
      "\n",
      "(0, 0, 0)\n",
      "[[ 0.]]\n",
      "\n",
      "(0, 0, 0)\n",
      "[[ 0.]]\n",
      "\n",
      "(0, 0, 0)\n",
      "[[ 0.]]\n",
      "\n",
      "(0, 0, 0)\n",
      "[[ 0.]]\n",
      "\n",
      "(0, 0, 0)\n",
      "[[ 0.]]\n",
      "\n",
      "(0, 0, 0)\n",
      "[[ 0.]]\n",
      "\n",
      "(0, 0, 0)\n",
      "[[ 0.]]\n",
      "\n",
      "(0, 0, 0)\n",
      "[[ 0.]]\n",
      "\n",
      "(0, 0, 0)\n",
      "[[ 0.]]\n",
      "\n",
      "(0, 0, 0)\n",
      "[[ 0.]]\n",
      "\n",
      "(0, 0, 0)\n",
      "[[ 0.]]\n",
      "\n",
      "(0, 0, 0)\n",
      "[[ 0.]]\n",
      "\n",
      "(0, 0, 0)\n",
      "[[ 0.]]\n",
      "\n",
      "(0, 0, 0)\n",
      "[[ 0.]]\n",
      "\n",
      "(0, 0, 0)\n",
      "[[ 0.]]\n",
      "\n",
      "(0, 0, 0)\n",
      "[[ 0.]]\n",
      "\n",
      "(0, 0, 0)\n",
      "[[ 0.]]\n",
      "\n",
      "(0, 0, 0)\n",
      "[[ 0.]]\n",
      "\n",
      "(0, 0, 0)\n",
      "[[ 0.]]\n",
      "\n",
      "(0, 0, 0)\n",
      "[[ 0.]]\n",
      "\n",
      "(0, 0, 0)\n",
      "[[ 0.]]\n",
      "\n",
      "(0, 0, 0)\n",
      "[[ 0.]]\n",
      "\n",
      "(0, 0, 0)\n",
      "[[ 0.]]\n",
      "\n",
      "(0, 0, 0)\n",
      "[[ 0.]]\n",
      "\n"
     ]
    }
   ],
   "source": [
    "for i in range(200):\n",
    "    obs,rew,done,info=env.step(env.action_space.sample())\n",
    "    print((env.crystal_captured,env.alien_collision,env.asteroid_collision))\n",
    "    print(rew)\n",
    "    print('')"
   ]
  },
  {
   "cell_type": "markdown",
   "metadata": {},
   "source": [
    "- ok cool it's calculating the reward quickly, with no obvious slow down."
   ]
  },
  {
   "cell_type": "markdown",
   "metadata": {},
   "source": [
    "### now loading in features to calculate loss"
   ]
  },
  {
   "cell_type": "code",
   "execution_count": 398,
   "metadata": {},
   "outputs": [],
   "source": [
    "crystals = np.loadtxt('../dqn/cq_gr_truth1/gym/episode_crystals2017-11-25-15:50.txt')\n",
    "aliens = np.loadtxt('../dqn/cq_gr_truth1/gym/episode_alien_collisions2017-11-25-15:50.txt')\n",
    "asteroids = np.loadtxt('../dqn/cq_gr_truth1/gym/episode_asteroid_collisions2017-11-25-15:50.txt')\n"
   ]
  },
  {
   "cell_type": "code",
   "execution_count": 404,
   "metadata": {},
   "outputs": [
    {
     "data": {
      "text/plain": [
       "<matplotlib.figure.Figure at 0x1259e4320>"
      ]
     },
     "metadata": {},
     "output_type": "display_data"
    },
    {
     "data": {
      "image/png": "[encoded data removed]",
      "text/plain": [
       "<matplotlib.figure.Figure at 0x1259e4358>"
      ]
     },
     "metadata": {},
     "output_type": "display_data"
    }
   ],
   "source": [
    "plt.figure(figsize=(8,4))\n",
    "fig,axes=plt.subplots(1,3,figsize=(12,4))\n",
    "axes[0].plot(crystals[-200:-1])\n",
    "axes[0].set_title('crystals')\n",
    "axes[1].plot(asteroids[-200:-1])\n",
    "axes[1].set_title('asteroids')\n",
    "axes[2].plot(aliens[-200:-1])\n",
    "axes[2].set_title('aliens')\n",
    "for ax in axes:\n",
    "    ax.set_xlabel('episodes')\n"
   ]
  },
  {
   "cell_type": "code",
   "execution_count": 406,
   "metadata": {},
   "outputs": [],
   "source": [
    "features_demo = np.vstack((crystals[-100:-1:],aliens[-100:-1:],asteroids[-100:-1:])).T\n",
    "features_demo2 = features_demo.copy()"
   ]
  },
  {
   "cell_type": "code",
   "execution_count": 416,
   "metadata": {},
   "outputs": [
    {
     "name": "stdout",
     "output_type": "stream",
     "text": [
      "learning rate 0.001000\n",
      "loss -0.629715\n",
      "phi:\n",
      "[ 1.97092116 -1.97814858 -0.97707009]\n",
      "weight change 0.000149\n",
      "bias\n",
      "[ 0.]\n"
     ]
    }
   ],
   "source": [
    "phi_last = reward_func.sess.run(reward_func.phi)\n",
    "\n",
    "batch_size=1000\n",
    "batch_idx = np.random.choice(range(len(features_demo)),size=batch_size)\n",
    "batch_idx2 = np.random.choice(range(len(features_demo)),size=batch_size)\n",
    "loss = reward_func.update(features_demo[batch_idx,:],features_demo2[batch_idx2,:])\n",
    "print('learning rate %f' % reward_func.learning_rate)\n",
    "print('loss %f' %loss)\n",
    "phi = reward_func.sess.run(reward_func.phi)\n",
    "print('phi:')\n",
    "print(phi)\n",
    "print('weight change %f' % np.linalg.norm(phi-phi_last))\n",
    "phi=phi_last\n",
    "print('bias')\n",
    "print(reward_func.sess.run(reward_func.b))"
   ]
  },
  {
   "cell_type": "markdown",
   "metadata": {},
   "source": [
    "# can I find the right features with random samples?\n",
    "\n"
   ]
  },
  {
   "cell_type": "code",
   "execution_count": 375,
   "metadata": {},
   "outputs": [],
   "source": [
    "import sys\n",
    "sys.path.append('../crystal_quest/')\n",
    "sys.path.append('../dqn/')\n",
    "from gym import wrappers\n",
    "from atari_wrappers import *\n",
    "from dqn_utils import *\n",
    "import random\n",
    "import gym\n",
    "import sys\n",
    "import imp\n",
    "import crystal_quest_env as cq\n",
    "import reward_functions\n",
    "imp.reload(cq) # reload after making changes\n",
    "imp.reload(gym)\n",
    "imp.reload(wrappers)\n",
    "imp.reload(reward_functions)\n",
    "from reward_functions import *"
   ]
  },
  {
   "cell_type": "code",
   "execution_count": 376,
   "metadata": {
    "collapsed": true
   },
   "outputs": [],
   "source": [
    "# set up a tf session\n",
    "tf.reset_default_graph()\n",
    "tf_config = tf.ConfigProto(\n",
    "    inter_op_parallelism_threads=1,\n",
    "    intra_op_parallelism_threads=1)\n",
    "session = tf.Session(config=tf_config)"
   ]
  },
  {
   "cell_type": "code",
   "execution_count": 377,
   "metadata": {},
   "outputs": [],
   "source": [
    "reward_func = SimpleRewardFunction(session)"
   ]
  },
  {
   "cell_type": "code",
   "execution_count": 378,
   "metadata": {
    "collapsed": true
   },
   "outputs": [],
   "source": [
    "tf.global_variables_initializer().run(session=session)\n",
    "reward_func.set_phi(np.random.random(3))"
   ]
  },
  {
   "cell_type": "code",
   "execution_count": 379,
   "metadata": {
    "collapsed": true
   },
   "outputs": [],
   "source": [
    "env = cq.Wave1Env(num_aliens=1,num_crystals=10,num_asteroids=20,\n",
    "                  obs_type=3,relative_window=(25,25),\n",
    "                 reward_func=reward_func)\n"
   ]
  },
  {
   "cell_type": "code",
   "execution_count": 380,
   "metadata": {},
   "outputs": [
    {
     "data": {
      "text/plain": [
       "(199, 3)"
      ]
     },
     "execution_count": 380,
     "metadata": {},
     "output_type": "execute_result"
    }
   ],
   "source": [
    "# load demonstration samples \n",
    "crystals = np.loadtxt('../dqn/cq_gr_truth1/gym/episode_crystals2017-11-25-15:50.txt')[-200:-1]\n",
    "aliens = np.loadtxt('../dqn/cq_gr_truth1/gym/episode_alien_collisions2017-11-25-15:50.txt')[-200:-1]\n",
    "asteroids = np.loadtxt('../dqn/cq_gr_truth1/gym/episode_asteroid_collisions2017-11-25-15:50.txt')[-200:-1]\n",
    "\n",
    "features_demo = np.vstack((crystals,aliens,asteroids)).T\n",
    "features_demo.shape"
   ]
  },
  {
   "cell_type": "code",
   "execution_count": 389,
   "metadata": {},
   "outputs": [
    {
     "name": "stdout",
     "output_type": "stream",
     "text": [
      "episodes 166\n"
     ]
    }
   ],
   "source": [
    "# generate background samples \n",
    "samp_episode_crystals = []\n",
    "samp_episode_alien = []\n",
    "samp_episode_asteroids = []\n",
    "obs = env.reset()\n",
    "episode_count = 0\n",
    "for i in range(100000):\n",
    "    obs,rew,done,info=env.step(env.action_space.sample())\n",
    "    if done:\n",
    "        samp_episode_crystals.append(env.episode_crystals_captured)\n",
    "        samp_episode_asteroids.append(env.episode_asteroid_collisions)\n",
    "        samp_episode_alien.append(env.episode_alien_collisions)\n",
    "        obs = env.reset()\n",
    "        episode_count+=1\n",
    "print('episodes %d' % episode_count)\n"
   ]
  },
  {
   "cell_type": "code",
   "execution_count": 390,
   "metadata": {},
   "outputs": [
    {
     "data": {
      "text/plain": [
       "(166, 3)"
      ]
     },
     "execution_count": 390,
     "metadata": {},
     "output_type": "execute_result"
    }
   ],
   "source": [
    "features_sample = np.vstack((samp_episode_crystals,samp_episode_alien,samp_episode_asteroids)).T\n",
    "features_sample.shape"
   ]
  },
  {
   "cell_type": "code",
   "execution_count": 391,
   "metadata": {},
   "outputs": [],
   "source": [
    "#features_demo[batch_idx,:]"
   ]
  },
  {
   "cell_type": "code",
   "execution_count": 392,
   "metadata": {},
   "outputs": [
    {
     "data": {
      "text/plain": [
       "array([ 84.24120603,   0.83919598,   1.68844221])"
      ]
     },
     "execution_count": 392,
     "metadata": {},
     "output_type": "execute_result"
    }
   ],
   "source": [
    "features_demo[:,:].mean(axis=0)"
   ]
  },
  {
   "cell_type": "code",
   "execution_count": 393,
   "metadata": {},
   "outputs": [
    {
     "data": {
      "text/plain": [
       "array([ 2.54819277,  0.63855422,  8.59638554])"
      ]
     },
     "execution_count": 393,
     "metadata": {},
     "output_type": "execute_result"
    }
   ],
   "source": [
    "features_sample.mean(axis=0)"
   ]
  },
  {
   "cell_type": "code",
   "execution_count": 394,
   "metadata": {},
   "outputs": [
    {
     "data": {
      "text/plain": [
       "array([ 44.085,   0.735,   6.095])"
      ]
     },
     "execution_count": 394,
     "metadata": {},
     "output_type": "execute_result"
    }
   ],
   "source": [
    "np.vstack((features_sample[batch_idx_samp,:],features_demo[batch_idx,:])).mean(axis=0)"
   ]
  },
  {
   "cell_type": "code",
   "execution_count": 395,
   "metadata": {},
   "outputs": [
    {
     "data": {
      "text/plain": [
       "array([0, 0, 8, 2, 4, 4, 2, 6, 3, 6, 8, 4, 5, 3, 7, 4, 4, 3, 1, 3, 7, 3, 2,\n",
       "       0, 1, 6, 7, 7, 6, 6, 7, 0, 8, 1, 8, 1, 5, 0, 5, 0, 7, 7, 1, 1, 1, 8,\n",
       "       2, 2, 4, 5, 8, 1, 0, 4, 5, 4, 3, 1, 1, 4, 8, 1, 6, 3, 0, 0, 1, 7, 8,\n",
       "       4, 3, 2, 2, 4, 0, 2, 4, 3, 3, 6, 0, 5, 4, 8, 7, 2, 1, 8, 2, 2, 0, 5,\n",
       "       2, 0, 7, 5, 0, 3, 6, 8])"
      ]
     },
     "execution_count": 395,
     "metadata": {},
     "output_type": "execute_result"
    }
   ],
   "source": [
    "#np.vstack((features_sample[batch_idx_samp,:],features_demo[batch_idx]))\n",
    "batch_idx_samp"
   ]
  },
  {
   "cell_type": "code",
   "execution_count": 410,
   "metadata": {},
   "outputs": [
    {
     "name": "stdout",
     "output_type": "stream",
     "text": [
      "learning rate 0.000100\n",
      "loss -213.547974\n",
      "phi:\n",
      "[-5.27258778  0.58915794 -0.34179804]\n",
      "bias\n",
      "[ 0.]\n",
      "learning rate 0.000100\n",
      "loss -369.172607\n",
      "phi:\n",
      "[ -9.35324192e+00   5.79255402e-01   3.57669685e-03]\n",
      "bias\n",
      "[ 0.]\n",
      "learning rate 0.000100\n",
      "loss -537.164185\n",
      "phi:\n",
      "[-13.44097614   0.56925273   0.34774458]\n",
      "bias\n",
      "[ 0.]\n",
      "learning rate 0.000100\n",
      "loss -709.052917\n",
      "phi:\n",
      "[-17.52997017   0.55907691   0.69338244]\n",
      "bias\n",
      "[ 0.]\n",
      "learning rate 0.000100\n",
      "loss -907.379517\n",
      "phi:\n",
      "[-21.61384773   0.54928917   1.03999317]\n",
      "bias\n",
      "[ 0.]\n",
      "learning rate 0.000100\n",
      "loss -1078.557495\n",
      "phi:\n",
      "[-25.69898605   0.53916693   1.38375747]\n",
      "bias\n",
      "[ 0.]\n",
      "learning rate 0.000100\n",
      "loss -1194.131714\n",
      "phi:\n",
      "[-29.78385353   0.52935731   1.72863686]\n",
      "bias\n",
      "[ 0.]\n",
      "learning rate 0.000100\n",
      "loss -1375.324097\n",
      "phi:\n",
      "[-33.86523438   0.51939243   2.07460785]\n",
      "bias\n",
      "[ 0.]\n",
      "learning rate 0.000100\n",
      "loss -1563.463745\n",
      "phi:\n",
      "[-37.9523201    0.50907642   2.41986966]\n",
      "bias\n",
      "[ 0.]\n",
      "learning rate 0.000100\n",
      "loss -1757.382202\n",
      "phi:\n",
      "[-42.03945923   0.49903926   2.76576638]\n",
      "bias\n",
      "[ 0.]\n"
     ]
    }
   ],
   "source": [
    "# update reward function \n",
    "batch_size=100\n",
    "K=10000\n",
    "for k in range(K):\n",
    "    batch_idx = np.random.choice(range(len(features_demo)),size=batch_size)\n",
    "    batch_idx_samp = np.random.choice(range(len(samp_episode_crystals)),size=batch_size)\n",
    "\n",
    "    loss = env.reward_func.update(features_demo[batch_idx,:],\n",
    "                        np.vstack((features_sample[batch_idx_samp,:],features_demo[batch_idx,:])))\n",
    "    \n",
    "    #loss = env.reward_func.update(features_demo[batch_idx,:],\n",
    "    #                              features_demo[batch_idx_samp,:])\n",
    "    \n",
    "    if k%1000==0:\n",
    "        print('learning rate %f' % env.reward_func.learning_rate)\n",
    "        print('loss %f' %loss)\n",
    "        phi = session.run(env.reward_func.phi)\n",
    "        print('phi:')\n",
    "        print(phi)\n",
    "        #print('weight change %f' % np.linalg.norm(phi-phi_last))\n",
    "        #phi=phi_last\n",
    "        print('bias')\n",
    "        bias = session.run(env.reward_func.b)\n",
    "        print(bias)"
   ]
  },
  {
   "cell_type": "code",
   "execution_count": 411,
   "metadata": {},
   "outputs": [],
   "source": [
    "w = np.ones((np.shape(features_sample)[0],1))"
   ]
  },
  {
   "cell_type": "code",
   "execution_count": 412,
   "metadata": {},
   "outputs": [],
   "source": [
    "feed_dict = {env.reward_func.batch_demo_features:features_demo,\n",
    "        env.reward_func.batch_sample_features:features_sample,\n",
    "        env.reward_func.w:w,\n",
    "    }"
   ]
  },
  {
   "cell_type": "code",
   "execution_count": 413,
   "metadata": {},
   "outputs": [
    {
     "data": {
      "text/plain": [
       "array([-46.12070084,   0.4890537 ,   3.11105013], dtype=float32)"
      ]
     },
     "execution_count": 413,
     "metadata": {},
     "output_type": "execute_result"
    }
   ],
   "source": [
    "phi = session.run(env.reward_func.phi)\n",
    "phi"
   ]
  },
  {
   "cell_type": "code",
   "execution_count": 414,
   "metadata": {},
   "outputs": [
    {
     "data": {
      "text/plain": [
       "array([[ 4,  1, 10],\n",
       "       [ 1,  0, 10],\n",
       "       [ 1,  0, 11],\n",
       "       [ 1,  0, 15],\n",
       "       [ 1,  0,  7]])"
      ]
     },
     "execution_count": 414,
     "metadata": {},
     "output_type": "execute_result"
    }
   ],
   "source": [
    "features_sample[0:5,:]"
   ]
  },
  {
   "cell_type": "code",
   "execution_count": 415,
   "metadata": {},
   "outputs": [
    {
     "data": {
      "text/plain": [
       "array([-152.88324836,  -15.01019955,  -11.89914942,    0.5450511 ,\n",
       "        -24.34334993])"
      ]
     },
     "execution_count": 415,
     "metadata": {},
     "output_type": "execute_result"
    }
   ],
   "source": [
    "np.dot(features_sample[0:5,:],phi)"
   ]
  },
  {
   "cell_type": "code",
   "execution_count": 416,
   "metadata": {},
   "outputs": [
    {
     "data": {
      "text/plain": [
       "array([[-152.88323975],\n",
       "       [ -15.0102005 ],\n",
       "       [ -11.89915085],\n",
       "       [   0.54505157],\n",
       "       [ -24.34334946]], dtype=float32)"
      ]
     },
     "execution_count": 416,
     "metadata": {},
     "output_type": "execute_result"
    }
   ],
   "source": [
    "session.run(env.reward_func.samp_r,feed_dict=feed_dict)[0:5,:]"
   ]
  },
  {
   "cell_type": "code",
   "execution_count": 417,
   "metadata": {},
   "outputs": [
    {
     "data": {
      "text/plain": [
       "array([-4147.26297143, -3772.07526448, -3090.08695602, -4104.25332072,\n",
       "       -3362.72200352])"
      ]
     },
     "execution_count": 417,
     "metadata": {},
     "output_type": "execute_result"
    }
   ],
   "source": [
    "np.dot(features_demo[0:5,:],phi)"
   ]
  },
  {
   "cell_type": "code",
   "execution_count": 418,
   "metadata": {},
   "outputs": [
    {
     "data": {
      "text/plain": [
       "array([[-4147.26318359],\n",
       "       [-3772.07519531],\n",
       "       [-3090.08691406],\n",
       "       [-4104.25292969],\n",
       "       [-3362.72216797]], dtype=float32)"
      ]
     },
     "execution_count": 418,
     "metadata": {},
     "output_type": "execute_result"
    }
   ],
   "source": [
    "session.run(env.reward_func.demo_r,feed_dict=feed_dict)[0:5,:]"
   ]
  },
  {
   "cell_type": "code",
   "execution_count": 419,
   "metadata": {},
   "outputs": [
    {
     "data": {
      "text/plain": [
       "array([-3994.37972307, -3757.06506494, -3078.18780661, -4104.79837182,\n",
       "       -3338.37865359])"
      ]
     },
     "execution_count": 419,
     "metadata": {},
     "output_type": "execute_result"
    }
   ],
   "source": [
    "np.dot(features_demo[0:5,:],phi)-np.dot(features_sample[0:5,:],phi)"
   ]
  },
  {
   "cell_type": "markdown",
   "metadata": {},
   "source": [
    "- the feature counts getting further apart also decreases the loss function \n",
    "- (can I square it?)\n",
    "- what does this mean? \n",
    "- "
   ]
  },
  {
   "cell_type": "code",
   "execution_count": 420,
   "metadata": {},
   "outputs": [
    {
     "data": {
      "text/plain": [
       "-3789.1323"
      ]
     },
     "execution_count": 420,
     "metadata": {},
     "output_type": "execute_result"
    }
   ],
   "source": [
    "session.run(env.reward_func.irl_loss,feed_dict=feed_dict)"
   ]
  },
  {
   "cell_type": "code",
   "execution_count": 421,
   "metadata": {},
   "outputs": [
    {
     "data": {
      "text/plain": [
       "[array([ 81.69300079,   0.20064187,  -6.90794277], dtype=float32)]"
      ]
     },
     "execution_count": 421,
     "metadata": {},
     "output_type": "execute_result"
    }
   ],
   "source": [
    "session.run(tf.gradients(env.reward_func.irl_loss,env.reward_func.phi),feed_dict=feed_dict)"
   ]
  },
  {
   "cell_type": "code",
   "execution_count": 422,
   "metadata": {},
   "outputs": [
    {
     "data": {
      "text/plain": [
       "array([ 81.69301326,   0.20064176,  -6.90794333])"
      ]
     },
     "execution_count": 422,
     "metadata": {},
     "output_type": "execute_result"
    }
   ],
   "source": [
    "features_demo[:,:].mean(axis=0)-features_sample[:,:].mean(axis=0)"
   ]
  },
  {
   "cell_type": "code",
   "execution_count": 423,
   "metadata": {},
   "outputs": [
    {
     "data": {
      "text/plain": [
       "array([  8.16929992e-03,   2.00641862e-05,  -6.90794259e-04], dtype=float32)"
      ]
     },
     "execution_count": 423,
     "metadata": {},
     "output_type": "execute_result"
    }
   ],
   "source": [
    "env.reward_func.learning_rate*session.run(tf.gradients(env.reward_func.irl_loss,env.reward_func.phi),feed_dict=feed_dict)[0]"
   ]
  },
  {
   "cell_type": "code",
   "execution_count": 426,
   "metadata": {},
   "outputs": [
    {
     "data": {
      "text/plain": [
       "array([-46.12070084,   0.4890537 ,   3.11105013], dtype=float32)"
      ]
     },
     "execution_count": 426,
     "metadata": {},
     "output_type": "execute_result"
    }
   ],
   "source": [
    "phi"
   ]
  },
  {
   "cell_type": "code",
   "execution_count": 271,
   "metadata": {
    "collapsed": true
   },
   "outputs": [],
   "source": [
    "phi = session.run(env.reward_func.phi)"
   ]
  },
  {
   "cell_type": "code",
   "execution_count": 274,
   "metadata": {},
   "outputs": [
    {
     "data": {
      "text/plain": [
       "dtype('float32')"
      ]
     },
     "execution_count": 274,
     "metadata": {},
     "output_type": "execute_result"
    }
   ],
   "source": [
    "type(phi)\n",
    "phi.dtype"
   ]
  },
  {
   "cell_type": "code",
   "execution_count": 277,
   "metadata": {},
   "outputs": [
    {
     "data": {
      "text/plain": [
       "numpy.ndarray"
      ]
     },
     "execution_count": 277,
     "metadata": {},
     "output_type": "execute_result"
    }
   ],
   "source": [
    "type(gstep)"
   ]
  },
  {
   "cell_type": "code",
   "execution_count": 276,
   "metadata": {},
   "outputs": [
    {
     "data": {
      "text/plain": [
       "dtype('float32')"
      ]
     },
     "execution_count": 276,
     "metadata": {},
     "output_type": "execute_result"
    }
   ],
   "source": [
    "gstep.dtype"
   ]
  },
  {
   "cell_type": "code",
   "execution_count": 372,
   "metadata": {},
   "outputs": [
    {
     "name": "stdout",
     "output_type": "stream",
     "text": [
      "[ 0.63665801  3.31419849  1.17178202]\n",
      "[  8.15122854e-03   2.30762289e-05  -8.03444826e-04]\n",
      "[ 0.64480925  3.31422162  1.17097855]\n"
     ]
    }
   ],
   "source": [
    "print(phi)\n",
    "gstep=env.reward_func.learning_rate*session.run(tf.gradients(env.reward_func.irl_loss,env.reward_func.phi),feed_dict=feed_dict)[0]\n",
    "print(gstep)\n",
    "phi=phi+gstep\n",
    "print(phi)"
   ]
  },
  {
   "cell_type": "code",
   "execution_count": 374,
   "metadata": {},
   "outputs": [
    {
     "data": {
      "text/plain": [
       "()"
      ]
     },
     "execution_count": 374,
     "metadata": {},
     "output_type": "execute_result"
    }
   ],
   "source": [
    "env.reward_func.train_op."
   ]
  },
  {
   "cell_type": "code",
   "execution_count": 438,
   "metadata": {},
   "outputs": [
    {
     "data": {
      "text/plain": [
       "[20, 3, 27, 11, 26, 11, 9, 6, 10, 15, 15, 8, 23, 9, 18, 24, 16, 8, 27, 12]"
      ]
     },
     "execution_count": 438,
     "metadata": {},
     "output_type": "execute_result"
    }
   ],
   "source": [
    "[np.sum(np.abs(env.ship_location-ast_loc)) for ast_loc in env.asteroid_locations]\n"
   ]
  },
  {
   "cell_type": "code",
   "execution_count": 441,
   "metadata": {
    "collapsed": true
   },
   "outputs": [],
   "source": [
    "import matplotlib.pyplot as plt\n",
    "%matplotlib inline"
   ]
  },
  {
   "cell_type": "code",
   "execution_count": 442,
   "metadata": {},
   "outputs": [
    {
     "data": {
      "text/plain": [
       "<matplotlib.image.AxesImage at 0x12cf92fd0>"
      ]
     },
     "execution_count": 442,
     "metadata": {},
     "output_type": "execute_result"
    },
    {
     "data": {
      "image/png": "[encoded data removed]",
      "text/plain": [
       "<matplotlib.figure.Figure at 0x12c9fb1d0>"
      ]
     },
     "metadata": {},
     "output_type": "display_data"
    }
   ],
   "source": [
    "plt.imshow(env._return_img())"
   ]
  },
  {
   "cell_type": "code",
   "execution_count": 464,
   "metadata": {},
   "outputs": [
    {
     "data": {
      "text/plain": [
       "array([16,  8])"
      ]
     },
     "execution_count": 464,
     "metadata": {},
     "output_type": "execute_result"
    }
   ],
   "source": [
    "getattr(env,'ship_location')"
   ]
  },
  {
   "cell_type": "code",
   "execution_count": null,
   "metadata": {
    "collapsed": true
   },
   "outputs": [],
   "source": []
  }
 ],
 "metadata": {
  "hide_input": false,
  "kernelspec": {
   "display_name": "Python 3",
   "language": "python",
   "name": "python3"
  },
  "language_info": {
   "codemirror_mode": {
    "name": "ipython",
    "version": 3
   },
   "file_extension": ".py",
   "mimetype": "text/x-python",
   "name": "python",
   "nbconvert_exporter": "python",
   "pygments_lexer": "ipython3",
   "version": "3.5.4"
  },
  "toc": {
   "nav_menu": {},
   "number_sections": true,
   "sideBar": true,
   "skip_h1_title": false,
   "toc_cell": false,
   "toc_position": {},
   "toc_section_display": "block",
   "toc_window_display": false
  }
 },
 "nbformat": 4,
 "nbformat_minor": 2
}
