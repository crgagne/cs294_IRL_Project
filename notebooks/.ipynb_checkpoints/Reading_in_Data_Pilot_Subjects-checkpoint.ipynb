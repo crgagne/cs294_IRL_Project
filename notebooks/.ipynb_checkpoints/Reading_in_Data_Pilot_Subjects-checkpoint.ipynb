{
 "cells": [
  {
   "cell_type": "markdown",
   "metadata": {},
   "source": [
    "built in python 2 and requires MySQL. (uses my env_web conda env)"
   ]
  },
  {
   "cell_type": "markdown",
   "metadata": {},
   "source": [
    "Reading in from tester011 - me with no images"
   ]
  },
  {
   "cell_type": "code",
   "execution_count": 1,
   "metadata": {
    "collapsed": true
   },
   "outputs": [],
   "source": [
    "import sys\n",
    "sys.path.append('/Users/chris/anaconda/envs/env_web/lib/python2.7/site-packages',) "
   ]
  },
  {
   "cell_type": "code",
   "execution_count": 2,
   "metadata": {
    "collapsed": true
   },
   "outputs": [],
   "source": [
    "import os\n",
    "import json\n",
    "import base64\n",
    "import MySQLdb\n",
    "import _mysql\n",
    "import numpy as np\n",
    "import pandas as pd\n",
    "import matplotlib.pyplot as plt \n",
    "%matplotlib inline"
   ]
  },
  {
   "cell_type": "code",
   "execution_count": 50,
   "metadata": {
    "collapsed": true
   },
   "outputs": [],
   "source": [
    "def find_nearest(array,value):\n",
    "    idx = (np.abs(array-value)).argmin()\n",
    "    return array[idx]"
   ]
  },
  {
   "cell_type": "code",
   "execution_count": 51,
   "metadata": {
    "collapsed": true
   },
   "outputs": [],
   "source": [
    "def convert_json_to_matrix(data):\n",
    "    screen_dim = [780,500]\n",
    "    discretize_size = 20 \n",
    "    grid_centers_x = [10,30,50,70,90,110,130,150,170,190,210,230,250,270,\n",
    "    290,310,330,350,370,390,410,430,450,470,490,510,530,550,570,590,610,630,650,670,\n",
    "    690,710,730,750,770]\n",
    "    grid_centers_y = [10,30,50,70,90,110,130,150,170,190,210,230,250,270,\n",
    "    290,310,330,350,370,390,410,430,450,470,490]\n",
    "    time_steps = data.keys()[:]\n",
    "    time_steps.remove('guid')\n",
    "    time_steps = [int(t)-1 for t in time_steps]\n",
    "\n",
    "    grid_size = tuple(np.array(screen_dim)/20)\n",
    "    grid = np.zeros(grid_size+(len(time_steps),))\n",
    "    # add ship\n",
    "    for time_step in time_steps:\n",
    "        s=data[str(time_step+1)]['ship_position']\n",
    "        grid[grid_centers_x.index(s[0]),grid_centers_y.index(s[1]),time_step]=1\n",
    "\n",
    "    # add asteroids # \n",
    "    asteroid_positions = data['1']['asteroid_positions']\n",
    "    for ap in asteroid_positions:\n",
    "        grid[grid_centers_x.index(ap[0]+10),grid_centers_y.index(ap[1]+10),:]=2\n",
    "\n",
    "    # add crystals\n",
    "    for time_step in time_steps:\n",
    "        cp = data[str(time_step+1)]['crystal_positions']\n",
    "        for c in cp: \n",
    "            grid[grid_centers_x.index(c[0]),grid_centers_y.index(c[1]),time_step]=3\n",
    "    # add alien \n",
    "    for time_step in time_steps:\n",
    "        a=data[str(time_step+1)]['alien_positions'][0]\n",
    "        a0=find_nearest(np.array(grid_centers_x),a[0])\n",
    "        a1=find_nearest(np.array(grid_centers_y),a[1])\n",
    "        grid[grid_centers_x.index(a0),grid_centers_y.index(a1),time_step]=4\n",
    "    return(grid)\n"
   ]
  },
  {
   "cell_type": "markdown",
   "metadata": {},
   "source": [
    "### Downloading JSON of a Single Episode"
   ]
  },
  {
   "cell_type": "code",
   "execution_count": 3,
   "metadata": {
    "collapsed": true
   },
   "outputs": [],
   "source": [
    "## Connect to DB\n",
    "db=_mysql.connect(host=\"christest.c5s5wgavsyu2.us-west-2.rds.amazonaws.com\",user=\"christest\",\n",
    "                  passwd=\"gags1313\",db=\"chrisdb\")\n"
   ]
  },
  {
   "cell_type": "code",
   "execution_count": 4,
   "metadata": {},
   "outputs": [
    {
     "name": "stdout",
     "output_type": "stream",
     "text": [
      "['id', 'save_time', 'wave', 'MID', 'AID', 'HID', 'session_id']\n"
     ]
    }
   ],
   "source": [
    "# get the header\n",
    "db.query(\"\"\"SELECT column_name FROM information_schema.columns WHERE table_name = 'web_experiments_crystalquest_wave'\"\"\")\n",
    "r=db.store_result() # sends the whole results\n",
    "header = r.fetch_row(0)\n",
    "header = [hh[0] for hh in header]\n",
    "print(header)"
   ]
  },
  {
   "cell_type": "code",
   "execution_count": 54,
   "metadata": {
    "collapsed": true
   },
   "outputs": [],
   "source": [
    "# \n",
    "subjs = ['A2W3I2GBGDB637']\n",
    "subjs = ['AA4KKLIU4C3NY']\n",
    "subjs=  ['A1LOUZD99NZCT2','A2DWPP1KKAY0HG','A3Q13VTPRIVFZS','A5NHP0N1XC09K','A1USR9JCAMDGM3','A2YKW761AK4ZGY']\n"
   ]
  },
  {
   "cell_type": "code",
   "execution_count": null,
   "metadata": {},
   "outputs": [],
   "source": [
    "for MID in subjs:\n",
    "    \n",
    "    # query db\n",
    "    db.query(\"\"\"SELECT * FROM web_experiments_crystalquest_wave WHERE (MID LIKE '\"\"\"+MID+\"\"\"%')\"\"\")\n",
    "    r=db.store_result() # sends the whole results\n",
    "    rows = r.fetch_row(20)\n",
    "\n",
    "    # make dir for subject\n",
    "    diir='../data/'+str(MID)\n",
    "    if not os.path.isdir(diir):\n",
    "        os.mkdir(diir)\n",
    "        \n",
    "    \n",
    "    for r in range(10):\n",
    "        r=-1*r\n",
    "        \n",
    "        # dump json\n",
    "        date_for_save = rows[r][header.index('save_time')].replace(' ','_')\n",
    "        filename=diir+'/'+date_for_save+'_data.json'\n",
    "        obj = json.loads(rows[r][header.index('wave')])\n",
    "        with open(filename, 'w') as outfile:\n",
    "                json.dump(obj, outfile)\n",
    "        \n",
    "        # save to npy\n",
    "        grid=convert_json_to_matrix(obj)\n",
    "        np.save(diir+'/'+filename.split('.')[0]+'.npy',grid)\n"
   ]
  },
  {
   "cell_type": "code",
   "execution_count": 268,
   "metadata": {
    "collapsed": true
   },
   "outputs": [],
   "source": [
    "# see function \n",
    "# grid_movie_player.py\n",
    "# to plot a movie of this grid. "
   ]
  },
  {
   "cell_type": "code",
   "execution_count": null,
   "metadata": {
    "collapsed": true
   },
   "outputs": [],
   "source": []
  }
 ],
 "metadata": {
  "kernelspec": {
   "display_name": "Python 2",
   "language": "python",
   "name": "python2"
  },
  "language_info": {
   "codemirror_mode": {
    "name": "ipython",
    "version": 2
   },
   "file_extension": ".py",
   "mimetype": "text/x-python",
   "name": "python",
   "nbconvert_exporter": "python",
   "pygments_lexer": "ipython2",
   "version": "2.7.14"
  }
 },
 "nbformat": 4,
 "nbformat_minor": 2
}
