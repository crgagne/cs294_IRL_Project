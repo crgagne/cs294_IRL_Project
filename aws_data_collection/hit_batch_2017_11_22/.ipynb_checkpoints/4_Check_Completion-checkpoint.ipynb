{
 "cells": [
  {
   "cell_type": "code",
   "execution_count": 26,
   "metadata": {
    "collapsed": false
   },
   "outputs": [
    {
     "data": {
      "text/html": [
       "<div>\n",
       "<table border=\"1\" class=\"dataframe\">\n",
       "  <thead>\n",
       "    <tr style=\"text-align: right;\">\n",
       "      <th></th>\n",
       "      <th>id</th>\n",
       "      <th>MID</th>\n",
       "      <th>start_date</th>\n",
       "      <th>start_time</th>\n",
       "      <th>completion_code</th>\n",
       "      <th>completed</th>\n",
       "      <th>progress</th>\n",
       "      <th>total_tasks</th>\n",
       "      <th>tasks</th>\n",
       "      <th>counterbalance</th>\n",
       "      <th>session_id</th>\n",
       "      <th>AID</th>\n",
       "      <th>HID</th>\n",
       "    </tr>\n",
       "  </thead>\n",
       "  <tbody>\n",
       "    <tr>\n",
       "      <th>0</th>\n",
       "      <td>146</td>\n",
       "      <td>A2GIYY77IUO78U</td>\n",
       "      <td>2016-03-23 18:25:46</td>\n",
       "      <td>1458757546</td>\n",
       "      <td>5LN0WPZcIU</td>\n",
       "      <td>0</td>\n",
       "      <td>0</td>\n",
       "      <td>4</td>\n",
       "      <td>survey_STAI_State,survey_STAT_Trait,survey_BDI...</td>\n",
       "      <td>10</td>\n",
       "      <td>TrjB</td>\n",
       "      <td>358UUM7WR08E5LX85ZYN32901GO7R3</td>\n",
       "      <td>31SIZS5W59KMOJ4TBW2RE9VE6NEQRC</td>\n",
       "    </tr>\n",
       "    <tr>\n",
       "      <th>1</th>\n",
       "      <td>147</td>\n",
       "      <td>A2GIYY77IUO78U</td>\n",
       "      <td>2016-03-23 18:26:18</td>\n",
       "      <td>1458757578</td>\n",
       "      <td>iozDN2nq1M</td>\n",
       "      <td>0</td>\n",
       "      <td>0</td>\n",
       "      <td>1</td>\n",
       "      <td>experiment_bandit_loss</td>\n",
       "      <td>1</td>\n",
       "      <td>skw6</td>\n",
       "      <td>336KAV9KYRXGGLCODI9MF7LPTNH2YK</td>\n",
       "      <td>31JUPBOORN95FH9KKIOV661F6P3L86</td>\n",
       "    </tr>\n",
       "  </tbody>\n",
       "</table>\n",
       "</div>"
      ],
      "text/plain": [
       "    id             MID           start_date  start_time completion_code  \\\n",
       "0  146  A2GIYY77IUO78U  2016-03-23 18:25:46  1458757546      5LN0WPZcIU   \n",
       "1  147  A2GIYY77IUO78U  2016-03-23 18:26:18  1458757578      iozDN2nq1M   \n",
       "\n",
       "   completed  progress  total_tasks  \\\n",
       "0          0         0            4   \n",
       "1          0         0            1   \n",
       "\n",
       "                                               tasks  counterbalance  \\\n",
       "0  survey_STAI_State,survey_STAT_Trait,survey_BDI...              10   \n",
       "1                             experiment_bandit_loss               1   \n",
       "\n",
       "  session_id                             AID                             HID  \n",
       "0       TrjB  358UUM7WR08E5LX85ZYN32901GO7R3  31SIZS5W59KMOJ4TBW2RE9VE6NEQRC  \n",
       "1       skw6  336KAV9KYRXGGLCODI9MF7LPTNH2YK  31JUPBOORN95FH9KKIOV661F6P3L86  "
      ]
     },
     "execution_count": 26,
     "metadata": {},
     "output_type": "execute_result"
    }
   ],
   "source": [
    "import numpy as np\n",
    "import csv\n",
    "import pandas as pd\n",
    "import csv\n",
    "import os\n",
    "df = pd.read_csv('participant_table.csv')\n",
    "df"
   ]
  },
  {
   "cell_type": "code",
   "execution_count": 49,
   "metadata": {
    "collapsed": false
   },
   "outputs": [
    {
     "data": {
      "text/html": [
       "<div>\n",
       "<table border=\"1\" class=\"dataframe\">\n",
       "  <thead>\n",
       "    <tr style=\"text-align: right;\">\n",
       "      <th></th>\n",
       "      <th>hitid</th>\n",
       "      <th>hittypeid</th>\n",
       "      <th>title</th>\n",
       "      <th>description</th>\n",
       "      <th>keywords</th>\n",
       "      <th>reward</th>\n",
       "      <th>creationtime</th>\n",
       "      <th>assignments</th>\n",
       "      <th>numavailable</th>\n",
       "      <th>numpending</th>\n",
       "      <th>...</th>\n",
       "      <th>assignmentstatus</th>\n",
       "      <th>autoapprovaltime</th>\n",
       "      <th>assignmentaccepttime</th>\n",
       "      <th>assignmentsubmittime</th>\n",
       "      <th>assignmentapprovaltime</th>\n",
       "      <th>assignmentrejecttime</th>\n",
       "      <th>deadline</th>\n",
       "      <th>feedback</th>\n",
       "      <th>reject</th>\n",
       "      <th>Answer.comment</th>\n",
       "    </tr>\n",
       "  </thead>\n",
       "  <tbody>\n",
       "    <tr>\n",
       "      <th>0</th>\n",
       "      <td>31SIZS5W59KMOJ4TBW2RE9VE6NEQRC</td>\n",
       "      <td>3UMLY1W0PYFALPU2I5P5YMLWVMT7KX</td>\n",
       "      <td>Psychology Decision Making Experiments ${tasks}</td>\n",
       "      <td>You will take a 30 minute psychology experimen...</td>\n",
       "      <td>psychology, experiment, decision making,</td>\n",
       "      <td>$5.00</td>\n",
       "      <td>Wed Mar 23 11:23:15 PDT 2016</td>\n",
       "      <td>5</td>\n",
       "      <td>4</td>\n",
       "      <td>0</td>\n",
       "      <td>...</td>\n",
       "      <td>Submitted</td>\n",
       "      <td>Sat Mar 26 11:26:08 PDT 2016</td>\n",
       "      <td>Wed Mar 23 11:24:37 PDT 2016</td>\n",
       "      <td>Wed Mar 23 11:26:08 PDT 2016</td>\n",
       "      <td>NaN</td>\n",
       "      <td>NaN</td>\n",
       "      <td>NaN</td>\n",
       "      <td>NaN</td>\n",
       "      <td>NaN</td>\n",
       "      <td>complete\\n</td>\n",
       "    </tr>\n",
       "    <tr>\n",
       "      <th>1</th>\n",
       "      <td>3X4Q1O9UBHR9LO7YN5CHKN9EQA2O73</td>\n",
       "      <td>3UMLY1W0PYFALPU2I5P5YMLWVMT7KX</td>\n",
       "      <td>Psychology Decision Making Experiments ${tasks}</td>\n",
       "      <td>You will take a 30 minute psychology experimen...</td>\n",
       "      <td>psychology, experiment, decision making,</td>\n",
       "      <td>$5.00</td>\n",
       "      <td>Wed Mar 23 11:23:15 PDT 2016</td>\n",
       "      <td>5</td>\n",
       "      <td>4</td>\n",
       "      <td>0</td>\n",
       "      <td>...</td>\n",
       "      <td>Submitted</td>\n",
       "      <td>Sat Mar 26 11:26:50 PDT 2016</td>\n",
       "      <td>Wed Mar 23 11:26:30 PDT 2016</td>\n",
       "      <td>Wed Mar 23 11:26:50 PDT 2016</td>\n",
       "      <td>NaN</td>\n",
       "      <td>NaN</td>\n",
       "      <td>NaN</td>\n",
       "      <td>NaN</td>\n",
       "      <td>NaN</td>\n",
       "      <td>asdf\\n</td>\n",
       "    </tr>\n",
       "    <tr>\n",
       "      <th>2</th>\n",
       "      <td>31JUPBOORN95FH9KKIOV661F6P3L86</td>\n",
       "      <td>3UMLY1W0PYFALPU2I5P5YMLWVMT7KX</td>\n",
       "      <td>Psychology Decision Making Experiments ${tasks}</td>\n",
       "      <td>You will take a 30 minute psychology experimen...</td>\n",
       "      <td>psychology, experiment, decision making,</td>\n",
       "      <td>$5.00</td>\n",
       "      <td>Wed Mar 23 11:23:16 PDT 2016</td>\n",
       "      <td>5</td>\n",
       "      <td>4</td>\n",
       "      <td>0</td>\n",
       "      <td>...</td>\n",
       "      <td>Submitted</td>\n",
       "      <td>Sat Mar 26 11:26:26 PDT 2016</td>\n",
       "      <td>Wed Mar 23 11:26:14 PDT 2016</td>\n",
       "      <td>Wed Mar 23 11:26:26 PDT 2016</td>\n",
       "      <td>NaN</td>\n",
       "      <td>NaN</td>\n",
       "      <td>NaN</td>\n",
       "      <td>NaN</td>\n",
       "      <td>NaN</td>\n",
       "      <td>asdf\\n</td>\n",
       "    </tr>\n",
       "  </tbody>\n",
       "</table>\n",
       "<p>3 rows × 30 columns</p>\n",
       "</div>"
      ],
      "text/plain": [
       "                            hitid                       hittypeid  \\\n",
       "0  31SIZS5W59KMOJ4TBW2RE9VE6NEQRC  3UMLY1W0PYFALPU2I5P5YMLWVMT7KX   \n",
       "1  3X4Q1O9UBHR9LO7YN5CHKN9EQA2O73  3UMLY1W0PYFALPU2I5P5YMLWVMT7KX   \n",
       "2  31JUPBOORN95FH9KKIOV661F6P3L86  3UMLY1W0PYFALPU2I5P5YMLWVMT7KX   \n",
       "\n",
       "                                             title  \\\n",
       "0  Psychology Decision Making Experiments ${tasks}   \n",
       "1  Psychology Decision Making Experiments ${tasks}   \n",
       "2  Psychology Decision Making Experiments ${tasks}   \n",
       "\n",
       "                                         description  \\\n",
       "0  You will take a 30 minute psychology experimen...   \n",
       "1  You will take a 30 minute psychology experimen...   \n",
       "2  You will take a 30 minute psychology experimen...   \n",
       "\n",
       "                                    keywords reward  \\\n",
       "0  psychology, experiment, decision making,   $5.00   \n",
       "1  psychology, experiment, decision making,   $5.00   \n",
       "2  psychology, experiment, decision making,   $5.00   \n",
       "\n",
       "                   creationtime  assignments  numavailable  numpending  \\\n",
       "0  Wed Mar 23 11:23:15 PDT 2016            5             4           0   \n",
       "1  Wed Mar 23 11:23:15 PDT 2016            5             4           0   \n",
       "2  Wed Mar 23 11:23:16 PDT 2016            5             4           0   \n",
       "\n",
       "       ...        assignmentstatus              autoapprovaltime  \\\n",
       "0      ...               Submitted  Sat Mar 26 11:26:08 PDT 2016   \n",
       "1      ...               Submitted  Sat Mar 26 11:26:50 PDT 2016   \n",
       "2      ...               Submitted  Sat Mar 26 11:26:26 PDT 2016   \n",
       "\n",
       "           assignmentaccepttime          assignmentsubmittime  \\\n",
       "0  Wed Mar 23 11:24:37 PDT 2016  Wed Mar 23 11:26:08 PDT 2016   \n",
       "1  Wed Mar 23 11:26:30 PDT 2016  Wed Mar 23 11:26:50 PDT 2016   \n",
       "2  Wed Mar 23 11:26:14 PDT 2016  Wed Mar 23 11:26:26 PDT 2016   \n",
       "\n",
       "   assignmentapprovaltime  assignmentrejecttime deadline feedback reject  \\\n",
       "0                     NaN                   NaN      NaN      NaN    NaN   \n",
       "1                     NaN                   NaN      NaN      NaN    NaN   \n",
       "2                     NaN                   NaN      NaN      NaN    NaN   \n",
       "\n",
       "  Answer.comment  \n",
       "0     complete\\n  \n",
       "1         asdf\\n  \n",
       "2         asdf\\n  \n",
       "\n",
       "[3 rows x 30 columns]"
      ]
     },
     "execution_count": 49,
     "metadata": {},
     "output_type": "execute_result"
    }
   ],
   "source": [
    "df_amt = pd.read_table('hit.results')\n",
    "df_amt\n"
   ]
  },
  {
   "cell_type": "code",
   "execution_count": 51,
   "metadata": {
    "collapsed": false
   },
   "outputs": [
    {
     "name": "stdout",
     "output_type": "stream",
     "text": [
      "['5LN0WPZcIU']\n",
      "complete\n",
      "\n",
      "[]\n",
      "asdf\n",
      "\n",
      "['iozDN2nq1M']\n",
      "asdf\n",
      "\n"
     ]
    }
   ],
   "source": [
    "for i in df_amt.index:\n",
    "    \n",
    "    completion_code = df.loc[(df['MID']==df_amt.loc[i,'workerid'])&(df['HID']==df_amt.loc[i,'hitid']),'completion_code'].as_matrix()\n",
    "    entered_completion_code = df_amt.loc[i,'Answer.comment']\n",
    "    entered_completion_code = entered_completion_code.strip('\\n')\n",
    "    \n",
    "    print(completion_code)\n",
    "    print(entered_completion_code)\n",
    "    print('')\n",
    "    \n",
    "    if (completion_code!=entered_completion_code) or (not completion_code):\n",
    "        df_amt.loc[i,'reject']=1\n",
    "    else:\n",
    "        df_amt.loc[i,'reject']=''\n"
   ]
  },
  {
   "cell_type": "code",
   "execution_count": 52,
   "metadata": {
    "collapsed": false
   },
   "outputs": [],
   "source": [
    "df_amt.to_csv('hit.results_checked',sep='\\t')"
   ]
  },
  {
   "cell_type": "code",
   "execution_count": 54,
   "metadata": {
    "collapsed": false
   },
   "outputs": [
    {
     "data": {
      "text/plain": [
       "0    1\n",
       "1    1\n",
       "2    1\n",
       "Name: reject, dtype: object"
      ]
     },
     "execution_count": 54,
     "metadata": {},
     "output_type": "execute_result"
    }
   ],
   "source": [
    "df_amt['reject']"
   ]
  }
 ],
 "metadata": {
  "hide_input": false,
  "kernelspec": {
   "display_name": "Python 2",
   "language": "python",
   "name": "python2"
  },
  "language_info": {
   "codemirror_mode": {
    "name": "ipython",
    "version": 2
   },
   "file_extension": ".py",
   "mimetype": "text/x-python",
   "name": "python",
   "nbconvert_exporter": "python",
   "pygments_lexer": "ipython2",
   "version": "2.7.11"
  }
 },
 "nbformat": 4,
 "nbformat_minor": 0
}
