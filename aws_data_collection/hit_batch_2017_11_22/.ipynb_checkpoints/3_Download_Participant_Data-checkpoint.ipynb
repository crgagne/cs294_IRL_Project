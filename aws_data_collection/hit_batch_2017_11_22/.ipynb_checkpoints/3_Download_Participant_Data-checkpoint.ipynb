{
 "cells": [
  {
   "cell_type": "code",
   "execution_count": 73,
   "metadata": {
    "collapsed": false
   },
   "outputs": [],
   "source": [
    "import MySQLdb\n",
    "import _mysql\n",
    "import numpy as np\n",
    "import csv\n",
    "import pandas as pd\n",
    "import csv\n",
    "import os"
   ]
  },
  {
   "cell_type": "code",
   "execution_count": 74,
   "metadata": {
    "collapsed": false
   },
   "outputs": [
    {
     "name": "stdout",
     "output_type": "stream",
     "text": [
      "['31SIZS5W59KMOJ4TBW2RE9VE6NEQRC' '3X4Q1O9UBHR9LO7YN5CHKN9EQA2O73'\n",
      " '31JUPBOORN95FH9KKIOV661F6P3L86']\n",
      "['A2GIYY77IUO78U' 'A2GIYY77IUO78U' 'A2GIYY77IUO78U']\n"
     ]
    }
   ],
   "source": [
    "## Get the HID's in this batch\n",
    "\n",
    "\n",
    "with open('hit.results', 'rb') as csvfile:\n",
    "    HIDs=np.array([])\n",
    "    MIDs=np.array([])\n",
    "    reader = csv.reader(csvfile, delimiter='\\t')\n",
    "    for r,row in enumerate(reader):\n",
    "        if r==0:\n",
    "            header=row\n",
    "        else:\n",
    "            # get their completion code \n",
    "            entered_completion_code = row[header.index('Answer.comment')]\n",
    "            MID = row[header.index('workerid')]\n",
    "            HID = row[header.index('hitid')]\n",
    "            MIDs = np.append(MIDs,MID)\n",
    "            HIDs = np.append(HIDs,HID)\n",
    "\n",
    "print HIDs\n",
    "print MIDs"
   ]
  },
  {
   "cell_type": "code",
   "execution_count": 75,
   "metadata": {
    "collapsed": false
   },
   "outputs": [
    {
     "name": "stdout",
     "output_type": "stream",
     "text": [
      "['id', 'MID', 'start_date', 'start_time', 'completion_code', 'completed', 'progress', 'total_tasks', 'tasks', 'counterbalance', 'session_id', 'AID', 'HID']\n"
     ]
    }
   ],
   "source": [
    "\n",
    "## Get All  Participants \n",
    "\n",
    "## Connect to DB\n",
    "db=_mysql.connect(host=\"christest.c5s5wgavsyu2.us-west-2.rds.amazonaws.com\",user=\"christest\",\n",
    "                  passwd=\"gags1313\",db=\"chrisdb\")\n",
    "\n",
    "db.query(\"\"\"SELECT column_name FROM information_schema.columns WHERE table_name = 'web_experiments_participant'\"\"\")\n",
    "r=db.store_result() # sends the whole results\n",
    "header = r.fetch_row(0)\n",
    "header = [hh[0] for hh in header]\n",
    "print(header)\n",
    "\n"
   ]
  },
  {
   "cell_type": "code",
   "execution_count": 76,
   "metadata": {
    "collapsed": false
   },
   "outputs": [
    {
     "name": "stdout",
     "output_type": "stream",
     "text": [
      "0\n",
      "(('146', 'A2GIYY77IUO78U', '2016-03-23 18:25:46', '1458757546', '5LN0WPZcIU', '0', '0', '4', 'survey_STAI_State,survey_STAT_Trait,survey_BDI,survey_MASQ', '10', 'TrjB', '358UUM7WR08E5LX85ZYN32901GO7R3', '31SIZS5W59KMOJ4TBW2RE9VE6NEQRC'),)\n",
      "1\n",
      "()\n",
      "2\n",
      "(('147', 'A2GIYY77IUO78U', '2016-03-23 18:26:18', '1458757578', 'iozDN2nq1M', '0', '0', '1', 'experiment_bandit_loss', '1', 'skw6', '336KAV9KYRXGGLCODI9MF7LPTNH2YK', '31JUPBOORN95FH9KKIOV661F6P3L86'),)\n"
     ]
    }
   ],
   "source": [
    "os.remove('participant_table.csv')\n",
    "with open('participant_table.csv', 'w') as csvfile:\n",
    "    writer = csv.writer(csvfile, delimiter=',',quotechar='\"', quoting=csv.QUOTE_MINIMAL)\n",
    "    writer.writerow(header)\n",
    "\n",
    "    for m,MID in enumerate(MIDs):\n",
    "        HID = HIDs[m]\n",
    "        db.query(\"\"\"SELECT * FROM web_experiments_participant WHERE (MID = '\"\"\"+str(MID)+\"\"\"') AND (HID = '\"\"\"+str(HID)+\"\"\"')\"\"\")\n",
    "        r=db.store_result() # sends the whole results\n",
    "        rows = r.fetch_row(100)\n",
    "        print(m)\n",
    "        print(rows)\n",
    "\n",
    "        if len(rows)>0:\n",
    "            writer.writerow([x for x in rows[0]])"
   ]
  },
  {
   "cell_type": "code",
   "execution_count": 77,
   "metadata": {
    "collapsed": false
   },
   "outputs": [
    {
     "data": {
      "text/html": [
       "<div>\n",
       "<table border=\"1\" class=\"dataframe\">\n",
       "  <thead>\n",
       "    <tr style=\"text-align: right;\">\n",
       "      <th></th>\n",
       "      <th>id</th>\n",
       "      <th>MID</th>\n",
       "      <th>start_date</th>\n",
       "      <th>start_time</th>\n",
       "      <th>completion_code</th>\n",
       "      <th>completed</th>\n",
       "      <th>progress</th>\n",
       "      <th>total_tasks</th>\n",
       "      <th>tasks</th>\n",
       "      <th>counterbalance</th>\n",
       "      <th>session_id</th>\n",
       "      <th>AID</th>\n",
       "      <th>HID</th>\n",
       "    </tr>\n",
       "  </thead>\n",
       "  <tbody>\n",
       "    <tr>\n",
       "      <th>0</th>\n",
       "      <td>146</td>\n",
       "      <td>A2GIYY77IUO78U</td>\n",
       "      <td>2016-03-23 18:25:46</td>\n",
       "      <td>1458757546</td>\n",
       "      <td>5LN0WPZcIU</td>\n",
       "      <td>0</td>\n",
       "      <td>0</td>\n",
       "      <td>4</td>\n",
       "      <td>survey_STAI_State,survey_STAT_Trait,survey_BDI...</td>\n",
       "      <td>10</td>\n",
       "      <td>TrjB</td>\n",
       "      <td>358UUM7WR08E5LX85ZYN32901GO7R3</td>\n",
       "      <td>31SIZS5W59KMOJ4TBW2RE9VE6NEQRC</td>\n",
       "    </tr>\n",
       "    <tr>\n",
       "      <th>1</th>\n",
       "      <td>147</td>\n",
       "      <td>A2GIYY77IUO78U</td>\n",
       "      <td>2016-03-23 18:26:18</td>\n",
       "      <td>1458757578</td>\n",
       "      <td>iozDN2nq1M</td>\n",
       "      <td>0</td>\n",
       "      <td>0</td>\n",
       "      <td>1</td>\n",
       "      <td>experiment_bandit_loss</td>\n",
       "      <td>1</td>\n",
       "      <td>skw6</td>\n",
       "      <td>336KAV9KYRXGGLCODI9MF7LPTNH2YK</td>\n",
       "      <td>31JUPBOORN95FH9KKIOV661F6P3L86</td>\n",
       "    </tr>\n",
       "  </tbody>\n",
       "</table>\n",
       "</div>"
      ],
      "text/plain": [
       "    id             MID           start_date  start_time completion_code  \\\n",
       "0  146  A2GIYY77IUO78U  2016-03-23 18:25:46  1458757546      5LN0WPZcIU   \n",
       "1  147  A2GIYY77IUO78U  2016-03-23 18:26:18  1458757578      iozDN2nq1M   \n",
       "\n",
       "   completed  progress  total_tasks  \\\n",
       "0          0         0            4   \n",
       "1          0         0            1   \n",
       "\n",
       "                                               tasks  counterbalance  \\\n",
       "0  survey_STAI_State,survey_STAT_Trait,survey_BDI...              10   \n",
       "1                             experiment_bandit_loss               1   \n",
       "\n",
       "  session_id                             AID                             HID  \n",
       "0       TrjB  358UUM7WR08E5LX85ZYN32901GO7R3  31SIZS5W59KMOJ4TBW2RE9VE6NEQRC  \n",
       "1       skw6  336KAV9KYRXGGLCODI9MF7LPTNH2YK  31JUPBOORN95FH9KKIOV661F6P3L86  "
      ]
     },
     "execution_count": 77,
     "metadata": {},
     "output_type": "execute_result"
    }
   ],
   "source": [
    "df = pd.read_csv('participant_table.csv')\n",
    "df"
   ]
  }
 ],
 "metadata": {
  "hide_input": false,
  "kernelspec": {
   "display_name": "Python 2",
   "language": "python",
   "name": "python2"
  },
  "language_info": {
   "codemirror_mode": {
    "name": "ipython",
    "version": 2
   },
   "file_extension": ".py",
   "mimetype": "text/x-python",
   "name": "python",
   "nbconvert_exporter": "python",
   "pygments_lexer": "ipython2",
   "version": "2.7.11"
  },
  "toc": {
   "toc_cell": false,
   "toc_number_sections": true,
   "toc_threshold": 4,
   "toc_window_display": false
  }
 },
 "nbformat": 4,
 "nbformat_minor": 0
}
