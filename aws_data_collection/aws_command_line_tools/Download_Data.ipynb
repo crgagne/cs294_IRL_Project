{
 "cells": [
  {
   "cell_type": "code",
   "execution_count": 2,
   "metadata": {
    "collapsed": false
   },
   "outputs": [],
   "source": [
    "import MySQLdb\n",
    "import _mysql\n",
    "import numpy as np\n",
    "import csv\n",
    "import pandas as pd"
   ]
  },
  {
   "cell_type": "code",
   "execution_count": 3,
   "metadata": {
    "collapsed": false
   },
   "outputs": [
    {
     "data": {
      "text/plain": [
       "(('id',),\n",
       " ('MID',),\n",
       " ('start_date',),\n",
       " ('start_time',),\n",
       " ('completion_code',),\n",
       " ('completed',),\n",
       " ('progress',),\n",
       " ('total_tasks',),\n",
       " ('bandit_schedule',),\n",
       " ('task_order',))"
      ]
     },
     "execution_count": 3,
     "metadata": {},
     "output_type": "execute_result"
    }
   ],
   "source": [
    "## Connect to DB\n",
    "db=_mysql.connect(host=\"christest.c5s5wgavsyu2.us-west-2.rds.amazonaws.com\",user=\"christest\",\n",
    "                  passwd=\"gags1313\",db=\"chrisdb\")\n",
    "\n",
    "db.query(\"\"\"SELECT column_name FROM information_schema.columns WHERE table_name = 'web_experiments_participant'\"\"\")\n",
    "r=db.store_result() # sends the whole results\n",
    "header = r.fetch_row(0)\n",
    "header"
   ]
  },
  {
   "cell_type": "markdown",
   "metadata": {},
   "source": [
    "## Get All Subjects that Did Horizon Gain Task"
   ]
  },
  {
   "cell_type": "code",
   "execution_count": 4,
   "metadata": {
    "collapsed": false
   },
   "outputs": [
    {
     "data": {
      "text/plain": [
       "array([], dtype=float64)"
      ]
     },
     "execution_count": 4,
     "metadata": {},
     "output_type": "execute_result"
    }
   ],
   "source": [
    "## Get All  Participants \n",
    "\n",
    "db.query(\"\"\"SELECT column_name FROM information_schema.columns WHERE table_name = 'web_experiments_participant'\"\"\")\n",
    "r=db.store_result() # sends the whole results\n",
    "header = r.fetch_row(0)\n",
    "\n",
    "db.query(\"\"\"SELECT * FROM web_experiments_participant\"\"\")\n",
    "r=db.store_result() # sends the whole results\n",
    "rows = r.fetch_row(1000)\n",
    "\n",
    "\n",
    "## Search for those with Horizon Gain Task ## \n",
    "\n",
    "## Write to CSV \n",
    "with open('data_raw/participant_table.csv', 'w') as csvfile:\n",
    "    writer = csv.writer(csvfile, delimiter=',',quotechar='\"', quoting=csv.QUOTE_MINIMAL)\n",
    "    writer.writerow([x[0] for x in header])\n",
    "\n",
    "    MIDS = np.array([])\n",
    "    for row in rows:\n",
    "        if \"bandit\" in row[-1]:\n",
    "            writer.writerow([x for x in row])\n",
    "            MIDS = np.append(MIDS,row[1])\n",
    "MIDS"
   ]
  },
  {
   "cell_type": "code",
   "execution_count": 19,
   "metadata": {
    "collapsed": false
   },
   "outputs": [
    {
     "data": {
      "text/plain": [
       "\"'MASQ', 'horizon_gain', 'horizon_loss'\""
      ]
     },
     "execution_count": 19,
     "metadata": {},
     "output_type": "execute_result"
    }
   ],
   "source": [
    "df = pd.read_csv('data_raw/participant_table.csv')\n",
    "df.task_order[0]"
   ]
  },
  {
   "cell_type": "markdown",
   "metadata": {},
   "source": [
    "## Download Each Subject"
   ]
  },
  {
   "cell_type": "code",
   "execution_count": 6,
   "metadata": {
    "collapsed": false
   },
   "outputs": [],
   "source": [
    "\n",
    "## Get Header Names\n",
    "db.query(\"\"\"SELECT column_name FROM information_schema.columns WHERE table_name = 'web_experiments_horizon_trial'\"\"\")\n",
    "r=db.store_result() # sends the whole results\n",
    "header = r.fetch_row(0)\n",
    "\n",
    "## Get Trials for Each Participant \n",
    "for MID in MIDS:\n",
    "    db.query(\"\"\"SELECT * FROM web_experiments_horizon_trial WHERE MID = '\"\"\"+str(MID)+\"\"\"' \"\"\")\n",
    "    r=db.store_result() # sends the whole results\n",
    "    rows = r.fetch_row(100)\n",
    "    \n",
    "    ## Write to CSV \n",
    "    with open('data_raw/'+MID+'.csv', 'w') as csvfile:\n",
    "        writer = csv.writer(csvfile, delimiter=',',quotechar='\"', quoting=csv.QUOTE_MINIMAL)\n",
    "        writer.writerow([x[0] for x in header])\n",
    "        for row in rows:\n",
    "\n",
    "            writer.writerow([x for x in row])\n"
   ]
  },
  {
   "cell_type": "markdown",
   "metadata": {},
   "source": [
    "## Load Example Subject"
   ]
  },
  {
   "cell_type": "code",
   "execution_count": 8,
   "metadata": {
    "collapsed": false
   },
   "outputs": [
    {
     "data": {
      "text/html": [
       "<div>\n",
       "<table border=\"1\" class=\"dataframe\">\n",
       "  <thead>\n",
       "    <tr style=\"text-align: right;\">\n",
       "      <th></th>\n",
       "      <th>id</th>\n",
       "      <th>MID</th>\n",
       "      <th>loss_or_reward</th>\n",
       "      <th>game_number</th>\n",
       "      <th>game_trial_number</th>\n",
       "      <th>start_date</th>\n",
       "      <th>trialstart</th>\n",
       "      <th>left_value</th>\n",
       "      <th>right_value</th>\n",
       "      <th>choice</th>\n",
       "      <th>fixed</th>\n",
       "      <th>reaction_time</th>\n",
       "      <th>totalpoints</th>\n",
       "    </tr>\n",
       "  </thead>\n",
       "  <tbody>\n",
       "    <tr>\n",
       "      <th>0</th>\n",
       "      <td>1</td>\n",
       "      <td>12</td>\n",
       "      <td>NaN</td>\n",
       "      <td>0</td>\n",
       "      <td>0</td>\n",
       "      <td>2016-03-04 06:59:13</td>\n",
       "      <td>1457074752370</td>\n",
       "      <td>43</td>\n",
       "      <td>34</td>\n",
       "      <td>0</td>\n",
       "      <td>0</td>\n",
       "      <td>789</td>\n",
       "      <td>43</td>\n",
       "    </tr>\n",
       "    <tr>\n",
       "      <th>1</th>\n",
       "      <td>2</td>\n",
       "      <td>12</td>\n",
       "      <td>NaN</td>\n",
       "      <td>0</td>\n",
       "      <td>1</td>\n",
       "      <td>2016-03-04 06:59:15</td>\n",
       "      <td>1457074753163</td>\n",
       "      <td>39</td>\n",
       "      <td>57</td>\n",
       "      <td>1</td>\n",
       "      <td>1</td>\n",
       "      <td>1699</td>\n",
       "      <td>100</td>\n",
       "    </tr>\n",
       "    <tr>\n",
       "      <th>2</th>\n",
       "      <td>3</td>\n",
       "      <td>12</td>\n",
       "      <td>NaN</td>\n",
       "      <td>0</td>\n",
       "      <td>2</td>\n",
       "      <td>2016-03-04 06:59:15</td>\n",
       "      <td>1457074754865</td>\n",
       "      <td>44</td>\n",
       "      <td>41</td>\n",
       "      <td>1</td>\n",
       "      <td>1</td>\n",
       "      <td>542</td>\n",
       "      <td>141</td>\n",
       "    </tr>\n",
       "    <tr>\n",
       "      <th>3</th>\n",
       "      <td>4</td>\n",
       "      <td>12</td>\n",
       "      <td>NaN</td>\n",
       "      <td>0</td>\n",
       "      <td>3</td>\n",
       "      <td>2016-03-04 06:59:16</td>\n",
       "      <td>1457074755409</td>\n",
       "      <td>40</td>\n",
       "      <td>54</td>\n",
       "      <td>0</td>\n",
       "      <td>0</td>\n",
       "      <td>790</td>\n",
       "      <td>181</td>\n",
       "    </tr>\n",
       "    <tr>\n",
       "      <th>4</th>\n",
       "      <td>5</td>\n",
       "      <td>12</td>\n",
       "      <td>NaN</td>\n",
       "      <td>0</td>\n",
       "      <td>4</td>\n",
       "      <td>2016-03-04 06:59:17</td>\n",
       "      <td>1457074756201</td>\n",
       "      <td>33</td>\n",
       "      <td>48</td>\n",
       "      <td>1</td>\n",
       "      <td>2</td>\n",
       "      <td>617</td>\n",
       "      <td>229</td>\n",
       "    </tr>\n",
       "  </tbody>\n",
       "</table>\n",
       "</div>"
      ],
      "text/plain": [
       "   id  MID loss_or_reward  game_number  game_trial_number  \\\n",
       "0   1   12            NaN            0                  0   \n",
       "1   2   12            NaN            0                  1   \n",
       "2   3   12            NaN            0                  2   \n",
       "3   4   12            NaN            0                  3   \n",
       "4   5   12            NaN            0                  4   \n",
       "\n",
       "            start_date     trialstart  left_value  right_value  choice  fixed  \\\n",
       "0  2016-03-04 06:59:13  1457074752370          43           34       0      0   \n",
       "1  2016-03-04 06:59:15  1457074753163          39           57       1      1   \n",
       "2  2016-03-04 06:59:15  1457074754865          44           41       1      1   \n",
       "3  2016-03-04 06:59:16  1457074755409          40           54       0      0   \n",
       "4  2016-03-04 06:59:17  1457074756201          33           48       1      2   \n",
       "\n",
       "   reaction_time  totalpoints  \n",
       "0            789           43  \n",
       "1           1699          100  \n",
       "2            542          141  \n",
       "3            790          181  \n",
       "4            617          229  "
      ]
     },
     "execution_count": 8,
     "metadata": {},
     "output_type": "execute_result"
    }
   ],
   "source": [
    "\n",
    "df = pd.read_csv('data_raw/'+MID+'.csv')\n",
    "df.head()"
   ]
  },
  {
   "cell_type": "code",
   "execution_count": 52,
   "metadata": {
    "collapsed": false
   },
   "outputs": [
    {
     "data": {
      "text/plain": [
       "'2016-03-04 06:59:13'"
      ]
     },
     "execution_count": 52,
     "metadata": {},
     "output_type": "execute_result"
    }
   ],
   "source": [
    "df.loc[0,'start_date']\n"
   ]
  },
  {
   "cell_type": "code",
   "execution_count": 9,
   "metadata": {
    "collapsed": false
   },
   "outputs": [
    {
     "name": "stdout",
     "output_type": "stream",
     "text": [
      "2016-03-04 06:59:13\n"
     ]
    },
    {
     "data": {
      "text/plain": [
       "4"
      ]
     },
     "execution_count": 9,
     "metadata": {},
     "output_type": "execute_result"
    }
   ],
   "source": [
    "## get date-time \n",
    "from dateutil.parser import parse\n",
    "from datetime import datetime\n",
    "\n",
    "dt = parse(df.loc[0,'start_date'])\n",
    "print(dt)\n",
    "dt.day"
   ]
  }
 ],
 "metadata": {
  "hide_input": false,
  "kernelspec": {
   "display_name": "Python 2",
   "language": "python",
   "name": "python2"
  },
  "language_info": {
   "codemirror_mode": {
    "name": "ipython",
    "version": 2
   },
   "file_extension": ".py",
   "mimetype": "text/x-python",
   "name": "python",
   "nbconvert_exporter": "python",
   "pygments_lexer": "ipython2",
   "version": "2.7.11"
  },
  "toc": {
   "toc_cell": false,
   "toc_number_sections": true,
   "toc_threshold": 4,
   "toc_window_display": false
  }
 },
 "nbformat": 4,
 "nbformat_minor": 0
}
